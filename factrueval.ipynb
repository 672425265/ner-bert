{
 "cells": [
  {
   "cell_type": "markdown",
   "metadata": {},
   "source": [
    "### FactRuEval example (Cased model), MutiHeadAttention"
   ]
  },
  {
   "cell_type": "code",
   "execution_count": 1,
   "metadata": {},
   "outputs": [],
   "source": [
    "%reload_ext autoreload\n",
    "%autoreload 2\n",
    "%matplotlib inline\n",
    "\n",
    "import warnings\n",
    "\n",
    "warnings.filterwarnings(\"ignore\")"
   ]
  },
  {
   "cell_type": "code",
   "execution_count": 2,
   "metadata": {},
   "outputs": [],
   "source": [
    "import os\n",
    "\n",
    "\n",
    "data_path = \"/home/lis/ner/ulmfit/data/factrueval/\"\n",
    "train_path = os.path.join(data_path, \"train_with_pos.csv\")\n",
    "valid_path = os.path.join(data_path, \"valid_with_pos.csv\")\n",
    "model_dir = \" /datadrive/models/multi_cased_L-12_H-768_A-12/\"\n",
    "init_checkpoint_pt = os.path.join(\"/datadrive/models/multi_cased_L-12_H-768_A-12/\", \"pytorch_model.bin\")\n",
    "bert_config_file = os.path.join(\"/datadrive/bert/multi_cased_L-12_H-768_A-12/\", \"bert_config.json\")\n",
    "vocab_file = os.path.join(\"/datadrive/bert/multi_cased_L-12_H-768_A-12/\", \"vocab.txt\")"
   ]
  },
  {
   "cell_type": "code",
   "execution_count": 3,
   "metadata": {},
   "outputs": [
    {
     "data": {
      "text/plain": [
       "(True, 1)"
      ]
     },
     "execution_count": 3,
     "metadata": {},
     "output_type": "execute_result"
    }
   ],
   "source": [
    "import torch\n",
    "torch.cuda.set_device(1)\n",
    "torch.cuda.is_available(), torch.cuda.current_device()"
   ]
  },
  {
   "cell_type": "markdown",
   "metadata": {},
   "source": [
    "### 1. Create dataloaders"
   ]
  },
  {
   "cell_type": "code",
   "execution_count": 5,
   "metadata": {},
   "outputs": [
    {
     "name": "stderr",
     "output_type": "stream",
     "text": [
      "INFO:summarizer.preprocessing.cleaner:'pattern' package not found; tag filters are not available for English\n"
     ]
    }
   ],
   "source": [
    "from modules import NerData"
   ]
  },
  {
   "cell_type": "code",
   "execution_count": 6,
   "metadata": {},
   "outputs": [],
   "source": [
    "data = NerData.create(train_path, valid_path, vocab_file)"
   ]
  },
  {
   "cell_type": "markdown",
   "metadata": {},
   "source": [
    "For factrueval we use the following sample of labels:"
   ]
  },
  {
   "cell_type": "code",
   "execution_count": 7,
   "metadata": {},
   "outputs": [
    {
     "name": "stdout",
     "output_type": "stream",
     "text": [
      "{'<pad>': 0, '[CLS]': 1, '[SEP]': 2, 'B_O': 3, 'I_O': 4, 'B_ORG': 5, 'I_ORG': 6, 'B_LOC': 7, 'I_LOC': 8, 'B_PER': 9, 'I_PER': 10}\n"
     ]
    }
   ],
   "source": [
    "print(data.label2idx)"
   ]
  },
  {
   "cell_type": "markdown",
   "metadata": {},
   "source": [
    "### 2. Create model\n",
    "For creating pytorch model we need to create `NerModel` object."
   ]
  },
  {
   "cell_type": "code",
   "execution_count": 25,
   "metadata": {},
   "outputs": [],
   "source": [
    "from modules.models.models import BertBiLSTMAttnCRF"
   ]
  },
  {
   "cell_type": "code",
   "execution_count": 26,
   "metadata": {},
   "outputs": [],
   "source": [
    "model = BertBiLSTMAttnCRF.create(len(data.label2idx), bert_config_file, init_checkpoint_pt, enc_hidden_dim=256)"
   ]
  },
  {
   "cell_type": "code",
   "execution_count": 27,
   "metadata": {},
   "outputs": [
    {
     "data": {
      "text/plain": [
       "AttnCRFDecoder(\n",
       "  (attn): MultiHeadAttention(\n",
       "    (attention): _MultiHeadAttention(\n",
       "      (attention): ScaledDotProductAttention(\n",
       "        (softmax): Softmax()\n",
       "        (dropout): Dropout(p=0.5)\n",
       "      )\n",
       "    )\n",
       "    (proj): Linear(in_features=192, out_features=256, bias=True)\n",
       "    (dropout): Dropout(p=0.5)\n",
       "    (layer_norm): LayerNormalization()\n",
       "  )\n",
       "  (linear): Linears(\n",
       "    (linears): ModuleList(\n",
       "      (0): Linear(in_features=256, out_features=128, bias=True)\n",
       "    )\n",
       "    (output_linear): Linear(in_features=128, out_features=11, bias=True)\n",
       "  )\n",
       "  (crf): CRF()\n",
       ")"
      ]
     },
     "execution_count": 27,
     "metadata": {},
     "output_type": "execute_result"
    }
   ],
   "source": [
    "model.decoder"
   ]
  },
  {
   "cell_type": "code",
   "execution_count": 28,
   "metadata": {},
   "outputs": [
    {
     "data": {
      "text/plain": [
       "1151425"
      ]
     },
     "execution_count": 28,
     "metadata": {},
     "output_type": "execute_result"
    }
   ],
   "source": [
    "model.get_n_trainable_params()"
   ]
  },
  {
   "cell_type": "markdown",
   "metadata": {},
   "source": [
    "### 3. Create learner\n",
    "\n",
    "For training our pytorch model we need to create `NerLearner` object."
   ]
  },
  {
   "cell_type": "code",
   "execution_count": 29,
   "metadata": {},
   "outputs": [],
   "source": [
    "from modules import NerLearner"
   ]
  },
  {
   "cell_type": "code",
   "execution_count": 30,
   "metadata": {},
   "outputs": [
    {
     "name": "stderr",
     "output_type": "stream",
     "text": [
      "INFO:root:Use lr OneCycleScheduler...\n"
     ]
    }
   ],
   "source": [
    "learner = NerLearner(model, data,\n",
    "                     best_model_path=\"/datadrive/models/factrueval/exp_final_attn_cased.cpt\",\n",
    "                     base_lr=0.0001, lr_max=0.005, clip=5.0, use_lr_scheduler=True, sup_labels=data.id2label[5:])"
   ]
  },
  {
   "cell_type": "markdown",
   "metadata": {},
   "source": [
    "### 4. Learn your NER model\n",
    "Call `learner.fit`"
   ]
  },
  {
   "cell_type": "code",
   "execution_count": 31,
   "metadata": {
    "scrolled": true
   },
   "outputs": [
    {
     "name": "stderr",
     "output_type": "stream",
     "text": [
      "INFO:root:Resuming train... Current epoch 0.\n"
     ]
    },
    {
     "data": {
      "application/vnd.jupyter.widget-view+json": {
       "model_id": "",
       "version_major": 2,
       "version_minor": 0
      },
      "text/plain": [
       "HBox(children=(IntProgress(value=0, max=233), HTML(value='')))"
      ]
     },
     "metadata": {},
     "output_type": "display_data"
    },
    {
     "name": "stderr",
     "output_type": "stream",
     "text": [
      "INFO:root:\n",
      "lr after epoch: 0.004996961373853585\n",
      "INFO:root:\n",
      "epoch 1, average train epoch loss=7.4822\n",
      "\n"
     ]
    },
    {
     "name": "stdout",
     "output_type": "stream",
     "text": [
      "\r"
     ]
    },
    {
     "data": {
      "application/vnd.jupyter.widget-view+json": {
       "model_id": "",
       "version_major": 2,
       "version_minor": 0
      },
      "text/plain": [
       "HBox(children=(IntProgress(value=0, max=26), HTML(value='')))"
      ]
     },
     "metadata": {},
     "output_type": "display_data"
    },
    {
     "name": "stdout",
     "output_type": "stream",
     "text": [
      "\r"
     ]
    },
    {
     "name": "stderr",
     "output_type": "stream",
     "text": [
      "INFO:root:on epoch 0 by max_prec: 0.839\n",
      "INFO:root:Saving new best model...\n"
     ]
    },
    {
     "name": "stdout",
     "output_type": "stream",
     "text": [
      "              precision    recall  f1-score   support\n",
      "\n",
      "       B_ORG      0.790     0.784     0.787       259\n",
      "       I_ORG      0.823     0.846     0.834      1000\n",
      "       B_LOC      0.780     0.885     0.829       192\n",
      "       I_LOC      0.709     0.884     0.787       303\n",
      "       B_PER      0.963     0.957     0.960       188\n",
      "       I_PER      0.972     0.961     0.967       649\n",
      "\n",
      "   micro avg      0.845     0.884     0.864      2591\n",
      "   macro avg      0.839     0.886     0.861      2591\n",
      "weighted avg      0.851     0.884     0.866      2591\n",
      "\n"
     ]
    },
    {
     "data": {
      "application/vnd.jupyter.widget-view+json": {
       "model_id": "",
       "version_major": 2,
       "version_minor": 0
      },
      "text/plain": [
       "HBox(children=(IntProgress(value=0, max=233), HTML(value='')))"
      ]
     },
     "metadata": {},
     "output_type": "display_data"
    },
    {
     "name": "stderr",
     "output_type": "stream",
     "text": [
      "INFO:root:\n",
      "lr after epoch: 0.004987808013925702\n",
      "INFO:root:\n",
      "epoch 2, average train epoch loss=2.1233\n",
      "\n"
     ]
    },
    {
     "name": "stdout",
     "output_type": "stream",
     "text": [
      "\r"
     ]
    },
    {
     "data": {
      "application/vnd.jupyter.widget-view+json": {
       "model_id": "",
       "version_major": 2,
       "version_minor": 0
      },
      "text/plain": [
       "HBox(children=(IntProgress(value=0, max=26), HTML(value='')))"
      ]
     },
     "metadata": {},
     "output_type": "display_data"
    },
    {
     "name": "stderr",
     "output_type": "stream",
     "text": [
      "INFO:root:on epoch 1 by max_prec: 0.914\n",
      "INFO:root:Saving new best model...\n"
     ]
    },
    {
     "name": "stdout",
     "output_type": "stream",
     "text": [
      "\r",
      "              precision    recall  f1-score   support\n",
      "\n",
      "       B_ORG      0.855     0.822     0.839       259\n",
      "       I_ORG      0.908     0.774     0.836      1000\n",
      "       B_LOC      0.928     0.807     0.864       192\n",
      "       I_LOC      0.881     0.785     0.831       303\n",
      "       B_PER      0.953     0.963     0.958       188\n",
      "       I_PER      0.960     0.966     0.963       649\n",
      "\n",
      "   micro avg      0.919     0.844     0.880      2591\n",
      "   macro avg      0.914     0.853     0.882      2591\n",
      "weighted avg      0.918     0.844     0.878      2591\n",
      "\n"
     ]
    },
    {
     "data": {
      "application/vnd.jupyter.widget-view+json": {
       "model_id": "",
       "version_major": 2,
       "version_minor": 0
      },
      "text/plain": [
       "HBox(children=(IntProgress(value=0, max=233), HTML(value='')))"
      ]
     },
     "metadata": {},
     "output_type": "display_data"
    },
    {
     "name": "stderr",
     "output_type": "stream",
     "text": [
      "INFO:root:\n",
      "lr after epoch: 0.0049725623528352105\n",
      "INFO:root:\n",
      "epoch 3, average train epoch loss=1.3162\n",
      "\n"
     ]
    },
    {
     "name": "stdout",
     "output_type": "stream",
     "text": [
      "\r"
     ]
    },
    {
     "data": {
      "application/vnd.jupyter.widget-view+json": {
       "model_id": "",
       "version_major": 2,
       "version_minor": 0
      },
      "text/plain": [
       "HBox(children=(IntProgress(value=0, max=26), HTML(value='')))"
      ]
     },
     "metadata": {},
     "output_type": "display_data"
    },
    {
     "name": "stderr",
     "output_type": "stream",
     "text": [
      "INFO:root:on epoch 1 by max_prec: 0.914\n"
     ]
    },
    {
     "name": "stdout",
     "output_type": "stream",
     "text": [
      "\r",
      "              precision    recall  f1-score   support\n",
      "\n",
      "       B_ORG      0.833     0.788     0.810       259\n",
      "       I_ORG      0.880     0.835     0.857      1000\n",
      "       B_LOC      0.819     0.896     0.856       192\n",
      "       I_LOC      0.749     0.875     0.807       303\n",
      "       B_PER      0.967     0.947     0.957       188\n",
      "       I_PER      0.979     0.955     0.967       649\n",
      "\n",
      "   micro avg      0.883     0.878     0.880      2591\n",
      "   macro avg      0.871     0.883     0.876      2591\n",
      "weighted avg      0.887     0.878     0.881      2591\n",
      "\n"
     ]
    },
    {
     "data": {
      "application/vnd.jupyter.widget-view+json": {
       "model_id": "",
       "version_major": 2,
       "version_minor": 0
      },
      "text/plain": [
       "HBox(children=(IntProgress(value=0, max=233), HTML(value='')))"
      ]
     },
     "metadata": {},
     "output_type": "display_data"
    },
    {
     "name": "stderr",
     "output_type": "stream",
     "text": [
      "INFO:root:\n",
      "lr after epoch: 0.004951246806204029\n",
      "INFO:root:\n",
      "epoch 4, average train epoch loss=1.0384\n",
      "\n"
     ]
    },
    {
     "name": "stdout",
     "output_type": "stream",
     "text": [
      "\r"
     ]
    },
    {
     "data": {
      "application/vnd.jupyter.widget-view+json": {
       "model_id": "",
       "version_major": 2,
       "version_minor": 0
      },
      "text/plain": [
       "HBox(children=(IntProgress(value=0, max=26), HTML(value='')))"
      ]
     },
     "metadata": {},
     "output_type": "display_data"
    },
    {
     "name": "stderr",
     "output_type": "stream",
     "text": [
      "INFO:root:on epoch 1 by max_prec: 0.914\n"
     ]
    },
    {
     "name": "stdout",
     "output_type": "stream",
     "text": [
      "\r",
      "              precision    recall  f1-score   support\n",
      "\n",
      "       B_ORG      0.902     0.710     0.795       259\n",
      "       I_ORG      0.976     0.699     0.815      1000\n",
      "       B_LOC      0.867     0.885     0.876       192\n",
      "       I_LOC      0.734     0.894     0.807       303\n",
      "       B_PER      0.973     0.957     0.965       188\n",
      "       I_PER      0.978     0.963     0.970       649\n",
      "\n",
      "   micro avg      0.922     0.822     0.869      2591\n",
      "   macro avg      0.905     0.852     0.871      2591\n",
      "weighted avg      0.933     0.822     0.866      2591\n",
      "\n"
     ]
    },
    {
     "data": {
      "application/vnd.jupyter.widget-view+json": {
       "model_id": "",
       "version_major": 2,
       "version_minor": 0
      },
      "text/plain": [
       "HBox(children=(IntProgress(value=0, max=233), HTML(value='')))"
      ]
     },
     "metadata": {},
     "output_type": "display_data"
    },
    {
     "name": "stderr",
     "output_type": "stream",
     "text": [
      "INFO:root:\n",
      "lr after epoch: 0.004954225602620964\n",
      "INFO:root:\n",
      "epoch 5, average train epoch loss=0.75006\n",
      "\n"
     ]
    },
    {
     "name": "stdout",
     "output_type": "stream",
     "text": [
      "\r"
     ]
    },
    {
     "data": {
      "application/vnd.jupyter.widget-view+json": {
       "model_id": "",
       "version_major": 2,
       "version_minor": 0
      },
      "text/plain": [
       "HBox(children=(IntProgress(value=0, max=26), HTML(value='')))"
      ]
     },
     "metadata": {},
     "output_type": "display_data"
    },
    {
     "name": "stderr",
     "output_type": "stream",
     "text": [
      "INFO:root:on epoch 1 by max_prec: 0.914\n"
     ]
    },
    {
     "name": "stdout",
     "output_type": "stream",
     "text": [
      "\r",
      "              precision    recall  f1-score   support\n",
      "\n",
      "       B_ORG      0.830     0.849     0.840       259\n",
      "       I_ORG      0.886     0.835     0.860      1000\n",
      "       B_LOC      0.866     0.906     0.885       192\n",
      "       I_LOC      0.850     0.878     0.864       303\n",
      "       B_PER      0.933     0.968     0.950       188\n",
      "       I_PER      0.949     0.969     0.959       649\n",
      "\n",
      "   micro avg      0.894     0.890     0.892      2591\n",
      "   macro avg      0.886     0.901     0.893      2591\n",
      "weighted avg      0.894     0.890     0.892      2591\n",
      "\n"
     ]
    },
    {
     "data": {
      "application/vnd.jupyter.widget-view+json": {
       "model_id": "",
       "version_major": 2,
       "version_minor": 0
      },
      "text/plain": [
       "HBox(children=(IntProgress(value=0, max=233), HTML(value='')))"
      ]
     },
     "metadata": {},
     "output_type": "display_data"
    },
    {
     "name": "stderr",
     "output_type": "stream",
     "text": [
      "INFO:root:\n",
      "lr after epoch: 0.0049633939367517916\n",
      "INFO:root:\n",
      "epoch 6, average train epoch loss=0.64032\n",
      "\n"
     ]
    },
    {
     "name": "stdout",
     "output_type": "stream",
     "text": [
      "\r"
     ]
    },
    {
     "data": {
      "application/vnd.jupyter.widget-view+json": {
       "model_id": "",
       "version_major": 2,
       "version_minor": 0
      },
      "text/plain": [
       "HBox(children=(IntProgress(value=0, max=26), HTML(value='')))"
      ]
     },
     "metadata": {},
     "output_type": "display_data"
    },
    {
     "name": "stderr",
     "output_type": "stream",
     "text": [
      "INFO:root:on epoch 1 by max_prec: 0.914\n"
     ]
    },
    {
     "name": "stdout",
     "output_type": "stream",
     "text": [
      "\r",
      "              precision    recall  f1-score   support\n",
      "\n",
      "       B_ORG      0.849     0.849     0.849       259\n",
      "       I_ORG      0.927     0.823     0.872      1000\n",
      "       B_LOC      0.880     0.880     0.880       192\n",
      "       I_LOC      0.802     0.881     0.840       303\n",
      "       B_PER      0.957     0.957     0.957       188\n",
      "       I_PER      0.972     0.958     0.965       649\n",
      "\n",
      "   micro avg      0.912     0.880     0.896      2591\n",
      "   macro avg      0.898     0.892     0.894      2591\n",
      "weighted avg      0.915     0.880     0.896      2591\n",
      "\n"
     ]
    },
    {
     "data": {
      "application/vnd.jupyter.widget-view+json": {
       "model_id": "",
       "version_major": 2,
       "version_minor": 0
      },
      "text/plain": [
       "HBox(children=(IntProgress(value=0, max=233), HTML(value='')))"
      ]
     },
     "metadata": {},
     "output_type": "display_data"
    },
    {
     "name": "stderr",
     "output_type": "stream",
     "text": [
      "INFO:root:\n",
      "lr after epoch: 0.004978624733263732\n",
      "INFO:root:\n",
      "epoch 7, average train epoch loss=0.57947\n",
      "\n"
     ]
    },
    {
     "name": "stdout",
     "output_type": "stream",
     "text": [
      "\r"
     ]
    },
    {
     "data": {
      "application/vnd.jupyter.widget-view+json": {
       "model_id": "",
       "version_major": 2,
       "version_minor": 0
      },
      "text/plain": [
       "HBox(children=(IntProgress(value=0, max=26), HTML(value='')))"
      ]
     },
     "metadata": {},
     "output_type": "display_data"
    },
    {
     "name": "stderr",
     "output_type": "stream",
     "text": [
      "INFO:root:on epoch 1 by max_prec: 0.914\n"
     ]
    },
    {
     "name": "stdout",
     "output_type": "stream",
     "text": [
      "\r",
      "              precision    recall  f1-score   support\n",
      "\n",
      "       B_ORG      0.747     0.857     0.799       259\n",
      "       I_ORG      0.752     0.901     0.820      1000\n",
      "       B_LOC      0.952     0.833     0.889       192\n",
      "       I_LOC      0.962     0.677     0.795       303\n",
      "       B_PER      0.973     0.947     0.960       188\n",
      "       I_PER      0.970     0.954     0.962       649\n",
      "\n",
      "   micro avg      0.847     0.882     0.864      2591\n",
      "   macro avg      0.893     0.861     0.871      2591\n",
      "weighted avg      0.862     0.882     0.866      2591\n",
      "\n"
     ]
    },
    {
     "data": {
      "application/vnd.jupyter.widget-view+json": {
       "model_id": "",
       "version_major": 2,
       "version_minor": 0
      },
      "text/plain": [
       "HBox(children=(IntProgress(value=0, max=233), HTML(value='')))"
      ]
     },
     "metadata": {},
     "output_type": "display_data"
    },
    {
     "name": "stderr",
     "output_type": "stream",
     "text": [
      "INFO:root:\n",
      "lr after epoch: 0.004999895722767617\n",
      "INFO:root:\n",
      "epoch 8, average train epoch loss=0.50095\n",
      "\n"
     ]
    },
    {
     "name": "stdout",
     "output_type": "stream",
     "text": [
      "\r"
     ]
    },
    {
     "data": {
      "application/vnd.jupyter.widget-view+json": {
       "model_id": "",
       "version_major": 2,
       "version_minor": 0
      },
      "text/plain": [
       "HBox(children=(IntProgress(value=0, max=26), HTML(value='')))"
      ]
     },
     "metadata": {},
     "output_type": "display_data"
    },
    {
     "name": "stderr",
     "output_type": "stream",
     "text": [
      "INFO:root:on epoch 1 by max_prec: 0.914\n"
     ]
    },
    {
     "name": "stdout",
     "output_type": "stream",
     "text": [
      "\r",
      "              precision    recall  f1-score   support\n",
      "\n",
      "       B_ORG      0.867     0.780     0.821       259\n",
      "       I_ORG      0.938     0.756     0.837      1000\n",
      "       B_LOC      0.878     0.901     0.889       192\n",
      "       I_LOC      0.869     0.851     0.860       303\n",
      "       B_PER      0.963     0.963     0.963       188\n",
      "       I_PER      0.969     0.965     0.967       649\n",
      "\n",
      "   micro avg      0.928     0.848     0.886      2591\n",
      "   macro avg      0.914     0.869     0.890      2591\n",
      "weighted avg      0.928     0.848     0.884      2591\n",
      "\n"
     ]
    },
    {
     "data": {
      "application/vnd.jupyter.widget-view+json": {
       "model_id": "",
       "version_major": 2,
       "version_minor": 0
      },
      "text/plain": [
       "HBox(children=(IntProgress(value=0, max=233), HTML(value='')))"
      ]
     },
     "metadata": {},
     "output_type": "display_data"
    },
    {
     "name": "stderr",
     "output_type": "stream",
     "text": [
      "INFO:root:\n",
      "lr after epoch: 0.004972815291367641\n",
      "INFO:root:\n",
      "epoch 9, average train epoch loss=0.58074\n",
      "\n"
     ]
    },
    {
     "name": "stdout",
     "output_type": "stream",
     "text": [
      "\r"
     ]
    },
    {
     "data": {
      "application/vnd.jupyter.widget-view+json": {
       "model_id": "",
       "version_major": 2,
       "version_minor": 0
      },
      "text/plain": [
       "HBox(children=(IntProgress(value=0, max=26), HTML(value='')))"
      ]
     },
     "metadata": {},
     "output_type": "display_data"
    },
    {
     "name": "stderr",
     "output_type": "stream",
     "text": [
      "INFO:root:on epoch 8 by max_prec: 0.92\n",
      "INFO:root:Saving new best model...\n"
     ]
    },
    {
     "name": "stdout",
     "output_type": "stream",
     "text": [
      "\r",
      "              precision    recall  f1-score   support\n",
      "\n",
      "       B_ORG      0.822     0.853     0.837       259\n",
      "       I_ORG      0.853     0.888     0.870      1000\n",
      "       B_LOC      0.927     0.854     0.889       192\n",
      "       I_LOC      0.948     0.776     0.853       303\n",
      "       B_PER      0.978     0.957     0.968       188\n",
      "       I_PER      0.990     0.957     0.973       649\n",
      "\n",
      "   micro avg      0.907     0.891     0.899      2591\n",
      "   macro avg      0.920     0.881     0.898      2591\n",
      "weighted avg      0.910     0.891     0.899      2591\n",
      "\n"
     ]
    },
    {
     "data": {
      "application/vnd.jupyter.widget-view+json": {
       "model_id": "",
       "version_major": 2,
       "version_minor": 0
      },
      "text/plain": [
       "HBox(children=(IntProgress(value=0, max=233), HTML(value='')))"
      ]
     },
     "metadata": {},
     "output_type": "display_data"
    },
    {
     "name": "stderr",
     "output_type": "stream",
     "text": [
      "INFO:root:\n",
      "lr after epoch: 0.004939530433237968\n",
      "INFO:root:\n",
      "epoch 10, average train epoch loss=0.32962\n",
      "\n"
     ]
    },
    {
     "name": "stdout",
     "output_type": "stream",
     "text": [
      "\r"
     ]
    },
    {
     "data": {
      "application/vnd.jupyter.widget-view+json": {
       "model_id": "",
       "version_major": 2,
       "version_minor": 0
      },
      "text/plain": [
       "HBox(children=(IntProgress(value=0, max=26), HTML(value='')))"
      ]
     },
     "metadata": {},
     "output_type": "display_data"
    },
    {
     "name": "stderr",
     "output_type": "stream",
     "text": [
      "INFO:root:on epoch 8 by max_prec: 0.92\n"
     ]
    },
    {
     "name": "stdout",
     "output_type": "stream",
     "text": [
      "\r",
      "              precision    recall  f1-score   support\n",
      "\n",
      "       B_ORG      0.813     0.892     0.851       259\n",
      "       I_ORG      0.863     0.880     0.871      1000\n",
      "       B_LOC      0.904     0.885     0.895       192\n",
      "       I_LOC      0.901     0.812     0.854       303\n",
      "       B_PER      0.973     0.963     0.968       188\n",
      "       I_PER      0.972     0.966     0.969       649\n",
      "\n",
      "   micro avg      0.899     0.901     0.900      2591\n",
      "   macro avg      0.904     0.900     0.901      2591\n",
      "weighted avg      0.901     0.901     0.900      2591\n",
      "\n"
     ]
    },
    {
     "data": {
      "application/vnd.jupyter.widget-view+json": {
       "model_id": "",
       "version_major": 2,
       "version_minor": 0
      },
      "text/plain": [
       "HBox(children=(IntProgress(value=0, max=233), HTML(value='')))"
      ]
     },
     "metadata": {},
     "output_type": "display_data"
    },
    {
     "name": "stderr",
     "output_type": "stream",
     "text": [
      "INFO:root:\n",
      "lr after epoch: 0.004900271754626379\n",
      "INFO:root:\n",
      "epoch 11, average train epoch loss=0.4626\n",
      "\n"
     ]
    },
    {
     "name": "stdout",
     "output_type": "stream",
     "text": [
      "\r"
     ]
    },
    {
     "data": {
      "application/vnd.jupyter.widget-view+json": {
       "model_id": "",
       "version_major": 2,
       "version_minor": 0
      },
      "text/plain": [
       "HBox(children=(IntProgress(value=0, max=26), HTML(value='')))"
      ]
     },
     "metadata": {},
     "output_type": "display_data"
    },
    {
     "name": "stderr",
     "output_type": "stream",
     "text": [
      "INFO:root:on epoch 8 by max_prec: 0.92\n"
     ]
    },
    {
     "name": "stdout",
     "output_type": "stream",
     "text": [
      "\r",
      "              precision    recall  f1-score   support\n",
      "\n",
      "       B_ORG      0.827     0.865     0.845       259\n",
      "       I_ORG      0.907     0.848     0.876      1000\n",
      "       B_LOC      0.899     0.885     0.892       192\n",
      "       I_LOC      0.884     0.851     0.867       303\n",
      "       B_PER      0.984     0.973     0.979       188\n",
      "       I_PER      0.984     0.974     0.979       649\n",
      "\n",
      "   micro avg      0.920     0.893     0.907      2591\n",
      "   macro avg      0.914     0.899     0.907      2591\n",
      "weighted avg      0.921     0.893     0.907      2591\n",
      "\n"
     ]
    },
    {
     "data": {
      "application/vnd.jupyter.widget-view+json": {
       "model_id": "",
       "version_major": 2,
       "version_minor": 0
      },
      "text/plain": [
       "HBox(children=(IntProgress(value=0, max=233), HTML(value='')))"
      ]
     },
     "metadata": {},
     "output_type": "display_data"
    },
    {
     "name": "stderr",
     "output_type": "stream",
     "text": [
      "INFO:root:\n",
      "lr after epoch: 0.0048550612352245785\n",
      "INFO:root:\n",
      "epoch 12, average train epoch loss=0.30674\n",
      "\n"
     ]
    },
    {
     "name": "stdout",
     "output_type": "stream",
     "text": [
      "\r"
     ]
    },
    {
     "data": {
      "application/vnd.jupyter.widget-view+json": {
       "model_id": "",
       "version_major": 2,
       "version_minor": 0
      },
      "text/plain": [
       "HBox(children=(IntProgress(value=0, max=26), HTML(value='')))"
      ]
     },
     "metadata": {},
     "output_type": "display_data"
    },
    {
     "name": "stderr",
     "output_type": "stream",
     "text": [
      "INFO:root:on epoch 8 by max_prec: 0.92\n"
     ]
    },
    {
     "name": "stdout",
     "output_type": "stream",
     "text": [
      "\r",
      "              precision    recall  f1-score   support\n",
      "\n",
      "       B_ORG      0.841     0.776     0.807       259\n",
      "       I_ORG      0.900     0.789     0.841      1000\n",
      "       B_LOC      0.891     0.891     0.891       192\n",
      "       I_LOC      0.824     0.881     0.852       303\n",
      "       B_PER      0.978     0.963     0.971       188\n",
      "       I_PER      0.977     0.971     0.974       649\n",
      "\n",
      "   micro avg      0.909     0.864     0.886      2591\n",
      "   macro avg      0.902     0.878     0.889      2591\n",
      "weighted avg      0.909     0.864     0.885      2591\n",
      "\n"
     ]
    },
    {
     "data": {
      "application/vnd.jupyter.widget-view+json": {
       "model_id": "",
       "version_major": 2,
       "version_minor": 0
      },
      "text/plain": [
       "HBox(children=(IntProgress(value=0, max=233), HTML(value='')))"
      ]
     },
     "metadata": {},
     "output_type": "display_data"
    },
    {
     "name": "stderr",
     "output_type": "stream",
     "text": [
      "INFO:root:\n",
      "lr after epoch: 0.004882082945015239\n",
      "INFO:root:\n",
      "epoch 13, average train epoch loss=0.33275\n",
      "\n"
     ]
    },
    {
     "name": "stdout",
     "output_type": "stream",
     "text": [
      "\r"
     ]
    },
    {
     "data": {
      "application/vnd.jupyter.widget-view+json": {
       "model_id": "",
       "version_major": 2,
       "version_minor": 0
      },
      "text/plain": [
       "HBox(children=(IntProgress(value=0, max=26), HTML(value='')))"
      ]
     },
     "metadata": {},
     "output_type": "display_data"
    },
    {
     "name": "stderr",
     "output_type": "stream",
     "text": [
      "INFO:root:on epoch 8 by max_prec: 0.92\n"
     ]
    },
    {
     "name": "stdout",
     "output_type": "stream",
     "text": [
      "\r",
      "              precision    recall  f1-score   support\n",
      "\n",
      "       B_ORG      0.889     0.807     0.846       259\n",
      "       I_ORG      0.940     0.813     0.872      1000\n",
      "       B_LOC      0.874     0.906     0.890       192\n",
      "       I_LOC      0.847     0.858     0.852       303\n",
      "       B_PER      0.968     0.968     0.968       188\n",
      "       I_PER      0.975     0.971     0.973       649\n",
      "\n",
      "   micro avg      0.930     0.875     0.902      2591\n",
      "   macro avg      0.916     0.887     0.900      2591\n",
      "weighted avg      0.930     0.875     0.901      2591\n",
      "\n"
     ]
    },
    {
     "data": {
      "application/vnd.jupyter.widget-view+json": {
       "model_id": "",
       "version_major": 2,
       "version_minor": 0
      },
      "text/plain": [
       "HBox(children=(IntProgress(value=0, max=233), HTML(value='')))"
      ]
     },
     "metadata": {},
     "output_type": "display_data"
    },
    {
     "name": "stderr",
     "output_type": "stream",
     "text": [
      "INFO:root:\n",
      "lr after epoch: 0.004915382486135439\n",
      "INFO:root:\n",
      "epoch 14, average train epoch loss=0.25015\n",
      "\n"
     ]
    },
    {
     "name": "stdout",
     "output_type": "stream",
     "text": [
      "\r"
     ]
    },
    {
     "data": {
      "application/vnd.jupyter.widget-view+json": {
       "model_id": "",
       "version_major": 2,
       "version_minor": 0
      },
      "text/plain": [
       "HBox(children=(IntProgress(value=0, max=26), HTML(value='')))"
      ]
     },
     "metadata": {},
     "output_type": "display_data"
    },
    {
     "name": "stderr",
     "output_type": "stream",
     "text": [
      "INFO:root:on epoch 8 by max_prec: 0.92\n"
     ]
    },
    {
     "name": "stdout",
     "output_type": "stream",
     "text": [
      "\r",
      "              precision    recall  f1-score   support\n",
      "\n",
      "       B_ORG      0.839     0.826     0.833       259\n",
      "       I_ORG      0.898     0.843     0.870      1000\n",
      "       B_LOC      0.868     0.922     0.894       192\n",
      "       I_LOC      0.814     0.898     0.854       303\n",
      "       B_PER      0.994     0.941     0.967       188\n",
      "       I_PER      0.987     0.951     0.969       649\n",
      "\n",
      "   micro avg      0.907     0.888     0.897      2591\n",
      "   macro avg      0.900     0.897     0.898      2591\n",
      "weighted avg      0.909     0.888     0.898      2591\n",
      "\n"
     ]
    },
    {
     "data": {
      "application/vnd.jupyter.widget-view+json": {
       "model_id": "",
       "version_major": 2,
       "version_minor": 0
      },
      "text/plain": [
       "HBox(children=(IntProgress(value=0, max=233), HTML(value='')))"
      ]
     },
     "metadata": {},
     "output_type": "display_data"
    },
    {
     "name": "stderr",
     "output_type": "stream",
     "text": [
      "INFO:root:\n",
      "lr after epoch: 0.004954626589248964\n",
      "INFO:root:\n",
      "epoch 15, average train epoch loss=0.26877\n",
      "\n"
     ]
    },
    {
     "name": "stdout",
     "output_type": "stream",
     "text": [
      "\r"
     ]
    },
    {
     "data": {
      "application/vnd.jupyter.widget-view+json": {
       "model_id": "",
       "version_major": 2,
       "version_minor": 0
      },
      "text/plain": [
       "HBox(children=(IntProgress(value=0, max=26), HTML(value='')))"
      ]
     },
     "metadata": {},
     "output_type": "display_data"
    },
    {
     "name": "stderr",
     "output_type": "stream",
     "text": [
      "INFO:root:on epoch 8 by max_prec: 0.92\n"
     ]
    },
    {
     "name": "stdout",
     "output_type": "stream",
     "text": [
      "\r",
      "              precision    recall  f1-score   support\n",
      "\n",
      "       B_ORG      0.810     0.853     0.831       259\n",
      "       I_ORG      0.892     0.851     0.871      1000\n",
      "       B_LOC      0.905     0.891     0.898       192\n",
      "       I_LOC      0.901     0.838     0.868       303\n",
      "       B_PER      0.954     0.989     0.971       188\n",
      "       I_PER      0.957     0.991     0.974       649\n",
      "\n",
      "   micro avg      0.907     0.898     0.902      2591\n",
      "   macro avg      0.903     0.902     0.902      2591\n",
      "weighted avg      0.906     0.898     0.902      2591\n",
      "\n"
     ]
    },
    {
     "data": {
      "application/vnd.jupyter.widget-view+json": {
       "model_id": "",
       "version_major": 2,
       "version_minor": 0
      },
      "text/plain": [
       "HBox(children=(IntProgress(value=0, max=233), HTML(value='')))"
      ]
     },
     "metadata": {},
     "output_type": "display_data"
    },
    {
     "name": "stderr",
     "output_type": "stream",
     "text": [
      "INFO:root:\n",
      "lr after epoch: 0.0049997934180529835\n",
      "INFO:root:\n",
      "epoch 16, average train epoch loss=0.23865\n",
      "\n"
     ]
    },
    {
     "name": "stdout",
     "output_type": "stream",
     "text": [
      "\r"
     ]
    },
    {
     "data": {
      "application/vnd.jupyter.widget-view+json": {
       "model_id": "",
       "version_major": 2,
       "version_minor": 0
      },
      "text/plain": [
       "HBox(children=(IntProgress(value=0, max=26), HTML(value='')))"
      ]
     },
     "metadata": {},
     "output_type": "display_data"
    },
    {
     "name": "stderr",
     "output_type": "stream",
     "text": [
      "INFO:root:on epoch 15 by max_prec: 0.922\n",
      "INFO:root:Saving new best model...\n"
     ]
    },
    {
     "name": "stdout",
     "output_type": "stream",
     "text": [
      "\r",
      "              precision    recall  f1-score   support\n",
      "\n",
      "       B_ORG      0.878     0.776     0.824       259\n",
      "       I_ORG      0.946     0.787     0.859      1000\n",
      "       B_LOC      0.920     0.844     0.880       192\n",
      "       I_LOC      0.894     0.752     0.817       303\n",
      "       B_PER      0.944     0.979     0.961       188\n",
      "       I_PER      0.949     0.978     0.964       649\n",
      "\n",
      "   micro avg      0.933     0.848     0.888      2591\n",
      "   macro avg      0.922     0.853     0.884      2591\n",
      "weighted avg      0.932     0.848     0.886      2591\n",
      "\n"
     ]
    },
    {
     "data": {
      "application/vnd.jupyter.widget-view+json": {
       "model_id": "",
       "version_major": 2,
       "version_minor": 0
      },
      "text/plain": [
       "HBox(children=(IntProgress(value=0, max=233), HTML(value='')))"
      ]
     },
     "metadata": {},
     "output_type": "display_data"
    },
    {
     "name": "stderr",
     "output_type": "stream",
     "text": [
      "INFO:root:\n",
      "lr after epoch: 0.004949138792412227\n",
      "INFO:root:\n",
      "epoch 17, average train epoch loss=0.25389\n",
      "\n"
     ]
    },
    {
     "name": "stdout",
     "output_type": "stream",
     "text": [
      "\r"
     ]
    },
    {
     "data": {
      "application/vnd.jupyter.widget-view+json": {
       "model_id": "",
       "version_major": 2,
       "version_minor": 0
      },
      "text/plain": [
       "HBox(children=(IntProgress(value=0, max=26), HTML(value='')))"
      ]
     },
     "metadata": {},
     "output_type": "display_data"
    },
    {
     "name": "stderr",
     "output_type": "stream",
     "text": [
      "INFO:root:on epoch 15 by max_prec: 0.922\n"
     ]
    },
    {
     "name": "stdout",
     "output_type": "stream",
     "text": [
      "\r",
      "              precision    recall  f1-score   support\n",
      "\n",
      "       B_ORG      0.814     0.861     0.837       259\n",
      "       I_ORG      0.877     0.850     0.863      1000\n",
      "       B_LOC      0.881     0.891     0.886       192\n",
      "       I_LOC      0.861     0.835     0.848       303\n",
      "       B_PER      0.984     0.957     0.970       188\n",
      "       I_PER      0.977     0.969     0.973       649\n",
      "\n",
      "   micro avg      0.901     0.890     0.896      2591\n",
      "   macro avg      0.899     0.894     0.896      2591\n",
      "weighted avg      0.902     0.890     0.896      2591\n",
      "\n"
     ]
    },
    {
     "data": {
      "application/vnd.jupyter.widget-view+json": {
       "model_id": "",
       "version_major": 2,
       "version_minor": 0
      },
      "text/plain": [
       "HBox(children=(IntProgress(value=0, max=233), HTML(value='')))"
      ]
     },
     "metadata": {},
     "output_type": "display_data"
    },
    {
     "name": "stderr",
     "output_type": "stream",
     "text": [
      "INFO:root:\n",
      "lr after epoch: 0.004892191735981861\n",
      "INFO:root:\n",
      "epoch 18, average train epoch loss=0.23897\n",
      "\n"
     ]
    },
    {
     "name": "stdout",
     "output_type": "stream",
     "text": [
      "\r"
     ]
    },
    {
     "data": {
      "application/vnd.jupyter.widget-view+json": {
       "model_id": "",
       "version_major": 2,
       "version_minor": 0
      },
      "text/plain": [
       "HBox(children=(IntProgress(value=0, max=26), HTML(value='')))"
      ]
     },
     "metadata": {},
     "output_type": "display_data"
    },
    {
     "name": "stderr",
     "output_type": "stream",
     "text": [
      "INFO:root:on epoch 15 by max_prec: 0.922\n"
     ]
    },
    {
     "name": "stdout",
     "output_type": "stream",
     "text": [
      "\r",
      "              precision    recall  f1-score   support\n",
      "\n",
      "       B_ORG      0.854     0.815     0.834       259\n",
      "       I_ORG      0.925     0.812     0.865      1000\n",
      "       B_LOC      0.918     0.880     0.899       192\n",
      "       I_LOC      0.899     0.822     0.859       303\n",
      "       B_PER      0.958     0.963     0.960       188\n",
      "       I_PER      0.962     0.969     0.965       649\n",
      "\n",
      "   micro avg      0.927     0.869     0.897      2591\n",
      "   macro avg      0.919     0.877     0.897      2591\n",
      "weighted avg      0.926     0.869     0.896      2591\n",
      "\n"
     ]
    },
    {
     "data": {
      "application/vnd.jupyter.widget-view+json": {
       "model_id": "",
       "version_major": 2,
       "version_minor": 0
      },
      "text/plain": [
       "HBox(children=(IntProgress(value=0, max=233), HTML(value='')))"
      ]
     },
     "metadata": {},
     "output_type": "display_data"
    },
    {
     "name": "stderr",
     "output_type": "stream",
     "text": [
      "INFO:root:\n",
      "lr after epoch: 0.004829387035584517\n",
      "INFO:root:\n",
      "epoch 19, average train epoch loss=0.19971\n",
      "\n"
     ]
    },
    {
     "name": "stdout",
     "output_type": "stream",
     "text": [
      "\r"
     ]
    },
    {
     "data": {
      "application/vnd.jupyter.widget-view+json": {
       "model_id": "",
       "version_major": 2,
       "version_minor": 0
      },
      "text/plain": [
       "HBox(children=(IntProgress(value=0, max=26), HTML(value='')))"
      ]
     },
     "metadata": {},
     "output_type": "display_data"
    },
    {
     "name": "stderr",
     "output_type": "stream",
     "text": [
      "INFO:root:on epoch 15 by max_prec: 0.922\n"
     ]
    },
    {
     "name": "stdout",
     "output_type": "stream",
     "text": [
      "\r",
      "              precision    recall  f1-score   support\n",
      "\n",
      "       B_ORG      0.880     0.764     0.818       259\n",
      "       I_ORG      0.947     0.744     0.833      1000\n",
      "       B_LOC      0.851     0.896     0.873       192\n",
      "       I_LOC      0.785     0.891     0.835       303\n",
      "       B_PER      0.963     0.968     0.966       188\n",
      "       I_PER      0.962     0.971     0.966       649\n",
      "\n",
      "   micro avg      0.915     0.848     0.880      2591\n",
      "   macro avg      0.898     0.872     0.882      2591\n",
      "weighted avg      0.919     0.848     0.878      2591\n",
      "\n"
     ]
    },
    {
     "data": {
      "application/vnd.jupyter.widget-view+json": {
       "model_id": "",
       "version_major": 2,
       "version_minor": 0
      },
      "text/plain": [
       "HBox(children=(IntProgress(value=0, max=233), HTML(value='')))"
      ]
     },
     "metadata": {},
     "output_type": "display_data"
    },
    {
     "name": "stderr",
     "output_type": "stream",
     "text": [
      "INFO:root:\n",
      "lr after epoch: 0.0047607462434594875\n",
      "INFO:root:\n",
      "epoch 20, average train epoch loss=0.19844\n",
      "\n"
     ]
    },
    {
     "name": "stdout",
     "output_type": "stream",
     "text": [
      "\r"
     ]
    },
    {
     "data": {
      "application/vnd.jupyter.widget-view+json": {
       "model_id": "",
       "version_major": 2,
       "version_minor": 0
      },
      "text/plain": [
       "HBox(children=(IntProgress(value=0, max=26), HTML(value='')))"
      ]
     },
     "metadata": {},
     "output_type": "display_data"
    },
    {
     "name": "stderr",
     "output_type": "stream",
     "text": [
      "INFO:root:on epoch 15 by max_prec: 0.922\n"
     ]
    },
    {
     "name": "stdout",
     "output_type": "stream",
     "text": [
      "\r",
      "              precision    recall  f1-score   support\n",
      "\n",
      "       B_ORG      0.839     0.865     0.852       259\n",
      "       I_ORG      0.891     0.887     0.889      1000\n",
      "       B_LOC      0.862     0.911     0.886       192\n",
      "       I_LOC      0.807     0.881     0.842       303\n",
      "       B_PER      0.963     0.973     0.968       188\n",
      "       I_PER      0.974     0.977     0.975       649\n",
      "\n",
      "   micro avg      0.899     0.915     0.907      2591\n",
      "   macro avg      0.889     0.916     0.902      2591\n",
      "weighted avg      0.900     0.915     0.907      2591\n",
      "\n"
     ]
    },
    {
     "data": {
      "application/vnd.jupyter.widget-view+json": {
       "model_id": "",
       "version_major": 2,
       "version_minor": 0
      },
      "text/plain": [
       "HBox(children=(IntProgress(value=0, max=233), HTML(value='')))"
      ]
     },
     "metadata": {},
     "output_type": "display_data"
    },
    {
     "name": "stderr",
     "output_type": "stream",
     "text": [
      "INFO:root:\n",
      "lr after epoch: 0.00481134328948573\n",
      "INFO:root:\n",
      "epoch 21, average train epoch loss=0.16784\n",
      "\n"
     ]
    },
    {
     "name": "stdout",
     "output_type": "stream",
     "text": [
      "\r"
     ]
    },
    {
     "data": {
      "application/vnd.jupyter.widget-view+json": {
       "model_id": "",
       "version_major": 2,
       "version_minor": 0
      },
      "text/plain": [
       "HBox(children=(IntProgress(value=0, max=26), HTML(value='')))"
      ]
     },
     "metadata": {},
     "output_type": "display_data"
    },
    {
     "name": "stderr",
     "output_type": "stream",
     "text": [
      "INFO:root:on epoch 15 by max_prec: 0.922\n"
     ]
    },
    {
     "name": "stdout",
     "output_type": "stream",
     "text": [
      "\r",
      "              precision    recall  f1-score   support\n",
      "\n",
      "       B_ORG      0.830     0.888     0.858       259\n",
      "       I_ORG      0.868     0.891     0.879      1000\n",
      "       B_LOC      0.880     0.875     0.877       192\n",
      "       I_LOC      0.861     0.815     0.837       303\n",
      "       B_PER      0.984     0.979     0.981       188\n",
      "       I_PER      0.975     0.980     0.978       649\n",
      "\n",
      "   micro avg      0.899     0.909     0.904      2591\n",
      "   macro avg      0.900     0.905     0.902      2591\n",
      "weighted avg      0.899     0.909     0.904      2591\n",
      "\n"
     ]
    },
    {
     "data": {
      "application/vnd.jupyter.widget-view+json": {
       "model_id": "",
       "version_major": 2,
       "version_minor": 0
      },
      "text/plain": [
       "HBox(children=(IntProgress(value=0, max=233), HTML(value='')))"
      ]
     },
     "metadata": {},
     "output_type": "display_data"
    },
    {
     "name": "stderr",
     "output_type": "stream",
     "text": [
      "INFO:root:\n",
      "lr after epoch: 0.004868304743357587\n",
      "INFO:root:\n",
      "epoch 22, average train epoch loss=0.22378\n",
      "\n"
     ]
    },
    {
     "name": "stdout",
     "output_type": "stream",
     "text": [
      "\r"
     ]
    },
    {
     "data": {
      "application/vnd.jupyter.widget-view+json": {
       "model_id": "",
       "version_major": 2,
       "version_minor": 0
      },
      "text/plain": [
       "HBox(children=(IntProgress(value=0, max=26), HTML(value='')))"
      ]
     },
     "metadata": {},
     "output_type": "display_data"
    },
    {
     "name": "stderr",
     "output_type": "stream",
     "text": [
      "INFO:root:on epoch 15 by max_prec: 0.922\n"
     ]
    },
    {
     "name": "stdout",
     "output_type": "stream",
     "text": [
      "\r",
      "              precision    recall  f1-score   support\n",
      "\n",
      "       B_ORG      0.857     0.857     0.857       259\n",
      "       I_ORG      0.931     0.824     0.874      1000\n",
      "       B_LOC      0.902     0.859     0.880       192\n",
      "       I_LOC      0.854     0.828     0.841       303\n",
      "       B_PER      0.994     0.941     0.967       188\n",
      "       I_PER      0.990     0.954     0.972       649\n",
      "\n",
      "   micro avg      0.932     0.871     0.900      2591\n",
      "   macro avg      0.921     0.877     0.899      2591\n",
      "weighted avg      0.932     0.871     0.900      2591\n",
      "\n"
     ]
    },
    {
     "data": {
      "application/vnd.jupyter.widget-view+json": {
       "model_id": "",
       "version_major": 2,
       "version_minor": 0
      },
      "text/plain": [
       "HBox(children=(IntProgress(value=0, max=233), HTML(value='')))"
      ]
     },
     "metadata": {},
     "output_type": "display_data"
    },
    {
     "name": "stderr",
     "output_type": "stream",
     "text": [
      "INFO:root:\n",
      "lr after epoch: 0.004931095151715429\n",
      "INFO:root:\n",
      "epoch 23, average train epoch loss=0.17733\n",
      "\n"
     ]
    },
    {
     "name": "stdout",
     "output_type": "stream",
     "text": [
      "\r"
     ]
    },
    {
     "data": {
      "application/vnd.jupyter.widget-view+json": {
       "model_id": "",
       "version_major": 2,
       "version_minor": 0
      },
      "text/plain": [
       "HBox(children=(IntProgress(value=0, max=26), HTML(value='')))"
      ]
     },
     "metadata": {},
     "output_type": "display_data"
    },
    {
     "name": "stderr",
     "output_type": "stream",
     "text": [
      "INFO:root:on epoch 22 by max_prec: 0.933\n",
      "INFO:root:Saving new best model...\n"
     ]
    },
    {
     "name": "stdout",
     "output_type": "stream",
     "text": [
      "\r",
      "              precision    recall  f1-score   support\n",
      "\n",
      "       B_ORG      0.873     0.822     0.847       259\n",
      "       I_ORG      0.921     0.837     0.877      1000\n",
      "       B_LOC      0.940     0.891     0.914       192\n",
      "       I_LOC      0.932     0.812     0.868       303\n",
      "       B_PER      0.963     0.963     0.963       188\n",
      "       I_PER      0.972     0.972     0.972       649\n",
      "\n",
      "   micro avg      0.936     0.880     0.907      2591\n",
      "   macro avg      0.933     0.883     0.907      2591\n",
      "weighted avg      0.935     0.880     0.906      2591\n",
      "\n"
     ]
    },
    {
     "data": {
      "application/vnd.jupyter.widget-view+json": {
       "model_id": "",
       "version_major": 2,
       "version_minor": 0
      },
      "text/plain": [
       "HBox(children=(IntProgress(value=0, max=233), HTML(value='')))"
      ]
     },
     "metadata": {},
     "output_type": "display_data"
    },
    {
     "name": "stderr",
     "output_type": "stream",
     "text": [
      "INFO:root:\n",
      "lr after epoch: 0.004999693102920267\n",
      "INFO:root:\n",
      "epoch 24, average train epoch loss=0.16762\n",
      "\n"
     ]
    },
    {
     "name": "stdout",
     "output_type": "stream",
     "text": [
      "\r"
     ]
    },
    {
     "data": {
      "application/vnd.jupyter.widget-view+json": {
       "model_id": "",
       "version_major": 2,
       "version_minor": 0
      },
      "text/plain": [
       "HBox(children=(IntProgress(value=0, max=26), HTML(value='')))"
      ]
     },
     "metadata": {},
     "output_type": "display_data"
    },
    {
     "name": "stderr",
     "output_type": "stream",
     "text": [
      "INFO:root:on epoch 22 by max_prec: 0.933\n"
     ]
    },
    {
     "name": "stdout",
     "output_type": "stream",
     "text": [
      "\r",
      "              precision    recall  f1-score   support\n",
      "\n",
      "       B_ORG      0.867     0.834     0.850       259\n",
      "       I_ORG      0.940     0.837     0.886      1000\n",
      "       B_LOC      0.904     0.880     0.892       192\n",
      "       I_LOC      0.912     0.822     0.865       303\n",
      "       B_PER      0.978     0.957     0.968       188\n",
      "       I_PER      0.974     0.969     0.971       649\n",
      "\n",
      "   micro avg      0.939     0.880     0.908      2591\n",
      "   macro avg      0.929     0.883     0.905      2591\n",
      "weighted avg      0.938     0.880     0.908      2591\n",
      "\n"
     ]
    },
    {
     "data": {
      "application/vnd.jupyter.widget-view+json": {
       "model_id": "",
       "version_major": 2,
       "version_minor": 0
      },
      "text/plain": [
       "HBox(children=(IntProgress(value=0, max=233), HTML(value='')))"
      ]
     },
     "metadata": {},
     "output_type": "display_data"
    },
    {
     "name": "stderr",
     "output_type": "stream",
     "text": [
      "INFO:root:\n",
      "lr after epoch: 0.004925922744711235\n",
      "INFO:root:\n",
      "epoch 25, average train epoch loss=0.16069\n",
      "\n"
     ]
    },
    {
     "name": "stdout",
     "output_type": "stream",
     "text": [
      "\r"
     ]
    },
    {
     "data": {
      "application/vnd.jupyter.widget-view+json": {
       "model_id": "",
       "version_major": 2,
       "version_minor": 0
      },
      "text/plain": [
       "HBox(children=(IntProgress(value=0, max=26), HTML(value='')))"
      ]
     },
     "metadata": {},
     "output_type": "display_data"
    },
    {
     "name": "stderr",
     "output_type": "stream",
     "text": [
      "INFO:root:on epoch 22 by max_prec: 0.933\n"
     ]
    },
    {
     "name": "stdout",
     "output_type": "stream",
     "text": [
      "\r",
      "              precision    recall  f1-score   support\n",
      "\n",
      "       B_ORG      0.843     0.849     0.846       259\n",
      "       I_ORG      0.918     0.836     0.875      1000\n",
      "       B_LOC      0.879     0.906     0.892       192\n",
      "       I_LOC      0.856     0.881     0.868       303\n",
      "       B_PER      0.943     0.968     0.955       188\n",
      "       I_PER      0.958     0.977     0.967       649\n",
      "\n",
      "   micro avg      0.912     0.893     0.902      2591\n",
      "   macro avg      0.899     0.903     0.901      2591\n",
      "weighted avg      0.912     0.893     0.902      2591\n",
      "\n"
     ]
    },
    {
     "data": {
      "application/vnd.jupyter.widget-view+json": {
       "model_id": "",
       "version_major": 2,
       "version_minor": 0
      },
      "text/plain": [
       "HBox(children=(IntProgress(value=0, max=233), HTML(value='')))"
      ]
     },
     "metadata": {},
     "output_type": "display_data"
    },
    {
     "name": "stderr",
     "output_type": "stream",
     "text": [
      "INFO:root:\n",
      "lr after epoch: 0.004845773663121082\n",
      "INFO:root:\n",
      "epoch 26, average train epoch loss=0.14277\n",
      "\n"
     ]
    },
    {
     "name": "stdout",
     "output_type": "stream",
     "text": [
      "\r"
     ]
    },
    {
     "data": {
      "application/vnd.jupyter.widget-view+json": {
       "model_id": "",
       "version_major": 2,
       "version_minor": 0
      },
      "text/plain": [
       "HBox(children=(IntProgress(value=0, max=26), HTML(value='')))"
      ]
     },
     "metadata": {},
     "output_type": "display_data"
    },
    {
     "name": "stderr",
     "output_type": "stream",
     "text": [
      "INFO:root:on epoch 22 by max_prec: 0.933\n"
     ]
    },
    {
     "name": "stdout",
     "output_type": "stream",
     "text": [
      "\r",
      "              precision    recall  f1-score   support\n",
      "\n",
      "       B_ORG      0.868     0.788     0.826       259\n",
      "       I_ORG      0.935     0.767     0.843      1000\n",
      "       B_LOC      0.893     0.917     0.905       192\n",
      "       I_LOC      0.872     0.875     0.873       303\n",
      "       B_PER      0.948     0.979     0.963       188\n",
      "       I_PER      0.956     0.980     0.968       649\n",
      "\n",
      "   micro avg      0.924     0.861     0.892      2591\n",
      "   macro avg      0.912     0.884     0.896      2591\n",
      "weighted avg      0.924     0.861     0.889      2591\n",
      "\n"
     ]
    },
    {
     "data": {
      "application/vnd.jupyter.widget-view+json": {
       "model_id": "",
       "version_major": 2,
       "version_minor": 0
      },
      "text/plain": [
       "HBox(children=(IntProgress(value=0, max=233), HTML(value='')))"
      ]
     },
     "metadata": {},
     "output_type": "display_data"
    },
    {
     "name": "stderr",
     "output_type": "stream",
     "text": [
      "INFO:root:\n",
      "lr after epoch: 0.004759880854723646\n",
      "INFO:root:\n",
      "epoch 27, average train epoch loss=0.16023\n",
      "\n"
     ]
    },
    {
     "name": "stdout",
     "output_type": "stream",
     "text": [
      "\r"
     ]
    },
    {
     "data": {
      "application/vnd.jupyter.widget-view+json": {
       "model_id": "",
       "version_major": 2,
       "version_minor": 0
      },
      "text/plain": [
       "HBox(children=(IntProgress(value=0, max=26), HTML(value='')))"
      ]
     },
     "metadata": {},
     "output_type": "display_data"
    },
    {
     "name": "stderr",
     "output_type": "stream",
     "text": [
      "INFO:root:on epoch 22 by max_prec: 0.933\n"
     ]
    },
    {
     "name": "stdout",
     "output_type": "stream",
     "text": [
      "\r",
      "              precision    recall  f1-score   support\n",
      "\n",
      "       B_ORG      0.852     0.842     0.847       259\n",
      "       I_ORG      0.918     0.839     0.877      1000\n",
      "       B_LOC      0.926     0.911     0.919       192\n",
      "       I_LOC      0.930     0.875     0.901       303\n",
      "       B_PER      0.964     0.989     0.976       188\n",
      "       I_PER      0.982     0.991     0.986       649\n",
      "\n",
      "   micro avg      0.933     0.898     0.915      2591\n",
      "   macro avg      0.928     0.908     0.918      2591\n",
      "weighted avg      0.933     0.898     0.914      2591\n",
      "\n"
     ]
    },
    {
     "data": {
      "application/vnd.jupyter.widget-view+json": {
       "model_id": "",
       "version_major": 2,
       "version_minor": 0
      },
      "text/plain": [
       "HBox(children=(IntProgress(value=0, max=233), HTML(value='')))"
      ]
     },
     "metadata": {},
     "output_type": "display_data"
    },
    {
     "name": "stderr",
     "output_type": "stream",
     "text": [
      "INFO:root:\n",
      "lr after epoch: 0.0046682654526187355\n",
      "INFO:root:\n",
      "epoch 28, average train epoch loss=0.17187\n",
      "\n"
     ]
    },
    {
     "name": "stdout",
     "output_type": "stream",
     "text": [
      "\r"
     ]
    },
    {
     "data": {
      "application/vnd.jupyter.widget-view+json": {
       "model_id": "",
       "version_major": 2,
       "version_minor": 0
      },
      "text/plain": [
       "HBox(children=(IntProgress(value=0, max=26), HTML(value='')))"
      ]
     },
     "metadata": {},
     "output_type": "display_data"
    },
    {
     "name": "stderr",
     "output_type": "stream",
     "text": [
      "INFO:root:on epoch 22 by max_prec: 0.933\n"
     ]
    },
    {
     "name": "stdout",
     "output_type": "stream",
     "text": [
      "\r",
      "              precision    recall  f1-score   support\n",
      "\n",
      "       B_ORG      0.842     0.803     0.822       259\n",
      "       I_ORG      0.911     0.820     0.863      1000\n",
      "       B_LOC      0.898     0.917     0.907       192\n",
      "       I_LOC      0.883     0.871     0.877       303\n",
      "       B_PER      0.964     0.984     0.974       188\n",
      "       I_PER      0.977     0.988     0.982       649\n",
      "\n",
      "   micro avg      0.921     0.885     0.903      2591\n",
      "   macro avg      0.912     0.897     0.904      2591\n",
      "weighted avg      0.920     0.885     0.902      2591\n",
      "\n"
     ]
    },
    {
     "data": {
      "application/vnd.jupyter.widget-view+json": {
       "model_id": "",
       "version_major": 2,
       "version_minor": 0
      },
      "text/plain": [
       "HBox(children=(IntProgress(value=0, max=233), HTML(value='')))"
      ]
     },
     "metadata": {},
     "output_type": "display_data"
    },
    {
     "name": "stderr",
     "output_type": "stream",
     "text": [
      "INFO:root:\n",
      "lr after epoch: 0.0047419793509989846\n",
      "INFO:root:\n",
      "epoch 29, average train epoch loss=0.14579\n",
      "\n"
     ]
    },
    {
     "name": "stdout",
     "output_type": "stream",
     "text": [
      "\r"
     ]
    },
    {
     "data": {
      "application/vnd.jupyter.widget-view+json": {
       "model_id": "",
       "version_major": 2,
       "version_minor": 0
      },
      "text/plain": [
       "HBox(children=(IntProgress(value=0, max=26), HTML(value='')))"
      ]
     },
     "metadata": {},
     "output_type": "display_data"
    },
    {
     "name": "stderr",
     "output_type": "stream",
     "text": [
      "INFO:root:on epoch 22 by max_prec: 0.933\n"
     ]
    },
    {
     "name": "stdout",
     "output_type": "stream",
     "text": [
      "\r",
      "              precision    recall  f1-score   support\n",
      "\n",
      "       B_ORG      0.883     0.815     0.847       259\n",
      "       I_ORG      0.967     0.763     0.853      1000\n",
      "       B_LOC      0.904     0.885     0.895       192\n",
      "       I_LOC      0.845     0.861     0.853       303\n",
      "       B_PER      0.954     0.984     0.969       188\n",
      "       I_PER      0.959     0.983     0.971       649\n",
      "\n",
      "   micro avg      0.935     0.860     0.896      2591\n",
      "   macro avg      0.919     0.882     0.898      2591\n",
      "weighted avg      0.937     0.860     0.893      2591\n",
      "\n"
     ]
    },
    {
     "data": {
      "application/vnd.jupyter.widget-view+json": {
       "model_id": "",
       "version_major": 2,
       "version_minor": 0
      },
      "text/plain": [
       "HBox(children=(IntProgress(value=0, max=233), HTML(value='')))"
      ]
     },
     "metadata": {},
     "output_type": "display_data"
    },
    {
     "name": "stderr",
     "output_type": "stream",
     "text": [
      "INFO:root:\n",
      "lr after epoch: 0.004822142550034842\n",
      "INFO:root:\n",
      "epoch 30, average train epoch loss=0.14418\n",
      "\n"
     ]
    },
    {
     "name": "stdout",
     "output_type": "stream",
     "text": [
      "\r"
     ]
    },
    {
     "data": {
      "application/vnd.jupyter.widget-view+json": {
       "model_id": "",
       "version_major": 2,
       "version_minor": 0
      },
      "text/plain": [
       "HBox(children=(IntProgress(value=0, max=26), HTML(value='')))"
      ]
     },
     "metadata": {},
     "output_type": "display_data"
    },
    {
     "name": "stderr",
     "output_type": "stream",
     "text": [
      "INFO:root:on epoch 22 by max_prec: 0.933\n"
     ]
    },
    {
     "name": "stdout",
     "output_type": "stream",
     "text": [
      "\r",
      "              precision    recall  f1-score   support\n",
      "\n",
      "       B_ORG      0.844     0.876     0.860       259\n",
      "       I_ORG      0.904     0.863     0.883      1000\n",
      "       B_LOC      0.833     0.911     0.871       192\n",
      "       I_LOC      0.801     0.865     0.832       303\n",
      "       B_PER      0.974     0.979     0.976       188\n",
      "       I_PER      0.978     0.980     0.979       649\n",
      "\n",
      "   micro avg      0.903     0.906     0.904      2591\n",
      "   macro avg      0.889     0.912     0.900      2591\n",
      "weighted avg      0.904     0.906     0.905      2591\n",
      "\n"
     ]
    },
    {
     "data": {
      "application/vnd.jupyter.widget-view+json": {
       "model_id": "",
       "version_major": 2,
       "version_minor": 0
      },
      "text/plain": [
       "HBox(children=(IntProgress(value=0, max=233), HTML(value='')))"
      ]
     },
     "metadata": {},
     "output_type": "display_data"
    },
    {
     "name": "stderr",
     "output_type": "stream",
     "text": [
      "INFO:root:\n",
      "lr after epoch: 0.004908021344338748\n",
      "INFO:root:\n",
      "epoch 31, average train epoch loss=0.13765\n",
      "\n"
     ]
    },
    {
     "name": "stdout",
     "output_type": "stream",
     "text": [
      "\r"
     ]
    },
    {
     "data": {
      "application/vnd.jupyter.widget-view+json": {
       "model_id": "",
       "version_major": 2,
       "version_minor": 0
      },
      "text/plain": [
       "HBox(children=(IntProgress(value=0, max=26), HTML(value='')))"
      ]
     },
     "metadata": {},
     "output_type": "display_data"
    },
    {
     "name": "stderr",
     "output_type": "stream",
     "text": [
      "INFO:root:on epoch 22 by max_prec: 0.933\n"
     ]
    },
    {
     "name": "stdout",
     "output_type": "stream",
     "text": [
      "\r",
      "              precision    recall  f1-score   support\n",
      "\n",
      "       B_ORG      0.839     0.865     0.852       259\n",
      "       I_ORG      0.915     0.882     0.898      1000\n",
      "       B_LOC      0.871     0.911     0.891       192\n",
      "       I_LOC      0.786     0.898     0.838       303\n",
      "       B_PER      0.979     0.973     0.976       188\n",
      "       I_PER      0.989     0.975     0.982       649\n",
      "\n",
      "   micro avg      0.909     0.914     0.912      2591\n",
      "   macro avg      0.896     0.917     0.906      2591\n",
      "weighted avg      0.912     0.914     0.913      2591\n",
      "\n"
     ]
    },
    {
     "data": {
      "application/vnd.jupyter.widget-view+json": {
       "model_id": "",
       "version_major": 2,
       "version_minor": 0
      },
      "text/plain": [
       "HBox(children=(IntProgress(value=0, max=233), HTML(value='')))"
      ]
     },
     "metadata": {},
     "output_type": "display_data"
    },
    {
     "name": "stderr",
     "output_type": "stream",
     "text": [
      "INFO:root:\n",
      "lr after epoch: 0.00499959473867686\n",
      "INFO:root:\n",
      "epoch 32, average train epoch loss=0.1729\n",
      "\n"
     ]
    },
    {
     "name": "stdout",
     "output_type": "stream",
     "text": [
      "\r"
     ]
    },
    {
     "data": {
      "application/vnd.jupyter.widget-view+json": {
       "model_id": "",
       "version_major": 2,
       "version_minor": 0
      },
      "text/plain": [
       "HBox(children=(IntProgress(value=0, max=26), HTML(value='')))"
      ]
     },
     "metadata": {},
     "output_type": "display_data"
    },
    {
     "name": "stderr",
     "output_type": "stream",
     "text": [
      "INFO:root:on epoch 22 by max_prec: 0.933\n"
     ]
    },
    {
     "name": "stdout",
     "output_type": "stream",
     "text": [
      "\r",
      "              precision    recall  f1-score   support\n",
      "\n",
      "       B_ORG      0.881     0.826     0.853       259\n",
      "       I_ORG      0.940     0.827     0.880      1000\n",
      "       B_LOC      0.911     0.911     0.911       192\n",
      "       I_LOC      0.871     0.894     0.883       303\n",
      "       B_PER      0.974     0.979     0.976       188\n",
      "       I_PER      0.980     0.980     0.980       649\n",
      "\n",
      "   micro avg      0.936     0.890     0.913      2591\n",
      "   macro avg      0.926     0.903     0.914      2591\n",
      "weighted avg      0.936     0.890     0.912      2591\n",
      "\n"
     ]
    },
    {
     "data": {
      "application/vnd.jupyter.widget-view+json": {
       "model_id": "",
       "version_major": 2,
       "version_minor": 0
      },
      "text/plain": [
       "HBox(children=(IntProgress(value=0, max=233), HTML(value='')))"
      ]
     },
     "metadata": {},
     "output_type": "display_data"
    },
    {
     "name": "stderr",
     "output_type": "stream",
     "text": [
      "INFO:root:\n",
      "lr after epoch: 0.004903158193589479\n",
      "INFO:root:\n",
      "epoch 33, average train epoch loss=0.1432\n",
      "\n"
     ]
    },
    {
     "name": "stdout",
     "output_type": "stream",
     "text": [
      "\r"
     ]
    },
    {
     "data": {
      "application/vnd.jupyter.widget-view+json": {
       "model_id": "",
       "version_major": 2,
       "version_minor": 0
      },
      "text/plain": [
       "HBox(children=(IntProgress(value=0, max=26), HTML(value='')))"
      ]
     },
     "metadata": {},
     "output_type": "display_data"
    },
    {
     "name": "stderr",
     "output_type": "stream",
     "text": [
      "INFO:root:on epoch 22 by max_prec: 0.933\n"
     ]
    },
    {
     "name": "stdout",
     "output_type": "stream",
     "text": [
      "\r",
      "              precision    recall  f1-score   support\n",
      "\n",
      "       B_ORG      0.860     0.807     0.833       259\n",
      "       I_ORG      0.946     0.830     0.884      1000\n",
      "       B_LOC      0.896     0.901     0.899       192\n",
      "       I_LOC      0.843     0.871     0.857       303\n",
      "       B_PER      0.989     0.963     0.976       188\n",
      "       I_PER      0.995     0.966     0.980       649\n",
      "\n",
      "   micro avg      0.936     0.882     0.908      2591\n",
      "   macro avg      0.922     0.890     0.905      2591\n",
      "weighted avg      0.937     0.882     0.908      2591\n",
      "\n"
     ]
    },
    {
     "data": {
      "application/vnd.jupyter.widget-view+json": {
       "model_id": "",
       "version_major": 2,
       "version_minor": 0
      },
      "text/plain": [
       "HBox(children=(IntProgress(value=0, max=233), HTML(value='')))"
      ]
     },
     "metadata": {},
     "output_type": "display_data"
    },
    {
     "name": "stderr",
     "output_type": "stream",
     "text": [
      "INFO:root:\n",
      "lr after epoch: 0.004800258310713899\n",
      "INFO:root:\n",
      "epoch 34, average train epoch loss=0.16405\n",
      "\n"
     ]
    },
    {
     "name": "stdout",
     "output_type": "stream",
     "text": [
      "\r"
     ]
    },
    {
     "data": {
      "application/vnd.jupyter.widget-view+json": {
       "model_id": "",
       "version_major": 2,
       "version_minor": 0
      },
      "text/plain": [
       "HBox(children=(IntProgress(value=0, max=26), HTML(value='')))"
      ]
     },
     "metadata": {},
     "output_type": "display_data"
    },
    {
     "name": "stderr",
     "output_type": "stream",
     "text": [
      "INFO:root:on epoch 22 by max_prec: 0.933\n"
     ]
    },
    {
     "name": "stdout",
     "output_type": "stream",
     "text": [
      "\r",
      "              precision    recall  f1-score   support\n",
      "\n",
      "       B_ORG      0.848     0.838     0.843       259\n",
      "       I_ORG      0.896     0.823     0.858      1000\n",
      "       B_LOC      0.931     0.849     0.888       192\n",
      "       I_LOC      0.897     0.805     0.849       303\n",
      "       B_PER      0.953     0.973     0.963       188\n",
      "       I_PER      0.971     0.974     0.972       649\n",
      "\n",
      "   micro avg      0.918     0.873     0.895      2591\n",
      "   macro avg      0.916     0.877     0.895      2591\n",
      "weighted avg      0.917     0.873     0.894      2591\n",
      "\n"
     ]
    },
    {
     "data": {
      "application/vnd.jupyter.widget-view+json": {
       "model_id": "",
       "version_major": 2,
       "version_minor": 0
      },
      "text/plain": [
       "HBox(children=(IntProgress(value=0, max=233), HTML(value='')))"
      ]
     },
     "metadata": {},
     "output_type": "display_data"
    },
    {
     "name": "stderr",
     "output_type": "stream",
     "text": [
      "INFO:root:\n",
      "lr after epoch: 0.004691726402774545\n",
      "INFO:root:\n",
      "epoch 35, average train epoch loss=0.12912\n",
      "\n"
     ]
    },
    {
     "name": "stdout",
     "output_type": "stream",
     "text": [
      "\r"
     ]
    },
    {
     "data": {
      "application/vnd.jupyter.widget-view+json": {
       "model_id": "",
       "version_major": 2,
       "version_minor": 0
      },
      "text/plain": [
       "HBox(children=(IntProgress(value=0, max=26), HTML(value='')))"
      ]
     },
     "metadata": {},
     "output_type": "display_data"
    },
    {
     "name": "stderr",
     "output_type": "stream",
     "text": [
      "INFO:root:on epoch 22 by max_prec: 0.933\n"
     ]
    },
    {
     "name": "stdout",
     "output_type": "stream",
     "text": [
      "\r",
      "              precision    recall  f1-score   support\n",
      "\n",
      "       B_ORG      0.830     0.865     0.847       259\n",
      "       I_ORG      0.907     0.892     0.899      1000\n",
      "       B_LOC      0.914     0.885     0.899       192\n",
      "       I_LOC      0.876     0.865     0.870       303\n",
      "       B_PER      0.968     0.973     0.971       188\n",
      "       I_PER      0.989     0.977     0.983       649\n",
      "\n",
      "   micro avg      0.921     0.913     0.917      2591\n",
      "   macro avg      0.914     0.910     0.912      2591\n",
      "weighted avg      0.921     0.913     0.917      2591\n",
      "\n"
     ]
    },
    {
     "data": {
      "application/vnd.jupyter.widget-view+json": {
       "model_id": "",
       "version_major": 2,
       "version_minor": 0
      },
      "text/plain": [
       "HBox(children=(IntProgress(value=0, max=233), HTML(value='')))"
      ]
     },
     "metadata": {},
     "output_type": "display_data"
    },
    {
     "name": "stderr",
     "output_type": "stream",
     "text": [
      "INFO:root:\n",
      "lr after epoch: 0.004577583191882995\n",
      "INFO:root:\n",
      "epoch 36, average train epoch loss=0.12942\n",
      "\n"
     ]
    },
    {
     "name": "stdout",
     "output_type": "stream",
     "text": [
      "\r"
     ]
    },
    {
     "data": {
      "application/vnd.jupyter.widget-view+json": {
       "model_id": "",
       "version_major": 2,
       "version_minor": 0
      },
      "text/plain": [
       "HBox(children=(IntProgress(value=0, max=26), HTML(value='')))"
      ]
     },
     "metadata": {},
     "output_type": "display_data"
    },
    {
     "name": "stderr",
     "output_type": "stream",
     "text": [
      "INFO:root:on epoch 22 by max_prec: 0.933\n"
     ]
    },
    {
     "name": "stdout",
     "output_type": "stream",
     "text": [
      "\r",
      "              precision    recall  f1-score   support\n",
      "\n",
      "       B_ORG      0.788     0.876     0.830       259\n",
      "       I_ORG      0.892     0.895     0.894      1000\n",
      "       B_LOC      0.918     0.880     0.899       192\n",
      "       I_LOC      0.918     0.845     0.880       303\n",
      "       B_PER      0.978     0.952     0.965       188\n",
      "       I_PER      0.989     0.955     0.972       649\n",
      "\n",
      "   micro avg      0.915     0.905     0.910      2591\n",
      "   macro avg      0.914     0.901     0.907      2591\n",
      "weighted avg      0.917     0.905     0.911      2591\n",
      "\n"
     ]
    },
    {
     "data": {
      "application/vnd.jupyter.widget-view+json": {
       "model_id": "",
       "version_major": 2,
       "version_minor": 0
      },
      "text/plain": [
       "HBox(children=(IntProgress(value=0, max=233), HTML(value='')))"
      ]
     },
     "metadata": {},
     "output_type": "display_data"
    },
    {
     "name": "stderr",
     "output_type": "stream",
     "text": [
      "INFO:root:\n",
      "lr after epoch: 0.004673964375150173\n",
      "INFO:root:\n",
      "epoch 37, average train epoch loss=0.12641\n",
      "\n"
     ]
    },
    {
     "name": "stdout",
     "output_type": "stream",
     "text": [
      "\r"
     ]
    },
    {
     "data": {
      "application/vnd.jupyter.widget-view+json": {
       "model_id": "",
       "version_major": 2,
       "version_minor": 0
      },
      "text/plain": [
       "HBox(children=(IntProgress(value=0, max=26), HTML(value='')))"
      ]
     },
     "metadata": {},
     "output_type": "display_data"
    },
    {
     "name": "stderr",
     "output_type": "stream",
     "text": [
      "INFO:root:on epoch 22 by max_prec: 0.933\n"
     ]
    },
    {
     "name": "stdout",
     "output_type": "stream",
     "text": [
      "\r",
      "              precision    recall  f1-score   support\n",
      "\n",
      "       B_ORG      0.839     0.826     0.833       259\n",
      "       I_ORG      0.913     0.869     0.890      1000\n",
      "       B_LOC      0.885     0.885     0.885       192\n",
      "       I_LOC      0.810     0.875     0.841       303\n",
      "       B_PER      0.978     0.963     0.971       188\n",
      "       I_PER      0.983     0.969     0.976       649\n",
      "\n",
      "   micro avg      0.913     0.898     0.905      2591\n",
      "   macro avg      0.902     0.898     0.899      2591\n",
      "weighted avg      0.914     0.898     0.906      2591\n",
      "\n"
     ]
    },
    {
     "data": {
      "application/vnd.jupyter.widget-view+json": {
       "model_id": "",
       "version_major": 2,
       "version_minor": 0
      },
      "text/plain": [
       "HBox(children=(IntProgress(value=0, max=233), HTML(value='')))"
      ]
     },
     "metadata": {},
     "output_type": "display_data"
    },
    {
     "name": "stderr",
     "output_type": "stream",
     "text": [
      "INFO:root:\n",
      "lr after epoch: 0.004776878100920917\n",
      "INFO:root:\n",
      "epoch 38, average train epoch loss=0.121\n",
      "\n"
     ]
    },
    {
     "name": "stdout",
     "output_type": "stream",
     "text": [
      "\r"
     ]
    },
    {
     "data": {
      "application/vnd.jupyter.widget-view+json": {
       "model_id": "",
       "version_major": 2,
       "version_minor": 0
      },
      "text/plain": [
       "HBox(children=(IntProgress(value=0, max=26), HTML(value='')))"
      ]
     },
     "metadata": {},
     "output_type": "display_data"
    },
    {
     "name": "stderr",
     "output_type": "stream",
     "text": [
      "INFO:root:on epoch 22 by max_prec: 0.933\n"
     ]
    },
    {
     "name": "stdout",
     "output_type": "stream",
     "text": [
      "\r",
      "              precision    recall  f1-score   support\n",
      "\n",
      "       B_ORG      0.860     0.830     0.845       259\n",
      "       I_ORG      0.948     0.818     0.878      1000\n",
      "       B_LOC      0.902     0.911     0.907       192\n",
      "       I_LOC      0.856     0.904     0.880       303\n",
      "       B_PER      0.978     0.952     0.965       188\n",
      "       I_PER      0.973     0.952     0.963       649\n",
      "\n",
      "   micro avg      0.932     0.880     0.905      2591\n",
      "   macro avg      0.920     0.895     0.906      2591\n",
      "weighted avg      0.934     0.880     0.905      2591\n",
      "\n"
     ]
    },
    {
     "data": {
      "application/vnd.jupyter.widget-view+json": {
       "model_id": "",
       "version_major": 2,
       "version_minor": 0
      },
      "text/plain": [
       "HBox(children=(IntProgress(value=0, max=233), HTML(value='')))"
      ]
     },
     "metadata": {},
     "output_type": "display_data"
    },
    {
     "name": "stderr",
     "output_type": "stream",
     "text": [
      "INFO:root:\n",
      "lr after epoch: 0.004885396267307329\n",
      "INFO:root:\n",
      "epoch 39, average train epoch loss=0.16663\n",
      "\n"
     ]
    },
    {
     "name": "stdout",
     "output_type": "stream",
     "text": [
      "\r"
     ]
    },
    {
     "data": {
      "application/vnd.jupyter.widget-view+json": {
       "model_id": "",
       "version_major": 2,
       "version_minor": 0
      },
      "text/plain": [
       "HBox(children=(IntProgress(value=0, max=26), HTML(value='')))"
      ]
     },
     "metadata": {},
     "output_type": "display_data"
    },
    {
     "name": "stderr",
     "output_type": "stream",
     "text": [
      "INFO:root:on epoch 22 by max_prec: 0.933\n"
     ]
    },
    {
     "name": "stdout",
     "output_type": "stream",
     "text": [
      "\r",
      "              precision    recall  f1-score   support\n",
      "\n",
      "       B_ORG      0.732     0.876     0.798       259\n",
      "       I_ORG      0.813     0.902     0.855      1000\n",
      "       B_LOC      0.909     0.885     0.897       192\n",
      "       I_LOC      0.882     0.835     0.858       303\n",
      "       B_PER      0.973     0.963     0.968       188\n",
      "       I_PER      0.980     0.965     0.972       649\n",
      "\n",
      "   micro avg      0.868     0.910     0.889      2591\n",
      "   macro avg      0.882     0.904     0.891      2591\n",
      "weighted avg      0.874     0.910     0.890      2591\n",
      "\n"
     ]
    },
    {
     "data": {
      "application/vnd.jupyter.widget-view+json": {
       "model_id": "",
       "version_major": 2,
       "version_minor": 0
      },
      "text/plain": [
       "HBox(children=(IntProgress(value=0, max=233), HTML(value='')))"
      ]
     },
     "metadata": {},
     "output_type": "display_data"
    },
    {
     "name": "stderr",
     "output_type": "stream",
     "text": [
      "INFO:root:\n",
      "lr after epoch: 0.004999498287382633\n",
      "INFO:root:\n",
      "epoch 40, average train epoch loss=0.15282\n",
      "\n"
     ]
    },
    {
     "name": "stdout",
     "output_type": "stream",
     "text": [
      "\r"
     ]
    },
    {
     "data": {
      "application/vnd.jupyter.widget-view+json": {
       "model_id": "",
       "version_major": 2,
       "version_minor": 0
      },
      "text/plain": [
       "HBox(children=(IntProgress(value=0, max=26), HTML(value='')))"
      ]
     },
     "metadata": {},
     "output_type": "display_data"
    },
    {
     "name": "stderr",
     "output_type": "stream",
     "text": [
      "INFO:root:on epoch 22 by max_prec: 0.933\n"
     ]
    },
    {
     "name": "stdout",
     "output_type": "stream",
     "text": [
      "\r",
      "              precision    recall  f1-score   support\n",
      "\n",
      "       B_ORG      0.833     0.865     0.848       259\n",
      "       I_ORG      0.897     0.876     0.886      1000\n",
      "       B_LOC      0.919     0.891     0.905       192\n",
      "       I_LOC      0.874     0.871     0.873       303\n",
      "       B_PER      0.978     0.957     0.968       188\n",
      "       I_PER      0.991     0.966     0.978       649\n",
      "\n",
      "   micro avg      0.918     0.904     0.911      2591\n",
      "   macro avg      0.915     0.904     0.910      2591\n",
      "weighted avg      0.919     0.904     0.911      2591\n",
      "\n"
     ]
    },
    {
     "data": {
      "application/vnd.jupyter.widget-view+json": {
       "model_id": "",
       "version_major": 2,
       "version_minor": 0
      },
      "text/plain": [
       "HBox(children=(IntProgress(value=0, max=233), HTML(value='')))"
      ]
     },
     "metadata": {},
     "output_type": "display_data"
    },
    {
     "name": "stderr",
     "output_type": "stream",
     "text": [
      "INFO:root:\n",
      "lr after epoch: 0.004880836358518779\n",
      "INFO:root:\n",
      "epoch 41, average train epoch loss=0.1581\n",
      "\n"
     ]
    },
    {
     "name": "stdout",
     "output_type": "stream",
     "text": [
      "\r"
     ]
    },
    {
     "data": {
      "application/vnd.jupyter.widget-view+json": {
       "model_id": "",
       "version_major": 2,
       "version_minor": 0
      },
      "text/plain": [
       "HBox(children=(IntProgress(value=0, max=26), HTML(value='')))"
      ]
     },
     "metadata": {},
     "output_type": "display_data"
    },
    {
     "name": "stderr",
     "output_type": "stream",
     "text": [
      "INFO:root:on epoch 22 by max_prec: 0.933\n"
     ]
    },
    {
     "name": "stdout",
     "output_type": "stream",
     "text": [
      "\r",
      "              precision    recall  f1-score   support\n",
      "\n",
      "       B_ORG      0.861     0.768     0.812       259\n",
      "       I_ORG      0.921     0.777     0.843      1000\n",
      "       B_LOC      0.892     0.901     0.896       192\n",
      "       I_LOC      0.848     0.881     0.864       303\n",
      "       B_PER      0.949     0.989     0.969       188\n",
      "       I_PER      0.964     0.989     0.976       649\n",
      "\n",
      "   micro avg      0.917     0.866     0.891      2591\n",
      "   macro avg      0.906     0.884     0.893      2591\n",
      "weighted avg      0.917     0.866     0.889      2591\n",
      "\n"
     ]
    },
    {
     "data": {
      "application/vnd.jupyter.widget-view+json": {
       "model_id": "",
       "version_major": 2,
       "version_minor": 0
      },
      "text/plain": [
       "HBox(children=(IntProgress(value=0, max=233), HTML(value='')))"
      ]
     },
     "metadata": {},
     "output_type": "display_data"
    },
    {
     "name": "stderr",
     "output_type": "stream",
     "text": [
      "INFO:root:\n",
      "lr after epoch: 0.004755628123007411\n",
      "INFO:root:\n",
      "epoch 42, average train epoch loss=0.15534\n",
      "\n"
     ]
    },
    {
     "name": "stdout",
     "output_type": "stream",
     "text": [
      "\r"
     ]
    },
    {
     "data": {
      "application/vnd.jupyter.widget-view+json": {
       "model_id": "",
       "version_major": 2,
       "version_minor": 0
      },
      "text/plain": [
       "HBox(children=(IntProgress(value=0, max=26), HTML(value='')))"
      ]
     },
     "metadata": {},
     "output_type": "display_data"
    },
    {
     "name": "stderr",
     "output_type": "stream",
     "text": [
      "INFO:root:on epoch 22 by max_prec: 0.933\n"
     ]
    },
    {
     "name": "stdout",
     "output_type": "stream",
     "text": [
      "\r",
      "              precision    recall  f1-score   support\n",
      "\n",
      "       B_ORG      0.789     0.849     0.818       259\n",
      "       I_ORG      0.868     0.882     0.875      1000\n",
      "       B_LOC      0.897     0.906     0.902       192\n",
      "       I_LOC      0.885     0.888     0.886       303\n",
      "       B_PER      0.979     0.979     0.979       188\n",
      "       I_PER      0.991     0.978     0.984       649\n",
      "\n",
      "   micro avg      0.902     0.912     0.907      2591\n",
      "   macro avg      0.901     0.914     0.907      2591\n",
      "weighted avg      0.903     0.912     0.908      2591\n",
      "\n"
     ]
    },
    {
     "data": {
      "application/vnd.jupyter.widget-view+json": {
       "model_id": "",
       "version_major": 2,
       "version_minor": 0
      },
      "text/plain": [
       "HBox(children=(IntProgress(value=0, max=233), HTML(value='')))"
      ]
     },
     "metadata": {},
     "output_type": "display_data"
    },
    {
     "name": "stderr",
     "output_type": "stream",
     "text": [
      "INFO:root:\n",
      "lr after epoch: 0.004624897391844131\n",
      "INFO:root:\n",
      "epoch 43, average train epoch loss=0.12274\n",
      "\n"
     ]
    },
    {
     "name": "stdout",
     "output_type": "stream",
     "text": [
      "\r"
     ]
    },
    {
     "data": {
      "application/vnd.jupyter.widget-view+json": {
       "model_id": "",
       "version_major": 2,
       "version_minor": 0
      },
      "text/plain": [
       "HBox(children=(IntProgress(value=0, max=26), HTML(value='')))"
      ]
     },
     "metadata": {},
     "output_type": "display_data"
    },
    {
     "name": "stderr",
     "output_type": "stream",
     "text": [
      "INFO:root:on epoch 22 by max_prec: 0.933\n"
     ]
    },
    {
     "name": "stdout",
     "output_type": "stream",
     "text": [
      "\r",
      "              precision    recall  f1-score   support\n",
      "\n",
      "       B_ORG      0.807     0.873     0.839       259\n",
      "       I_ORG      0.882     0.873     0.877      1000\n",
      "       B_LOC      0.920     0.896     0.908       192\n",
      "       I_LOC      0.883     0.871     0.877       303\n",
      "       B_PER      0.974     0.984     0.979       188\n",
      "       I_PER      0.970     0.986     0.978       649\n",
      "\n",
      "   micro avg      0.906     0.911     0.908      2591\n",
      "   macro avg      0.906     0.914     0.910      2591\n",
      "weighted avg      0.906     0.911     0.908      2591\n",
      "\n"
     ]
    },
    {
     "data": {
      "application/vnd.jupyter.widget-view+json": {
       "model_id": "",
       "version_major": 2,
       "version_minor": 0
      },
      "text/plain": [
       "HBox(children=(IntProgress(value=0, max=233), HTML(value='')))"
      ]
     },
     "metadata": {},
     "output_type": "display_data"
    },
    {
     "name": "stderr",
     "output_type": "stream",
     "text": [
      "INFO:root:\n",
      "lr after epoch: 0.004488664484145031\n",
      "INFO:root:\n",
      "epoch 44, average train epoch loss=0.1348\n",
      "\n"
     ]
    },
    {
     "name": "stdout",
     "output_type": "stream",
     "text": [
      "\r"
     ]
    },
    {
     "data": {
      "application/vnd.jupyter.widget-view+json": {
       "model_id": "",
       "version_major": 2,
       "version_minor": 0
      },
      "text/plain": [
       "HBox(children=(IntProgress(value=0, max=26), HTML(value='')))"
      ]
     },
     "metadata": {},
     "output_type": "display_data"
    },
    {
     "name": "stderr",
     "output_type": "stream",
     "text": [
      "INFO:root:on epoch 22 by max_prec: 0.933\n"
     ]
    },
    {
     "name": "stdout",
     "output_type": "stream",
     "text": [
      "\r",
      "              precision    recall  f1-score   support\n",
      "\n",
      "       B_ORG      0.857     0.788     0.821       259\n",
      "       I_ORG      0.917     0.791     0.849      1000\n",
      "       B_LOC      0.868     0.922     0.894       192\n",
      "       I_LOC      0.813     0.904     0.856       303\n",
      "       B_PER      0.978     0.968     0.973       188\n",
      "       I_PER      0.980     0.968     0.974       649\n",
      "\n",
      "   micro avg      0.914     0.871     0.892      2591\n",
      "   macro avg      0.902     0.890     0.895      2591\n",
      "weighted avg      0.915     0.871     0.891      2591\n",
      "\n"
     ]
    },
    {
     "data": {
      "application/vnd.jupyter.widget-view+json": {
       "model_id": "",
       "version_major": 2,
       "version_minor": 0
      },
      "text/plain": [
       "HBox(children=(IntProgress(value=0, max=233), HTML(value='')))"
      ]
     },
     "metadata": {},
     "output_type": "display_data"
    },
    {
     "name": "stderr",
     "output_type": "stream",
     "text": [
      "INFO:root:\n",
      "lr after epoch: 0.004607272127843621\n",
      "INFO:root:\n",
      "epoch 45, average train epoch loss=0.1234\n",
      "\n"
     ]
    },
    {
     "name": "stdout",
     "output_type": "stream",
     "text": [
      "\r"
     ]
    },
    {
     "data": {
      "application/vnd.jupyter.widget-view+json": {
       "model_id": "",
       "version_major": 2,
       "version_minor": 0
      },
      "text/plain": [
       "HBox(children=(IntProgress(value=0, max=26), HTML(value='')))"
      ]
     },
     "metadata": {},
     "output_type": "display_data"
    },
    {
     "name": "stderr",
     "output_type": "stream",
     "text": [
      "INFO:root:on epoch 22 by max_prec: 0.933\n"
     ]
    },
    {
     "name": "stdout",
     "output_type": "stream",
     "text": [
      "\r",
      "              precision    recall  f1-score   support\n",
      "\n",
      "       B_ORG      0.873     0.745     0.804       259\n",
      "       I_ORG      0.952     0.756     0.843      1000\n",
      "       B_LOC      0.900     0.891     0.895       192\n",
      "       I_LOC      0.857     0.871     0.864       303\n",
      "       B_PER      0.968     0.979     0.974       188\n",
      "       I_PER      0.973     0.986     0.979       649\n",
      "\n",
      "   micro avg      0.935     0.852     0.892      2591\n",
      "   macro avg      0.921     0.871     0.893      2591\n",
      "weighted avg      0.936     0.852     0.889      2591\n",
      "\n"
     ]
    },
    {
     "data": {
      "application/vnd.jupyter.widget-view+json": {
       "model_id": "",
       "version_major": 2,
       "version_minor": 0
      },
      "text/plain": [
       "HBox(children=(IntProgress(value=0, max=233), HTML(value='')))"
      ]
     },
     "metadata": {},
     "output_type": "display_data"
    },
    {
     "name": "stderr",
     "output_type": "stream",
     "text": [
      "INFO:root:\n",
      "lr after epoch: 0.004732493937038964\n",
      "INFO:root:\n",
      "epoch 46, average train epoch loss=0.099739\n",
      "\n"
     ]
    },
    {
     "name": "stdout",
     "output_type": "stream",
     "text": [
      "\r"
     ]
    },
    {
     "data": {
      "application/vnd.jupyter.widget-view+json": {
       "model_id": "",
       "version_major": 2,
       "version_minor": 0
      },
      "text/plain": [
       "HBox(children=(IntProgress(value=0, max=26), HTML(value='')))"
      ]
     },
     "metadata": {},
     "output_type": "display_data"
    },
    {
     "name": "stderr",
     "output_type": "stream",
     "text": [
      "INFO:root:on epoch 22 by max_prec: 0.933\n"
     ]
    },
    {
     "name": "stdout",
     "output_type": "stream",
     "text": [
      "\r",
      "              precision    recall  f1-score   support\n",
      "\n",
      "       B_ORG      0.771     0.834     0.801       259\n",
      "       I_ORG      0.837     0.885     0.860      1000\n",
      "       B_LOC      0.886     0.891     0.888       192\n",
      "       I_LOC      0.853     0.845     0.849       303\n",
      "       B_PER      0.973     0.973     0.973       188\n",
      "       I_PER      0.980     0.977     0.978       649\n",
      "\n",
      "   micro avg      0.880     0.905     0.892      2591\n",
      "   macro avg      0.884     0.901     0.892      2591\n",
      "weighted avg      0.882     0.905     0.893      2591\n",
      "\n"
     ]
    },
    {
     "data": {
      "application/vnd.jupyter.widget-view+json": {
       "model_id": "",
       "version_major": 2,
       "version_minor": 0
      },
      "text/plain": [
       "HBox(children=(IntProgress(value=0, max=233), HTML(value='')))"
      ]
     },
     "metadata": {},
     "output_type": "display_data"
    },
    {
     "name": "stderr",
     "output_type": "stream",
     "text": [
      "INFO:root:\n",
      "lr after epoch: 0.004863211193889627\n",
      "INFO:root:\n",
      "epoch 47, average train epoch loss=0.10326\n",
      "\n"
     ]
    },
    {
     "name": "stdout",
     "output_type": "stream",
     "text": [
      "\r"
     ]
    },
    {
     "data": {
      "application/vnd.jupyter.widget-view+json": {
       "model_id": "",
       "version_major": 2,
       "version_minor": 0
      },
      "text/plain": [
       "HBox(children=(IntProgress(value=0, max=26), HTML(value='')))"
      ]
     },
     "metadata": {},
     "output_type": "display_data"
    },
    {
     "name": "stderr",
     "output_type": "stream",
     "text": [
      "INFO:root:on epoch 22 by max_prec: 0.933\n"
     ]
    },
    {
     "name": "stdout",
     "output_type": "stream",
     "text": [
      "\r",
      "              precision    recall  f1-score   support\n",
      "\n",
      "       B_ORG      0.831     0.838     0.835       259\n",
      "       I_ORG      0.896     0.875     0.885      1000\n",
      "       B_LOC      0.911     0.911     0.911       192\n",
      "       I_LOC      0.908     0.878     0.893       303\n",
      "       B_PER      0.959     0.989     0.974       188\n",
      "       I_PER      0.965     0.991     0.978       649\n",
      "\n",
      "   micro avg      0.914     0.912     0.913      2591\n",
      "   macro avg      0.912     0.914     0.913      2591\n",
      "weighted avg      0.914     0.912     0.913      2591\n",
      "\n"
     ]
    },
    {
     "data": {
      "application/vnd.jupyter.widget-view+json": {
       "model_id": "",
       "version_major": 2,
       "version_minor": 0
      },
      "text/plain": [
       "HBox(children=(IntProgress(value=0, max=233), HTML(value='')))"
      ]
     },
     "metadata": {},
     "output_type": "display_data"
    },
    {
     "name": "stderr",
     "output_type": "stream",
     "text": [
      "INFO:root:\n",
      "lr after epoch: 0.004999403711835302\n",
      "INFO:root:\n",
      "epoch 48, average train epoch loss=0.13392\n",
      "\n"
     ]
    },
    {
     "name": "stdout",
     "output_type": "stream",
     "text": [
      "\r"
     ]
    },
    {
     "data": {
      "application/vnd.jupyter.widget-view+json": {
       "model_id": "",
       "version_major": 2,
       "version_minor": 0
      },
      "text/plain": [
       "HBox(children=(IntProgress(value=0, max=26), HTML(value='')))"
      ]
     },
     "metadata": {},
     "output_type": "display_data"
    },
    {
     "name": "stderr",
     "output_type": "stream",
     "text": [
      "INFO:root:on epoch 22 by max_prec: 0.933\n"
     ]
    },
    {
     "name": "stdout",
     "output_type": "stream",
     "text": [
      "\r",
      "              precision    recall  f1-score   support\n",
      "\n",
      "       B_ORG      0.808     0.826     0.817       259\n",
      "       I_ORG      0.878     0.870     0.874      1000\n",
      "       B_LOC      0.907     0.911     0.909       192\n",
      "       I_LOC      0.873     0.888     0.881       303\n",
      "       B_PER      0.994     0.952     0.973       188\n",
      "       I_PER      0.997     0.960     0.978       649\n",
      "\n",
      "   micro avg      0.909     0.899     0.904      2591\n",
      "   macro avg      0.909     0.901     0.905      2591\n",
      "weighted avg      0.911     0.899     0.905      2591\n",
      "\n"
     ]
    },
    {
     "data": {
      "application/vnd.jupyter.widget-view+json": {
       "model_id": "",
       "version_major": 2,
       "version_minor": 0
      },
      "text/plain": [
       "HBox(children=(IntProgress(value=0, max=233), HTML(value='')))"
      ]
     },
     "metadata": {},
     "output_type": "display_data"
    },
    {
     "name": "stderr",
     "output_type": "stream",
     "text": [
      "INFO:root:\n",
      "lr after epoch: 0.00485894862973122\n",
      "INFO:root:\n",
      "epoch 49, average train epoch loss=0.13071\n",
      "\n"
     ]
    },
    {
     "name": "stdout",
     "output_type": "stream",
     "text": [
      "\r"
     ]
    },
    {
     "data": {
      "application/vnd.jupyter.widget-view+json": {
       "model_id": "",
       "version_major": 2,
       "version_minor": 0
      },
      "text/plain": [
       "HBox(children=(IntProgress(value=0, max=26), HTML(value='')))"
      ]
     },
     "metadata": {},
     "output_type": "display_data"
    },
    {
     "name": "stderr",
     "output_type": "stream",
     "text": [
      "INFO:root:on epoch 22 by max_prec: 0.933\n"
     ]
    },
    {
     "name": "stdout",
     "output_type": "stream",
     "text": [
      "\r",
      "              precision    recall  f1-score   support\n",
      "\n",
      "       B_ORG      0.853     0.784     0.817       259\n",
      "       I_ORG      0.925     0.796     0.855      1000\n",
      "       B_LOC      0.906     0.906     0.906       192\n",
      "       I_LOC      0.865     0.884     0.874       303\n",
      "       B_PER      0.978     0.963     0.971       188\n",
      "       I_PER      0.966     0.977     0.972       649\n",
      "\n",
      "   micro avg      0.924     0.871     0.896      2591\n",
      "   macro avg      0.916     0.885     0.899      2591\n",
      "weighted avg      0.923     0.871     0.895      2591\n",
      "\n"
     ]
    },
    {
     "data": {
      "application/vnd.jupyter.widget-view+json": {
       "model_id": "",
       "version_major": 2,
       "version_minor": 0
      },
      "text/plain": [
       "HBox(children=(IntProgress(value=0, max=233), HTML(value='')))"
      ]
     },
     "metadata": {},
     "output_type": "display_data"
    },
    {
     "name": "stderr",
     "output_type": "stream",
     "text": [
      "INFO:root:\n",
      "lr after epoch: 0.004711865885666105\n",
      "INFO:root:\n",
      "epoch 50, average train epoch loss=0.12296\n",
      "\n"
     ]
    },
    {
     "name": "stdout",
     "output_type": "stream",
     "text": [
      "\r"
     ]
    },
    {
     "data": {
      "application/vnd.jupyter.widget-view+json": {
       "model_id": "",
       "version_major": 2,
       "version_minor": 0
      },
      "text/plain": [
       "HBox(children=(IntProgress(value=0, max=26), HTML(value='')))"
      ]
     },
     "metadata": {},
     "output_type": "display_data"
    },
    {
     "name": "stderr",
     "output_type": "stream",
     "text": [
      "INFO:root:on epoch 22 by max_prec: 0.933\n"
     ]
    },
    {
     "name": "stdout",
     "output_type": "stream",
     "text": [
      "\r",
      "              precision    recall  f1-score   support\n",
      "\n",
      "       B_ORG      0.801     0.826     0.814       259\n",
      "       I_ORG      0.866     0.868     0.867      1000\n",
      "       B_LOC      0.914     0.891     0.902       192\n",
      "       I_LOC      0.911     0.875     0.892       303\n",
      "       B_PER      0.974     0.979     0.976       188\n",
      "       I_PER      0.980     0.985     0.982       649\n",
      "\n",
      "   micro avg      0.905     0.904     0.904      2591\n",
      "   macro avg      0.908     0.904     0.906      2591\n",
      "weighted avg      0.905     0.904     0.904      2591\n",
      "\n"
     ]
    },
    {
     "data": {
      "application/vnd.jupyter.widget-view+json": {
       "model_id": "",
       "version_major": 2,
       "version_minor": 0
      },
      "text/plain": [
       "HBox(children=(IntProgress(value=0, max=233), HTML(value='')))"
      ]
     },
     "metadata": {},
     "output_type": "display_data"
    },
    {
     "name": "stderr",
     "output_type": "stream",
     "text": [
      "INFO:root:\n",
      "lr after epoch: 0.004559368045275949\n",
      "INFO:root:\n",
      "epoch 51, average train epoch loss=0.086265\n",
      "\n"
     ]
    },
    {
     "name": "stdout",
     "output_type": "stream",
     "text": [
      "\r"
     ]
    },
    {
     "data": {
      "application/vnd.jupyter.widget-view+json": {
       "model_id": "",
       "version_major": 2,
       "version_minor": 0
      },
      "text/plain": [
       "HBox(children=(IntProgress(value=0, max=26), HTML(value='')))"
      ]
     },
     "metadata": {},
     "output_type": "display_data"
    },
    {
     "name": "stderr",
     "output_type": "stream",
     "text": [
      "INFO:root:on epoch 22 by max_prec: 0.933\n"
     ]
    },
    {
     "name": "stdout",
     "output_type": "stream",
     "text": [
      "\r",
      "              precision    recall  f1-score   support\n",
      "\n",
      "       B_ORG      0.815     0.849     0.832       259\n",
      "       I_ORG      0.885     0.870     0.877      1000\n",
      "       B_LOC      0.944     0.880     0.911       192\n",
      "       I_LOC      0.916     0.868     0.892       303\n",
      "       B_PER      0.979     0.973     0.976       188\n",
      "       I_PER      0.983     0.977     0.980       649\n",
      "\n",
      "   micro avg      0.917     0.903     0.910      2591\n",
      "   macro avg      0.920     0.903     0.911      2591\n",
      "weighted avg      0.917     0.903     0.910      2591\n",
      "\n"
     ]
    },
    {
     "data": {
      "application/vnd.jupyter.widget-view+json": {
       "model_id": "",
       "version_major": 2,
       "version_minor": 0
      },
      "text/plain": [
       "HBox(children=(IntProgress(value=0, max=233), HTML(value='')))"
      ]
     },
     "metadata": {},
     "output_type": "display_data"
    },
    {
     "name": "stderr",
     "output_type": "stream",
     "text": [
      "INFO:root:\n",
      "lr after epoch: 0.004401475032518651\n",
      "INFO:root:\n",
      "epoch 52, average train epoch loss=0.087601\n",
      "\n"
     ]
    },
    {
     "name": "stdout",
     "output_type": "stream",
     "text": [
      "\r"
     ]
    },
    {
     "data": {
      "application/vnd.jupyter.widget-view+json": {
       "model_id": "",
       "version_major": 2,
       "version_minor": 0
      },
      "text/plain": [
       "HBox(children=(IntProgress(value=0, max=26), HTML(value='')))"
      ]
     },
     "metadata": {},
     "output_type": "display_data"
    },
    {
     "name": "stderr",
     "output_type": "stream",
     "text": [
      "INFO:root:on epoch 22 by max_prec: 0.933\n"
     ]
    },
    {
     "name": "stdout",
     "output_type": "stream",
     "text": [
      "\r",
      "              precision    recall  f1-score   support\n",
      "\n",
      "       B_ORG      0.846     0.826     0.836       259\n",
      "       I_ORG      0.948     0.809     0.873      1000\n",
      "       B_LOC      0.905     0.891     0.898       192\n",
      "       I_LOC      0.902     0.848     0.874       303\n",
      "       B_PER      0.968     0.973     0.971       188\n",
      "       I_PER      0.969     0.978     0.974       649\n",
      "\n",
      "   micro avg      0.936     0.876     0.905      2591\n",
      "   macro avg      0.923     0.888     0.904      2591\n",
      "weighted avg      0.936     0.876     0.904      2591\n",
      "\n"
     ]
    },
    {
     "data": {
      "application/vnd.jupyter.widget-view+json": {
       "model_id": "",
       "version_major": 2,
       "version_minor": 0
      },
      "text/plain": [
       "HBox(children=(IntProgress(value=0, max=233), HTML(value='')))"
      ]
     },
     "metadata": {},
     "output_type": "display_data"
    },
    {
     "name": "stderr",
     "output_type": "stream",
     "text": [
      "INFO:root:\n",
      "lr after epoch: 0.004541876885174046\n",
      "INFO:root:\n",
      "epoch 53, average train epoch loss=0.10963\n",
      "\n"
     ]
    },
    {
     "name": "stdout",
     "output_type": "stream",
     "text": [
      "\r"
     ]
    },
    {
     "data": {
      "application/vnd.jupyter.widget-view+json": {
       "model_id": "",
       "version_major": 2,
       "version_minor": 0
      },
      "text/plain": [
       "HBox(children=(IntProgress(value=0, max=26), HTML(value='')))"
      ]
     },
     "metadata": {},
     "output_type": "display_data"
    },
    {
     "name": "stderr",
     "output_type": "stream",
     "text": [
      "INFO:root:on epoch 22 by max_prec: 0.933\n"
     ]
    },
    {
     "name": "stdout",
     "output_type": "stream",
     "text": [
      "\r",
      "              precision    recall  f1-score   support\n",
      "\n",
      "       B_ORG      0.838     0.861     0.850       259\n",
      "       I_ORG      0.908     0.865     0.886      1000\n",
      "       B_LOC      0.907     0.911     0.909       192\n",
      "       I_LOC      0.814     0.865     0.838       303\n",
      "       B_PER      0.979     0.979     0.979       188\n",
      "       I_PER      0.986     0.985     0.985       649\n",
      "\n",
      "   micro avg      0.914     0.906     0.910      2591\n",
      "   macro avg      0.905     0.911     0.908      2591\n",
      "weighted avg      0.914     0.906     0.910      2591\n",
      "\n"
     ]
    },
    {
     "data": {
      "application/vnd.jupyter.widget-view+json": {
       "model_id": "",
       "version_major": 2,
       "version_minor": 0
      },
      "text/plain": [
       "HBox(children=(IntProgress(value=0, max=233), HTML(value='')))"
      ]
     },
     "metadata": {},
     "output_type": "display_data"
    },
    {
     "name": "stderr",
     "output_type": "stream",
     "text": [
      "INFO:root:\n",
      "lr after epoch: 0.00468897293894746\n",
      "INFO:root:\n",
      "epoch 54, average train epoch loss=0.23313\n",
      "\n"
     ]
    },
    {
     "name": "stdout",
     "output_type": "stream",
     "text": [
      "\r"
     ]
    },
    {
     "data": {
      "application/vnd.jupyter.widget-view+json": {
       "model_id": "",
       "version_major": 2,
       "version_minor": 0
      },
      "text/plain": [
       "HBox(children=(IntProgress(value=0, max=26), HTML(value='')))"
      ]
     },
     "metadata": {},
     "output_type": "display_data"
    },
    {
     "name": "stderr",
     "output_type": "stream",
     "text": [
      "INFO:root:on epoch 53 by max_prec: 0.936\n",
      "INFO:root:Saving new best model...\n"
     ]
    },
    {
     "name": "stdout",
     "output_type": "stream",
     "text": [
      "\r",
      "              precision    recall  f1-score   support\n",
      "\n",
      "       B_ORG      0.849     0.849     0.849       259\n",
      "       I_ORG      0.921     0.860     0.889      1000\n",
      "       B_LOC      0.933     0.865     0.897       192\n",
      "       I_LOC      0.936     0.822     0.875       303\n",
      "       B_PER      0.989     0.979     0.984       188\n",
      "       I_PER      0.988     0.982     0.985       649\n",
      "\n",
      "   micro avg      0.938     0.894     0.916      2591\n",
      "   macro avg      0.936     0.893     0.913      2591\n",
      "weighted avg      0.938     0.894     0.915      2591\n",
      "\n"
     ]
    },
    {
     "data": {
      "application/vnd.jupyter.widget-view+json": {
       "model_id": "",
       "version_major": 2,
       "version_minor": 0
      },
      "text/plain": [
       "HBox(children=(IntProgress(value=0, max=233), HTML(value='')))"
      ]
     },
     "metadata": {},
     "output_type": "display_data"
    },
    {
     "name": "stderr",
     "output_type": "stream",
     "text": [
      "INFO:root:\n",
      "lr after epoch: 0.004841457567068141\n",
      "INFO:root:\n",
      "epoch 55, average train epoch loss=0.10514\n",
      "\n"
     ]
    },
    {
     "name": "stdout",
     "output_type": "stream",
     "text": [
      "\r"
     ]
    },
    {
     "data": {
      "application/vnd.jupyter.widget-view+json": {
       "model_id": "",
       "version_major": 2,
       "version_minor": 0
      },
      "text/plain": [
       "HBox(children=(IntProgress(value=0, max=26), HTML(value='')))"
      ]
     },
     "metadata": {},
     "output_type": "display_data"
    },
    {
     "name": "stderr",
     "output_type": "stream",
     "text": [
      "INFO:root:on epoch 53 by max_prec: 0.936\n"
     ]
    },
    {
     "name": "stdout",
     "output_type": "stream",
     "text": [
      "\r",
      "              precision    recall  f1-score   support\n",
      "\n",
      "       B_ORG      0.876     0.815     0.844       259\n",
      "       I_ORG      0.943     0.811     0.872      1000\n",
      "       B_LOC      0.887     0.901     0.894       192\n",
      "       I_LOC      0.844     0.878     0.861       303\n",
      "       B_PER      0.969     0.984     0.976       188\n",
      "       I_PER      0.976     0.983     0.979       649\n",
      "\n",
      "   micro avg      0.930     0.882     0.905      2591\n",
      "   macro avg      0.916     0.895     0.904      2591\n",
      "weighted avg      0.931     0.882     0.904      2591\n",
      "\n"
     ]
    },
    {
     "data": {
      "application/vnd.jupyter.widget-view+json": {
       "model_id": "",
       "version_major": 2,
       "version_minor": 0
      },
      "text/plain": [
       "HBox(children=(IntProgress(value=0, max=233), HTML(value='')))"
      ]
     },
     "metadata": {},
     "output_type": "display_data"
    },
    {
     "name": "stderr",
     "output_type": "stream",
     "text": [
      "INFO:root:\n",
      "lr after epoch: 0.004999310975556077\n",
      "INFO:root:\n",
      "epoch 56, average train epoch loss=0.12284\n",
      "\n"
     ]
    },
    {
     "name": "stdout",
     "output_type": "stream",
     "text": [
      "\r"
     ]
    },
    {
     "data": {
      "application/vnd.jupyter.widget-view+json": {
       "model_id": "",
       "version_major": 2,
       "version_minor": 0
      },
      "text/plain": [
       "HBox(children=(IntProgress(value=0, max=26), HTML(value='')))"
      ]
     },
     "metadata": {},
     "output_type": "display_data"
    },
    {
     "name": "stderr",
     "output_type": "stream",
     "text": [
      "INFO:root:on epoch 53 by max_prec: 0.936\n"
     ]
    },
    {
     "name": "stdout",
     "output_type": "stream",
     "text": [
      "\r",
      "              precision    recall  f1-score   support\n",
      "\n",
      "       B_ORG      0.808     0.846     0.826       259\n",
      "       I_ORG      0.894     0.847     0.870      1000\n",
      "       B_LOC      0.929     0.885     0.907       192\n",
      "       I_LOC      0.924     0.838     0.879       303\n",
      "       B_PER      0.978     0.968     0.973       188\n",
      "       I_PER      0.975     0.974     0.975       649\n",
      "\n",
      "   micro avg      0.918     0.889     0.903      2591\n",
      "   macro avg      0.918     0.893     0.905      2591\n",
      "weighted avg      0.918     0.889     0.903      2591\n",
      "\n"
     ]
    },
    {
     "data": {
      "application/vnd.jupyter.widget-view+json": {
       "model_id": "",
       "version_major": 2,
       "version_minor": 0
      },
      "text/plain": [
       "HBox(children=(IntProgress(value=0, max=233), HTML(value='')))"
      ]
     },
     "metadata": {},
     "output_type": "display_data"
    },
    {
     "name": "stderr",
     "output_type": "stream",
     "text": [
      "INFO:root:\n",
      "lr after epoch: 0.004837486564898272\n",
      "INFO:root:\n",
      "epoch 57, average train epoch loss=0.10096\n",
      "\n"
     ]
    },
    {
     "name": "stdout",
     "output_type": "stream",
     "text": [
      "\r"
     ]
    },
    {
     "data": {
      "application/vnd.jupyter.widget-view+json": {
       "model_id": "",
       "version_major": 2,
       "version_minor": 0
      },
      "text/plain": [
       "HBox(children=(IntProgress(value=0, max=26), HTML(value='')))"
      ]
     },
     "metadata": {},
     "output_type": "display_data"
    },
    {
     "name": "stderr",
     "output_type": "stream",
     "text": [
      "INFO:root:on epoch 53 by max_prec: 0.936\n"
     ]
    },
    {
     "name": "stdout",
     "output_type": "stream",
     "text": [
      "\r",
      "              precision    recall  f1-score   support\n",
      "\n",
      "       B_ORG      0.853     0.826     0.839       259\n",
      "       I_ORG      0.903     0.837     0.869      1000\n",
      "       B_LOC      0.929     0.885     0.907       192\n",
      "       I_LOC      0.899     0.851     0.875       303\n",
      "       B_PER      0.989     0.952     0.970       188\n",
      "       I_PER      0.991     0.965     0.977       649\n",
      "\n",
      "   micro avg      0.928     0.882     0.904      2591\n",
      "   macro avg      0.927     0.886     0.906      2591\n",
      "weighted avg      0.928     0.882     0.904      2591\n",
      "\n"
     ]
    },
    {
     "data": {
      "application/vnd.jupyter.widget-view+json": {
       "model_id": "",
       "version_major": 2,
       "version_minor": 0
      },
      "text/plain": [
       "HBox(children=(IntProgress(value=0, max=233), HTML(value='')))"
      ]
     },
     "metadata": {},
     "output_type": "display_data"
    },
    {
     "name": "stderr",
     "output_type": "stream",
     "text": [
      "INFO:root:\n",
      "lr after epoch: 0.004668954719132104\n",
      "INFO:root:\n",
      "epoch 58, average train epoch loss=0.10087\n",
      "\n"
     ]
    },
    {
     "name": "stdout",
     "output_type": "stream",
     "text": [
      "\r"
     ]
    },
    {
     "data": {
      "application/vnd.jupyter.widget-view+json": {
       "model_id": "",
       "version_major": 2,
       "version_minor": 0
      },
      "text/plain": [
       "HBox(children=(IntProgress(value=0, max=26), HTML(value='')))"
      ]
     },
     "metadata": {},
     "output_type": "display_data"
    },
    {
     "name": "stderr",
     "output_type": "stream",
     "text": [
      "INFO:root:on epoch 53 by max_prec: 0.936\n"
     ]
    },
    {
     "name": "stdout",
     "output_type": "stream",
     "text": [
      "\r",
      "              precision    recall  f1-score   support\n",
      "\n",
      "       B_ORG      0.831     0.834     0.832       259\n",
      "       I_ORG      0.915     0.841     0.876      1000\n",
      "       B_LOC      0.901     0.896     0.898       192\n",
      "       I_LOC      0.874     0.868     0.871       303\n",
      "       B_PER      0.984     0.979     0.981       188\n",
      "       I_PER      0.984     0.977     0.981       649\n",
      "\n",
      "   micro avg      0.923     0.892     0.907      2591\n",
      "   macro avg      0.915     0.899     0.907      2591\n",
      "weighted avg      0.923     0.892     0.907      2591\n",
      "\n"
     ]
    },
    {
     "data": {
      "application/vnd.jupyter.widget-view+json": {
       "model_id": "",
       "version_major": 2,
       "version_minor": 0
      },
      "text/plain": [
       "HBox(children=(IntProgress(value=0, max=233), HTML(value='')))"
      ]
     },
     "metadata": {},
     "output_type": "display_data"
    },
    {
     "name": "stderr",
     "output_type": "stream",
     "text": [
      "INFO:root:\n",
      "lr after epoch: 0.00449511308770783\n",
      "INFO:root:\n",
      "epoch 59, average train epoch loss=0.14811\n",
      "\n"
     ]
    },
    {
     "name": "stdout",
     "output_type": "stream",
     "text": [
      "\r"
     ]
    },
    {
     "data": {
      "application/vnd.jupyter.widget-view+json": {
       "model_id": "",
       "version_major": 2,
       "version_minor": 0
      },
      "text/plain": [
       "HBox(children=(IntProgress(value=0, max=26), HTML(value='')))"
      ]
     },
     "metadata": {},
     "output_type": "display_data"
    },
    {
     "name": "stderr",
     "output_type": "stream",
     "text": [
      "INFO:root:on epoch 53 by max_prec: 0.936\n"
     ]
    },
    {
     "name": "stdout",
     "output_type": "stream",
     "text": [
      "\r",
      "              precision    recall  f1-score   support\n",
      "\n",
      "       B_ORG      0.863     0.799     0.830       259\n",
      "       I_ORG      0.922     0.826     0.871      1000\n",
      "       B_LOC      0.929     0.880     0.904       192\n",
      "       I_LOC      0.932     0.812     0.868       303\n",
      "       B_PER      0.963     0.979     0.971       188\n",
      "       I_PER      0.969     0.978     0.974       649\n",
      "\n",
      "   micro avg      0.934     0.875     0.903      2591\n",
      "   macro avg      0.930     0.879     0.903      2591\n",
      "weighted avg      0.933     0.875     0.902      2591\n",
      "\n"
     ]
    },
    {
     "data": {
      "application/vnd.jupyter.widget-view+json": {
       "model_id": "",
       "version_major": 2,
       "version_minor": 0
      },
      "text/plain": [
       "HBox(children=(IntProgress(value=0, max=233), HTML(value='')))"
      ]
     },
     "metadata": {},
     "output_type": "display_data"
    },
    {
     "name": "stderr",
     "output_type": "stream",
     "text": [
      "INFO:root:\n",
      "lr after epoch: 0.004315981207110041\n",
      "INFO:root:\n",
      "epoch 60, average train epoch loss=0.11909\n",
      "\n"
     ]
    },
    {
     "name": "stdout",
     "output_type": "stream",
     "text": [
      "\r"
     ]
    },
    {
     "data": {
      "application/vnd.jupyter.widget-view+json": {
       "model_id": "",
       "version_major": 2,
       "version_minor": 0
      },
      "text/plain": [
       "HBox(children=(IntProgress(value=0, max=26), HTML(value='')))"
      ]
     },
     "metadata": {},
     "output_type": "display_data"
    },
    {
     "name": "stderr",
     "output_type": "stream",
     "text": [
      "INFO:root:on epoch 53 by max_prec: 0.936\n"
     ]
    },
    {
     "name": "stdout",
     "output_type": "stream",
     "text": [
      "\r",
      "              precision    recall  f1-score   support\n",
      "\n",
      "       B_ORG      0.847     0.792     0.818       259\n",
      "       I_ORG      0.942     0.776     0.851      1000\n",
      "       B_LOC      0.901     0.901     0.901       192\n",
      "       I_LOC      0.871     0.868     0.869       303\n",
      "       B_PER      0.953     0.973     0.963       188\n",
      "       I_PER      0.964     0.978     0.971       649\n",
      "\n",
      "   micro avg      0.927     0.863     0.894      2591\n",
      "   macro avg      0.913     0.881     0.896      2591\n",
      "weighted avg      0.927     0.863     0.892      2591\n",
      "\n"
     ]
    },
    {
     "data": {
      "application/vnd.jupyter.widget-view+json": {
       "model_id": "",
       "version_major": 2,
       "version_minor": 0
      },
      "text/plain": [
       "HBox(children=(IntProgress(value=0, max=233), HTML(value='')))"
      ]
     },
     "metadata": {},
     "output_type": "display_data"
    },
    {
     "name": "stderr",
     "output_type": "stream",
     "text": [
      "INFO:root:\n",
      "lr after epoch: 0.004477753423504576\n",
      "INFO:root:\n",
      "epoch 61, average train epoch loss=0.096272\n",
      "\n"
     ]
    },
    {
     "name": "stdout",
     "output_type": "stream",
     "text": [
      "\r"
     ]
    },
    {
     "data": {
      "application/vnd.jupyter.widget-view+json": {
       "model_id": "",
       "version_major": 2,
       "version_minor": 0
      },
      "text/plain": [
       "HBox(children=(IntProgress(value=0, max=26), HTML(value='')))"
      ]
     },
     "metadata": {},
     "output_type": "display_data"
    },
    {
     "name": "stderr",
     "output_type": "stream",
     "text": [
      "INFO:root:on epoch 53 by max_prec: 0.936\n"
     ]
    },
    {
     "name": "stdout",
     "output_type": "stream",
     "text": [
      "\r",
      "              precision    recall  f1-score   support\n",
      "\n",
      "       B_ORG      0.842     0.842     0.842       259\n",
      "       I_ORG      0.891     0.840     0.865      1000\n",
      "       B_LOC      0.848     0.901     0.874       192\n",
      "       I_LOC      0.769     0.888     0.824       303\n",
      "       B_PER      0.979     0.973     0.976       188\n",
      "       I_PER      0.983     0.978     0.981       649\n",
      "\n",
      "   micro avg      0.895     0.895     0.895      2591\n",
      "   macro avg      0.885     0.904     0.893      2591\n",
      "weighted avg      0.898     0.895     0.895      2591\n",
      "\n"
     ]
    },
    {
     "data": {
      "application/vnd.jupyter.widget-view+json": {
       "model_id": "",
       "version_major": 2,
       "version_minor": 0
      },
      "text/plain": [
       "HBox(children=(IntProgress(value=0, max=233), HTML(value='')))"
      ]
     },
     "metadata": {},
     "output_type": "display_data"
    },
    {
     "name": "stderr",
     "output_type": "stream",
     "text": [
      "INFO:root:\n",
      "lr after epoch: 0.004646298320137062\n",
      "INFO:root:\n",
      "epoch 62, average train epoch loss=0.17613\n",
      "\n"
     ]
    },
    {
     "name": "stdout",
     "output_type": "stream",
     "text": [
      "\r"
     ]
    },
    {
     "data": {
      "application/vnd.jupyter.widget-view+json": {
       "model_id": "",
       "version_major": 2,
       "version_minor": 0
      },
      "text/plain": [
       "HBox(children=(IntProgress(value=0, max=26), HTML(value='')))"
      ]
     },
     "metadata": {},
     "output_type": "display_data"
    },
    {
     "name": "stderr",
     "output_type": "stream",
     "text": [
      "INFO:root:on epoch 53 by max_prec: 0.936\n"
     ]
    },
    {
     "name": "stdout",
     "output_type": "stream",
     "text": [
      "\r",
      "              precision    recall  f1-score   support\n",
      "\n",
      "       B_ORG      0.882     0.776     0.825       259\n",
      "       I_ORG      0.954     0.753     0.842      1000\n",
      "       B_LOC      0.898     0.870     0.884       192\n",
      "       I_LOC      0.879     0.842     0.860       303\n",
      "       B_PER      0.958     0.968     0.963       188\n",
      "       I_PER      0.959     0.974     0.966       649\n",
      "\n",
      "   micro avg      0.935     0.845     0.888      2591\n",
      "   macro avg      0.922     0.864     0.890      2591\n",
      "weighted avg      0.936     0.845     0.885      2591\n",
      "\n"
     ]
    },
    {
     "data": {
      "application/vnd.jupyter.widget-view+json": {
       "model_id": "",
       "version_major": 2,
       "version_minor": 0
      },
      "text/plain": [
       "HBox(children=(IntProgress(value=0, max=233), HTML(value='')))"
      ]
     },
     "metadata": {},
     "output_type": "display_data"
    },
    {
     "name": "stderr",
     "output_type": "stream",
     "text": [
      "INFO:root:\n",
      "lr after epoch: 0.004820126996238888\n",
      "INFO:root:\n",
      "epoch 63, average train epoch loss=0.10311\n",
      "\n"
     ]
    },
    {
     "name": "stdout",
     "output_type": "stream",
     "text": [
      "\r"
     ]
    },
    {
     "data": {
      "application/vnd.jupyter.widget-view+json": {
       "model_id": "",
       "version_major": 2,
       "version_minor": 0
      },
      "text/plain": [
       "HBox(children=(IntProgress(value=0, max=26), HTML(value='')))"
      ]
     },
     "metadata": {},
     "output_type": "display_data"
    },
    {
     "name": "stderr",
     "output_type": "stream",
     "text": [
      "INFO:root:on epoch 53 by max_prec: 0.936\n"
     ]
    },
    {
     "name": "stdout",
     "output_type": "stream",
     "text": [
      "\r",
      "              precision    recall  f1-score   support\n",
      "\n",
      "       B_ORG      0.790     0.873     0.829       259\n",
      "       I_ORG      0.863     0.875     0.869      1000\n",
      "       B_LOC      0.901     0.896     0.898       192\n",
      "       I_LOC      0.880     0.868     0.874       303\n",
      "       B_PER      0.963     0.979     0.971       188\n",
      "       I_PER      0.980     0.982     0.981       649\n",
      "\n",
      "   micro avg      0.896     0.910     0.903      2591\n",
      "   macro avg      0.896     0.912     0.904      2591\n",
      "weighted avg      0.897     0.910     0.903      2591\n",
      "\n"
     ]
    },
    {
     "data": {
      "application/vnd.jupyter.widget-view+json": {
       "model_id": "",
       "version_major": 2,
       "version_minor": 0
      },
      "text/plain": [
       "HBox(children=(IntProgress(value=0, max=233), HTML(value='')))"
      ]
     },
     "metadata": {},
     "output_type": "display_data"
    },
    {
     "name": "stderr",
     "output_type": "stream",
     "text": [
      "INFO:root:\n",
      "lr after epoch: 0.004999220042775595\n",
      "INFO:root:\n",
      "epoch 64, average train epoch loss=0.15347\n",
      "\n"
     ]
    },
    {
     "name": "stdout",
     "output_type": "stream",
     "text": [
      "\r"
     ]
    },
    {
     "data": {
      "application/vnd.jupyter.widget-view+json": {
       "model_id": "",
       "version_major": 2,
       "version_minor": 0
      },
      "text/plain": [
       "HBox(children=(IntProgress(value=0, max=26), HTML(value='')))"
      ]
     },
     "metadata": {},
     "output_type": "display_data"
    },
    {
     "name": "stderr",
     "output_type": "stream",
     "text": [
      "INFO:root:on epoch 53 by max_prec: 0.936\n"
     ]
    },
    {
     "name": "stdout",
     "output_type": "stream",
     "text": [
      "\r",
      "              precision    recall  f1-score   support\n",
      "\n",
      "       B_ORG      0.852     0.822     0.837       259\n",
      "       I_ORG      0.920     0.814     0.864      1000\n",
      "       B_LOC      0.869     0.896     0.882       192\n",
      "       I_LOC      0.816     0.861     0.838       303\n",
      "       B_PER      0.963     0.968     0.966       188\n",
      "       I_PER      0.969     0.971     0.970       649\n",
      "\n",
      "   micro avg      0.912     0.877     0.894      2591\n",
      "   macro avg      0.898     0.889     0.893      2591\n",
      "weighted avg      0.913     0.877     0.893      2591\n",
      "\n"
     ]
    },
    {
     "data": {
      "application/vnd.jupyter.widget-view+json": {
       "model_id": "",
       "version_major": 2,
       "version_minor": 0
      },
      "text/plain": [
       "HBox(children=(IntProgress(value=0, max=233), HTML(value='')))"
      ]
     },
     "metadata": {},
     "output_type": "display_data"
    },
    {
     "name": "stderr",
     "output_type": "stream",
     "text": [
      "INFO:root:\n",
      "lr after epoch: 0.004816441885874495\n",
      "INFO:root:\n",
      "epoch 65, average train epoch loss=0.16995\n",
      "\n"
     ]
    },
    {
     "name": "stdout",
     "output_type": "stream",
     "text": [
      "\r"
     ]
    },
    {
     "data": {
      "application/vnd.jupyter.widget-view+json": {
       "model_id": "",
       "version_major": 2,
       "version_minor": 0
      },
      "text/plain": [
       "HBox(children=(IntProgress(value=0, max=26), HTML(value='')))"
      ]
     },
     "metadata": {},
     "output_type": "display_data"
    },
    {
     "name": "stderr",
     "output_type": "stream",
     "text": [
      "INFO:root:on epoch 53 by max_prec: 0.936\n"
     ]
    },
    {
     "name": "stdout",
     "output_type": "stream",
     "text": [
      "\r",
      "              precision    recall  f1-score   support\n",
      "\n",
      "       B_ORG      0.801     0.869     0.833       259\n",
      "       I_ORG      0.888     0.863     0.875      1000\n",
      "       B_LOC      0.933     0.875     0.903       192\n",
      "       I_LOC      0.957     0.802     0.873       303\n",
      "       B_PER      0.968     0.957     0.963       188\n",
      "       I_PER      0.977     0.968     0.972       649\n",
      "\n",
      "   micro avg      0.917     0.890     0.903      2591\n",
      "   macro avg      0.921     0.889     0.903      2591\n",
      "weighted avg      0.919     0.890     0.903      2591\n",
      "\n"
     ]
    },
    {
     "data": {
      "application/vnd.jupyter.widget-view+json": {
       "model_id": "",
       "version_major": 2,
       "version_minor": 0
      },
      "text/plain": [
       "HBox(children=(IntProgress(value=0, max=233), HTML(value='')))"
      ]
     },
     "metadata": {},
     "output_type": "display_data"
    },
    {
     "name": "stderr",
     "output_type": "stream",
     "text": [
      "INFO:root:\n",
      "lr after epoch: 0.004626878072114546\n",
      "INFO:root:\n",
      "epoch 66, average train epoch loss=0.10301\n",
      "\n"
     ]
    },
    {
     "name": "stdout",
     "output_type": "stream",
     "text": [
      "\r"
     ]
    },
    {
     "data": {
      "application/vnd.jupyter.widget-view+json": {
       "model_id": "",
       "version_major": 2,
       "version_minor": 0
      },
      "text/plain": [
       "HBox(children=(IntProgress(value=0, max=26), HTML(value='')))"
      ]
     },
     "metadata": {},
     "output_type": "display_data"
    },
    {
     "name": "stderr",
     "output_type": "stream",
     "text": [
      "INFO:root:on epoch 53 by max_prec: 0.936\n"
     ]
    },
    {
     "name": "stdout",
     "output_type": "stream",
     "text": [
      "\r",
      "              precision    recall  f1-score   support\n",
      "\n",
      "       B_ORG      0.809     0.849     0.829       259\n",
      "       I_ORG      0.904     0.863     0.883      1000\n",
      "       B_LOC      0.901     0.896     0.898       192\n",
      "       I_LOC      0.876     0.865     0.870       303\n",
      "       B_PER      0.948     0.968     0.958       188\n",
      "       I_PER      0.968     0.977     0.972       649\n",
      "\n",
      "   micro avg      0.910     0.900     0.905      2591\n",
      "   macro avg      0.901     0.903     0.902      2591\n",
      "weighted avg      0.910     0.900     0.905      2591\n",
      "\n"
     ]
    },
    {
     "data": {
      "application/vnd.jupyter.widget-view+json": {
       "model_id": "",
       "version_major": 2,
       "version_minor": 0
      },
      "text/plain": [
       "HBox(children=(IntProgress(value=0, max=233), HTML(value='')))"
      ]
     },
     "metadata": {},
     "output_type": "display_data"
    },
    {
     "name": "stderr",
     "output_type": "stream",
     "text": [
      "INFO:root:\n",
      "lr after epoch: 0.00443210773532293\n",
      "INFO:root:\n",
      "epoch 67, average train epoch loss=0.10702\n",
      "\n"
     ]
    },
    {
     "name": "stdout",
     "output_type": "stream",
     "text": [
      "\r"
     ]
    },
    {
     "data": {
      "application/vnd.jupyter.widget-view+json": {
       "model_id": "",
       "version_major": 2,
       "version_minor": 0
      },
      "text/plain": [
       "HBox(children=(IntProgress(value=0, max=26), HTML(value='')))"
      ]
     },
     "metadata": {},
     "output_type": "display_data"
    },
    {
     "name": "stderr",
     "output_type": "stream",
     "text": [
      "INFO:root:on epoch 53 by max_prec: 0.936\n"
     ]
    },
    {
     "name": "stdout",
     "output_type": "stream",
     "text": [
      "\r",
      "              precision    recall  f1-score   support\n",
      "\n",
      "       B_ORG      0.889     0.807     0.846       259\n",
      "       I_ORG      0.949     0.787     0.861      1000\n",
      "       B_LOC      0.895     0.891     0.893       192\n",
      "       I_LOC      0.862     0.865     0.863       303\n",
      "       B_PER      0.973     0.973     0.973       188\n",
      "       I_PER      0.974     0.974     0.974       649\n",
      "\n",
      "   micro avg      0.937     0.866     0.900      2591\n",
      "   macro avg      0.924     0.883     0.902      2591\n",
      "weighted avg      0.937     0.866     0.898      2591\n",
      "\n"
     ]
    },
    {
     "data": {
      "application/vnd.jupyter.widget-view+json": {
       "model_id": "",
       "version_major": 2,
       "version_minor": 0
      },
      "text/plain": [
       "HBox(children=(IntProgress(value=0, max=233), HTML(value='')))"
      ]
     },
     "metadata": {},
     "output_type": "display_data"
    },
    {
     "name": "stderr",
     "output_type": "stream",
     "text": [
      "INFO:root:\n",
      "lr after epoch: 0.004232150032046355\n",
      "INFO:root:\n",
      "epoch 68, average train epoch loss=0.086036\n",
      "\n"
     ]
    },
    {
     "name": "stdout",
     "output_type": "stream",
     "text": [
      "\r"
     ]
    },
    {
     "data": {
      "application/vnd.jupyter.widget-view+json": {
       "model_id": "",
       "version_major": 2,
       "version_minor": 0
      },
      "text/plain": [
       "HBox(children=(IntProgress(value=0, max=26), HTML(value='')))"
      ]
     },
     "metadata": {},
     "output_type": "display_data"
    },
    {
     "name": "stderr",
     "output_type": "stream",
     "text": [
      "INFO:root:on epoch 53 by max_prec: 0.936\n"
     ]
    },
    {
     "name": "stdout",
     "output_type": "stream",
     "text": [
      "\r",
      "              precision    recall  f1-score   support\n",
      "\n",
      "       B_ORG      0.789     0.869     0.827       259\n",
      "       I_ORG      0.862     0.877     0.870      1000\n",
      "       B_LOC      0.944     0.885     0.914       192\n",
      "       I_LOC      0.940     0.828     0.881       303\n",
      "       B_PER      0.984     0.973     0.979       188\n",
      "       I_PER      0.980     0.974     0.977       649\n",
      "\n",
      "   micro avg      0.906     0.902     0.904      2591\n",
      "   macro avg      0.917     0.901     0.908      2591\n",
      "weighted avg      0.908     0.902     0.905      2591\n",
      "\n"
     ]
    },
    {
     "data": {
      "application/vnd.jupyter.widget-view+json": {
       "model_id": "",
       "version_major": 2,
       "version_minor": 0
      },
      "text/plain": [
       "HBox(children=(IntProgress(value=0, max=233), HTML(value='')))"
      ]
     },
     "metadata": {},
     "output_type": "display_data"
    },
    {
     "name": "stderr",
     "output_type": "stream",
     "text": [
      "INFO:root:\n",
      "lr after epoch: 0.00441487700973772\n",
      "INFO:root:\n",
      "epoch 69, average train epoch loss=0.061878\n",
      "\n"
     ]
    },
    {
     "name": "stdout",
     "output_type": "stream",
     "text": [
      "\r"
     ]
    },
    {
     "data": {
      "application/vnd.jupyter.widget-view+json": {
       "model_id": "",
       "version_major": 2,
       "version_minor": 0
      },
      "text/plain": [
       "HBox(children=(IntProgress(value=0, max=26), HTML(value='')))"
      ]
     },
     "metadata": {},
     "output_type": "display_data"
    },
    {
     "name": "stderr",
     "output_type": "stream",
     "text": [
      "INFO:root:on epoch 53 by max_prec: 0.936\n"
     ]
    },
    {
     "name": "stdout",
     "output_type": "stream",
     "text": [
      "\r",
      "              precision    recall  f1-score   support\n",
      "\n",
      "       B_ORG      0.869     0.822     0.845       259\n",
      "       I_ORG      0.946     0.801     0.867      1000\n",
      "       B_LOC      0.905     0.891     0.898       192\n",
      "       I_LOC      0.907     0.838     0.871       303\n",
      "       B_PER      0.984     0.979     0.981       188\n",
      "       I_PER      0.980     0.980     0.980       649\n",
      "\n",
      "   micro avg      0.942     0.872     0.906      2591\n",
      "   macro avg      0.932     0.885     0.907      2591\n",
      "weighted avg      0.942     0.872     0.904      2591\n",
      "\n"
     ]
    },
    {
     "data": {
      "application/vnd.jupyter.widget-view+json": {
       "model_id": "",
       "version_major": 2,
       "version_minor": 0
      },
      "text/plain": [
       "HBox(children=(IntProgress(value=0, max=233), HTML(value='')))"
      ]
     },
     "metadata": {},
     "output_type": "display_data"
    },
    {
     "name": "stderr",
     "output_type": "stream",
     "text": [
      "INFO:root:\n",
      "lr after epoch: 0.0046044536205558624\n",
      "INFO:root:\n",
      "epoch 70, average train epoch loss=0.13937\n",
      "\n"
     ]
    },
    {
     "name": "stdout",
     "output_type": "stream",
     "text": [
      "\r"
     ]
    },
    {
     "data": {
      "application/vnd.jupyter.widget-view+json": {
       "model_id": "",
       "version_major": 2,
       "version_minor": 0
      },
      "text/plain": [
       "HBox(children=(IntProgress(value=0, max=26), HTML(value='')))"
      ]
     },
     "metadata": {},
     "output_type": "display_data"
    },
    {
     "name": "stderr",
     "output_type": "stream",
     "text": [
      "INFO:root:on epoch 53 by max_prec: 0.936\n"
     ]
    },
    {
     "name": "stdout",
     "output_type": "stream",
     "text": [
      "\r",
      "              precision    recall  f1-score   support\n",
      "\n",
      "       B_ORG      0.840     0.853     0.847       259\n",
      "       I_ORG      0.878     0.865     0.872      1000\n",
      "       B_LOC      0.909     0.885     0.897       192\n",
      "       I_LOC      0.862     0.865     0.863       303\n",
      "       B_PER      0.959     0.995     0.977       188\n",
      "       I_PER      0.973     0.992     0.982       649\n",
      "\n",
      "   micro avg      0.905     0.907     0.906      2591\n",
      "   macro avg      0.904     0.909     0.906      2591\n",
      "weighted avg      0.904     0.907     0.905      2591\n",
      "\n"
     ]
    },
    {
     "data": {
      "application/vnd.jupyter.widget-view+json": {
       "model_id": "",
       "version_major": 2,
       "version_minor": 0
      },
      "text/plain": [
       "HBox(children=(IntProgress(value=0, max=233), HTML(value='')))"
      ]
     },
     "metadata": {},
     "output_type": "display_data"
    },
    {
     "name": "stderr",
     "output_type": "stream",
     "text": [
      "INFO:root:\n",
      "lr after epoch: 0.0047992112539750565\n",
      "INFO:root:\n",
      "epoch 71, average train epoch loss=0.094968\n",
      "\n"
     ]
    },
    {
     "name": "stdout",
     "output_type": "stream",
     "text": [
      "\r"
     ]
    },
    {
     "data": {
      "application/vnd.jupyter.widget-view+json": {
       "model_id": "",
       "version_major": 2,
       "version_minor": 0
      },
      "text/plain": [
       "HBox(children=(IntProgress(value=0, max=26), HTML(value='')))"
      ]
     },
     "metadata": {},
     "output_type": "display_data"
    },
    {
     "name": "stderr",
     "output_type": "stream",
     "text": [
      "INFO:root:on epoch 53 by max_prec: 0.936\n"
     ]
    },
    {
     "name": "stdout",
     "output_type": "stream",
     "text": [
      "\r",
      "              precision    recall  f1-score   support\n",
      "\n",
      "       B_ORG      0.854     0.834     0.844       259\n",
      "       I_ORG      0.928     0.821     0.871      1000\n",
      "       B_LOC      0.914     0.891     0.902       192\n",
      "       I_LOC      0.921     0.848     0.883       303\n",
      "       B_PER      0.969     0.984     0.976       188\n",
      "       I_PER      0.971     0.983     0.977       649\n",
      "\n",
      "   micro avg      0.933     0.883     0.907      2591\n",
      "   macro avg      0.926     0.893     0.909      2591\n",
      "weighted avg      0.932     0.883     0.906      2591\n",
      "\n"
     ]
    },
    {
     "data": {
      "application/vnd.jupyter.widget-view+json": {
       "model_id": "",
       "version_major": 2,
       "version_minor": 0
      },
      "text/plain": [
       "HBox(children=(IntProgress(value=0, max=233), HTML(value='')))"
      ]
     },
     "metadata": {},
     "output_type": "display_data"
    },
    {
     "name": "stderr",
     "output_type": "stream",
     "text": [
      "INFO:root:\n",
      "lr after epoch: 0.00499913087842012\n",
      "INFO:root:\n",
      "epoch 72, average train epoch loss=0.10579\n",
      "\n"
     ]
    },
    {
     "name": "stdout",
     "output_type": "stream",
     "text": [
      "\r"
     ]
    },
    {
     "data": {
      "application/vnd.jupyter.widget-view+json": {
       "model_id": "",
       "version_major": 2,
       "version_minor": 0
      },
      "text/plain": [
       "HBox(children=(IntProgress(value=0, max=26), HTML(value='')))"
      ]
     },
     "metadata": {},
     "output_type": "display_data"
    },
    {
     "name": "stderr",
     "output_type": "stream",
     "text": [
      "INFO:root:on epoch 53 by max_prec: 0.936\n"
     ]
    },
    {
     "name": "stdout",
     "output_type": "stream",
     "text": [
      "\r",
      "              precision    recall  f1-score   support\n",
      "\n",
      "       B_ORG      0.880     0.819     0.848       259\n",
      "       I_ORG      0.937     0.847     0.890      1000\n",
      "       B_LOC      0.904     0.885     0.895       192\n",
      "       I_LOC      0.846     0.868     0.857       303\n",
      "       B_PER      0.984     0.968     0.976       188\n",
      "       I_PER      0.991     0.971     0.981       649\n",
      "\n",
      "   micro avg      0.935     0.889     0.911      2591\n",
      "   macro avg      0.923     0.893     0.908      2591\n",
      "weighted avg      0.935     0.889     0.911      2591\n",
      "\n"
     ]
    },
    {
     "data": {
      "application/vnd.jupyter.widget-view+json": {
       "model_id": "",
       "version_major": 2,
       "version_minor": 0
      },
      "text/plain": [
       "HBox(children=(IntProgress(value=0, max=233), HTML(value='')))"
      ]
     },
     "metadata": {},
     "output_type": "display_data"
    },
    {
     "name": "stderr",
     "output_type": "stream",
     "text": [
      "INFO:root:\n",
      "lr after epoch: 0.004795806475504569\n",
      "INFO:root:\n",
      "epoch 73, average train epoch loss=0.10935\n",
      "\n"
     ]
    },
    {
     "name": "stdout",
     "output_type": "stream",
     "text": [
      "\r"
     ]
    },
    {
     "data": {
      "application/vnd.jupyter.widget-view+json": {
       "model_id": "",
       "version_major": 2,
       "version_minor": 0
      },
      "text/plain": [
       "HBox(children=(IntProgress(value=0, max=26), HTML(value='')))"
      ]
     },
     "metadata": {},
     "output_type": "display_data"
    },
    {
     "name": "stderr",
     "output_type": "stream",
     "text": [
      "INFO:root:on epoch 53 by max_prec: 0.936\n"
     ]
    },
    {
     "name": "stdout",
     "output_type": "stream",
     "text": [
      "\r",
      "              precision    recall  f1-score   support\n",
      "\n",
      "       B_ORG      0.818     0.869     0.843       259\n",
      "       I_ORG      0.891     0.871     0.881      1000\n",
      "       B_LOC      0.906     0.901     0.903       192\n",
      "       I_LOC      0.871     0.891     0.881       303\n",
      "       B_PER      0.974     0.984     0.979       188\n",
      "       I_PER      0.979     0.988     0.983       649\n",
      "\n",
      "   micro avg      0.910     0.913     0.911      2591\n",
      "   macro avg      0.906     0.917     0.912      2591\n",
      "weighted avg      0.910     0.913     0.911      2591\n",
      "\n"
     ]
    },
    {
     "data": {
      "application/vnd.jupyter.widget-view+json": {
       "model_id": "",
       "version_major": 2,
       "version_minor": 0
      },
      "text/plain": [
       "HBox(children=(IntProgress(value=0, max=233), HTML(value='')))"
      ]
     },
     "metadata": {},
     "output_type": "display_data"
    },
    {
     "name": "stderr",
     "output_type": "stream",
     "text": [
      "INFO:root:\n",
      "lr after epoch: 0.004585619715205572\n",
      "INFO:root:\n",
      "epoch 74, average train epoch loss=0.10246\n",
      "\n"
     ]
    },
    {
     "name": "stdout",
     "output_type": "stream",
     "text": [
      "\r"
     ]
    },
    {
     "data": {
      "application/vnd.jupyter.widget-view+json": {
       "model_id": "",
       "version_major": 2,
       "version_minor": 0
      },
      "text/plain": [
       "HBox(children=(IntProgress(value=0, max=26), HTML(value='')))"
      ]
     },
     "metadata": {},
     "output_type": "display_data"
    },
    {
     "name": "stderr",
     "output_type": "stream",
     "text": [
      "INFO:root:on epoch 53 by max_prec: 0.936\n"
     ]
    },
    {
     "name": "stdout",
     "output_type": "stream",
     "text": [
      "\r",
      "              precision    recall  f1-score   support\n",
      "\n",
      "       B_ORG      0.887     0.849     0.868       259\n",
      "       I_ORG      0.950     0.818     0.879      1000\n",
      "       B_LOC      0.839     0.896     0.866       192\n",
      "       I_LOC      0.782     0.865     0.821       303\n",
      "       B_PER      0.984     0.963     0.973       188\n",
      "       I_PER      0.987     0.969     0.978       649\n",
      "\n",
      "   micro avg      0.924     0.881     0.902      2591\n",
      "   macro avg      0.905     0.893     0.898      2591\n",
      "weighted avg      0.928     0.881     0.902      2591\n",
      "\n"
     ]
    },
    {
     "data": {
      "application/vnd.jupyter.widget-view+json": {
       "model_id": "",
       "version_major": 2,
       "version_minor": 0
      },
      "text/plain": [
       "HBox(children=(IntProgress(value=0, max=233), HTML(value='')))"
      ]
     },
     "metadata": {},
     "output_type": "display_data"
    },
    {
     "name": "stderr",
     "output_type": "stream",
     "text": [
      "INFO:root:\n",
      "lr after epoch: 0.0043703276862903356\n",
      "INFO:root:\n",
      "epoch 75, average train epoch loss=0.10275\n",
      "\n"
     ]
    },
    {
     "name": "stdout",
     "output_type": "stream",
     "text": [
      "\r"
     ]
    },
    {
     "data": {
      "application/vnd.jupyter.widget-view+json": {
       "model_id": "",
       "version_major": 2,
       "version_minor": 0
      },
      "text/plain": [
       "HBox(children=(IntProgress(value=0, max=26), HTML(value='')))"
      ]
     },
     "metadata": {},
     "output_type": "display_data"
    },
    {
     "name": "stderr",
     "output_type": "stream",
     "text": [
      "INFO:root:on epoch 53 by max_prec: 0.936\n"
     ]
    },
    {
     "name": "stdout",
     "output_type": "stream",
     "text": [
      "\r",
      "              precision    recall  f1-score   support\n",
      "\n",
      "       B_ORG      0.870     0.826     0.848       259\n",
      "       I_ORG      0.929     0.849     0.887      1000\n",
      "       B_LOC      0.924     0.891     0.907       192\n",
      "       I_LOC      0.891     0.865     0.878       303\n",
      "       B_PER      0.979     0.984     0.981       188\n",
      "       I_PER      0.985     0.985     0.985       649\n",
      "\n",
      "   micro avg      0.937     0.895     0.916      2591\n",
      "   macro avg      0.930     0.900     0.914      2591\n",
      "weighted avg      0.936     0.895     0.915      2591\n",
      "\n"
     ]
    },
    {
     "data": {
      "application/vnd.jupyter.widget-view+json": {
       "model_id": "",
       "version_major": 2,
       "version_minor": 0
      },
      "text/plain": [
       "HBox(children=(IntProgress(value=0, max=233), HTML(value='')))"
      ]
     },
     "metadata": {},
     "output_type": "display_data"
    },
    {
     "name": "stderr",
     "output_type": "stream",
     "text": [
      "INFO:root:\n",
      "lr after epoch: 0.0041499491727565695\n",
      "INFO:root:\n",
      "epoch 76, average train epoch loss=0.073726\n",
      "\n"
     ]
    },
    {
     "name": "stdout",
     "output_type": "stream",
     "text": [
      "\r"
     ]
    },
    {
     "data": {
      "application/vnd.jupyter.widget-view+json": {
       "model_id": "",
       "version_major": 2,
       "version_minor": 0
      },
      "text/plain": [
       "HBox(children=(IntProgress(value=0, max=26), HTML(value='')))"
      ]
     },
     "metadata": {},
     "output_type": "display_data"
    },
    {
     "name": "stderr",
     "output_type": "stream",
     "text": [
      "INFO:root:on epoch 53 by max_prec: 0.936\n"
     ]
    },
    {
     "name": "stdout",
     "output_type": "stream",
     "text": [
      "\r",
      "              precision    recall  f1-score   support\n",
      "\n",
      "       B_ORG      0.850     0.834     0.842       259\n",
      "       I_ORG      0.934     0.830     0.879      1000\n",
      "       B_LOC      0.887     0.901     0.894       192\n",
      "       I_LOC      0.850     0.858     0.854       303\n",
      "       B_PER      0.973     0.968     0.971       188\n",
      "       I_PER      0.983     0.975     0.979       649\n",
      "\n",
      "   micro avg      0.927     0.885     0.906      2591\n",
      "   macro avg      0.913     0.894     0.903      2591\n",
      "weighted avg      0.927     0.885     0.905      2591\n",
      "\n"
     ]
    },
    {
     "data": {
      "application/vnd.jupyter.widget-view+json": {
       "model_id": "",
       "version_major": 2,
       "version_minor": 0
      },
      "text/plain": [
       "HBox(children=(IntProgress(value=0, max=233), HTML(value='')))"
      ]
     },
     "metadata": {},
     "output_type": "display_data"
    },
    {
     "name": "stderr",
     "output_type": "stream",
     "text": [
      "INFO:root:\n",
      "lr after epoch: 0.004353223391775559\n",
      "INFO:root:\n",
      "epoch 77, average train epoch loss=0.10331\n",
      "\n"
     ]
    },
    {
     "name": "stdout",
     "output_type": "stream",
     "text": [
      "\r"
     ]
    },
    {
     "data": {
      "application/vnd.jupyter.widget-view+json": {
       "model_id": "",
       "version_major": 2,
       "version_minor": 0
      },
      "text/plain": [
       "HBox(children=(IntProgress(value=0, max=26), HTML(value='')))"
      ]
     },
     "metadata": {},
     "output_type": "display_data"
    },
    {
     "name": "stderr",
     "output_type": "stream",
     "text": [
      "INFO:root:on epoch 53 by max_prec: 0.936\n"
     ]
    },
    {
     "name": "stdout",
     "output_type": "stream",
     "text": [
      "\r",
      "              precision    recall  f1-score   support\n",
      "\n",
      "       B_ORG      0.819     0.857     0.838       259\n",
      "       I_ORG      0.872     0.878     0.875      1000\n",
      "       B_LOC      0.918     0.880     0.899       192\n",
      "       I_LOC      0.899     0.851     0.875       303\n",
      "       B_PER      0.969     0.984     0.976       188\n",
      "       I_PER      0.982     0.988     0.985       649\n",
      "\n",
      "   micro avg      0.907     0.908     0.908      2591\n",
      "   macro avg      0.910     0.906     0.908      2591\n",
      "weighted avg      0.908     0.908     0.908      2591\n",
      "\n"
     ]
    },
    {
     "data": {
      "application/vnd.jupyter.widget-view+json": {
       "model_id": "",
       "version_major": 2,
       "version_minor": 0
      },
      "text/plain": [
       "HBox(children=(IntProgress(value=0, max=233), HTML(value='')))"
      ]
     },
     "metadata": {},
     "output_type": "display_data"
    },
    {
     "name": "stderr",
     "output_type": "stream",
     "text": [
      "INFO:root:\n",
      "lr after epoch: 0.004563422700260588\n",
      "INFO:root:\n",
      "epoch 78, average train epoch loss=0.062837\n",
      "\n"
     ]
    },
    {
     "name": "stdout",
     "output_type": "stream",
     "text": [
      "\r"
     ]
    },
    {
     "data": {
      "application/vnd.jupyter.widget-view+json": {
       "model_id": "",
       "version_major": 2,
       "version_minor": 0
      },
      "text/plain": [
       "HBox(children=(IntProgress(value=0, max=26), HTML(value='')))"
      ]
     },
     "metadata": {},
     "output_type": "display_data"
    },
    {
     "name": "stderr",
     "output_type": "stream",
     "text": [
      "INFO:root:on epoch 53 by max_prec: 0.936\n"
     ]
    },
    {
     "name": "stdout",
     "output_type": "stream",
     "text": [
      "\r",
      "              precision    recall  f1-score   support\n",
      "\n",
      "       B_ORG      0.834     0.834     0.834       259\n",
      "       I_ORG      0.896     0.857     0.876      1000\n",
      "       B_LOC      0.905     0.896     0.901       192\n",
      "       I_LOC      0.885     0.865     0.875       303\n",
      "       B_PER      0.979     0.979     0.979       188\n",
      "       I_PER      0.988     0.982     0.985       649\n",
      "\n",
      "   micro avg      0.919     0.898     0.908      2591\n",
      "   macro avg      0.915     0.902     0.908      2591\n",
      "weighted avg      0.918     0.898     0.908      2591\n",
      "\n"
     ]
    },
    {
     "data": {
      "application/vnd.jupyter.widget-view+json": {
       "model_id": "",
       "version_major": 2,
       "version_minor": 0
      },
      "text/plain": [
       "HBox(children=(IntProgress(value=0, max=233), HTML(value='')))"
      ]
     },
     "metadata": {},
     "output_type": "display_data"
    },
    {
     "name": "stderr",
     "output_type": "stream",
     "text": [
      "INFO:root:\n",
      "lr after epoch: 0.004778702272853601\n",
      "INFO:root:\n",
      "epoch 79, average train epoch loss=0.099843\n",
      "\n"
     ]
    },
    {
     "name": "stdout",
     "output_type": "stream",
     "text": [
      "\r"
     ]
    },
    {
     "data": {
      "application/vnd.jupyter.widget-view+json": {
       "model_id": "",
       "version_major": 2,
       "version_minor": 0
      },
      "text/plain": [
       "HBox(children=(IntProgress(value=0, max=26), HTML(value='')))"
      ]
     },
     "metadata": {},
     "output_type": "display_data"
    },
    {
     "name": "stderr",
     "output_type": "stream",
     "text": [
      "INFO:root:on epoch 53 by max_prec: 0.936\n"
     ]
    },
    {
     "name": "stdout",
     "output_type": "stream",
     "text": [
      "\r",
      "              precision    recall  f1-score   support\n",
      "\n",
      "       B_ORG      0.818     0.869     0.843       259\n",
      "       I_ORG      0.883     0.873     0.878      1000\n",
      "       B_LOC      0.938     0.865     0.900       192\n",
      "       I_LOC      0.929     0.779     0.847       303\n",
      "       B_PER      0.989     0.952     0.970       188\n",
      "       I_PER      0.997     0.957     0.976       649\n",
      "\n",
      "   micro avg      0.920     0.888     0.904      2591\n",
      "   macro avg      0.926     0.882     0.902      2591\n",
      "weighted avg      0.922     0.888     0.904      2591\n",
      "\n"
     ]
    },
    {
     "data": {
      "application/vnd.jupyter.widget-view+json": {
       "model_id": "",
       "version_major": 2,
       "version_minor": 0
      },
      "text/plain": [
       "HBox(children=(IntProgress(value=0, max=233), HTML(value='')))"
      ]
     },
     "metadata": {},
     "output_type": "display_data"
    },
    {
     "name": "stderr",
     "output_type": "stream",
     "text": [
      "INFO:root:\n",
      "lr after epoch: 0.004999043448098017\n",
      "INFO:root:\n",
      "epoch 80, average train epoch loss=0.10529\n",
      "\n"
     ]
    },
    {
     "name": "stdout",
     "output_type": "stream",
     "text": [
      "\r"
     ]
    },
    {
     "data": {
      "application/vnd.jupyter.widget-view+json": {
       "model_id": "",
       "version_major": 2,
       "version_minor": 0
      },
      "text/plain": [
       "HBox(children=(IntProgress(value=0, max=26), HTML(value='')))"
      ]
     },
     "metadata": {},
     "output_type": "display_data"
    },
    {
     "name": "stderr",
     "output_type": "stream",
     "text": [
      "INFO:root:on epoch 53 by max_prec: 0.936\n"
     ]
    },
    {
     "name": "stdout",
     "output_type": "stream",
     "text": [
      "\r",
      "              precision    recall  f1-score   support\n",
      "\n",
      "       B_ORG      0.828     0.857     0.843       259\n",
      "       I_ORG      0.882     0.871     0.877      1000\n",
      "       B_LOC      0.929     0.885     0.907       192\n",
      "       I_LOC      0.903     0.832     0.866       303\n",
      "       B_PER      0.979     0.984     0.981       188\n",
      "       I_PER      0.982     0.985     0.983       649\n",
      "\n",
      "   micro avg      0.915     0.903     0.909      2591\n",
      "   macro avg      0.917     0.902     0.909      2591\n",
      "weighted avg      0.915     0.903     0.908      2591\n",
      "\n"
     ]
    },
    {
     "data": {
      "application/vnd.jupyter.widget-view+json": {
       "model_id": "",
       "version_major": 2,
       "version_minor": 0
      },
      "text/plain": [
       "HBox(children=(IntProgress(value=0, max=233), HTML(value='')))"
      ]
     },
     "metadata": {},
     "output_type": "display_data"
    },
    {
     "name": "stderr",
     "output_type": "stream",
     "text": [
      "INFO:root:\n",
      "lr after epoch: 0.004775572374492427\n",
      "INFO:root:\n",
      "epoch 81, average train epoch loss=0.090425\n",
      "\n"
     ]
    },
    {
     "name": "stdout",
     "output_type": "stream",
     "text": [
      "\r"
     ]
    },
    {
     "data": {
      "application/vnd.jupyter.widget-view+json": {
       "model_id": "",
       "version_major": 2,
       "version_minor": 0
      },
      "text/plain": [
       "HBox(children=(IntProgress(value=0, max=26), HTML(value='')))"
      ]
     },
     "metadata": {},
     "output_type": "display_data"
    },
    {
     "name": "stderr",
     "output_type": "stream",
     "text": [
      "INFO:root:on epoch 53 by max_prec: 0.936\n"
     ]
    },
    {
     "name": "stdout",
     "output_type": "stream",
     "text": [
      "\r",
      "              precision    recall  f1-score   support\n",
      "\n",
      "       B_ORG      0.845     0.819     0.831       259\n",
      "       I_ORG      0.926     0.815     0.867      1000\n",
      "       B_LOC      0.838     0.917     0.876       192\n",
      "       I_LOC      0.727     0.904     0.806       303\n",
      "       B_PER      0.958     0.968     0.963       188\n",
      "       I_PER      0.962     0.974     0.968       649\n",
      "\n",
      "   micro avg      0.893     0.884     0.889      2591\n",
      "   macro avg      0.876     0.899     0.885      2591\n",
      "weighted avg      0.899     0.884     0.889      2591\n",
      "\n"
     ]
    },
    {
     "data": {
      "application/vnd.jupyter.widget-view+json": {
       "model_id": "",
       "version_major": 2,
       "version_minor": 0
      },
      "text/plain": [
       "HBox(children=(IntProgress(value=0, max=233), HTML(value='')))"
      ]
     },
     "metadata": {},
     "output_type": "display_data"
    },
    {
     "name": "stderr",
     "output_type": "stream",
     "text": [
      "INFO:root:\n",
      "lr after epoch: 0.004545163734620477\n",
      "INFO:root:\n",
      "epoch 82, average train epoch loss=0.099235\n",
      "\n"
     ]
    },
    {
     "name": "stdout",
     "output_type": "stream",
     "text": [
      "\r"
     ]
    },
    {
     "data": {
      "application/vnd.jupyter.widget-view+json": {
       "model_id": "",
       "version_major": 2,
       "version_minor": 0
      },
      "text/plain": [
       "HBox(children=(IntProgress(value=0, max=26), HTML(value='')))"
      ]
     },
     "metadata": {},
     "output_type": "display_data"
    },
    {
     "name": "stderr",
     "output_type": "stream",
     "text": [
      "INFO:root:on epoch 53 by max_prec: 0.936\n"
     ]
    },
    {
     "name": "stdout",
     "output_type": "stream",
     "text": [
      "\r",
      "              precision    recall  f1-score   support\n",
      "\n",
      "       B_ORG      0.791     0.846     0.817       259\n",
      "       I_ORG      0.860     0.881     0.870      1000\n",
      "       B_LOC      0.895     0.885     0.890       192\n",
      "       I_LOC      0.858     0.858     0.858       303\n",
      "       B_PER      0.984     0.984     0.984       188\n",
      "       I_PER      0.991     0.983     0.987       649\n",
      "\n",
      "   micro avg      0.896     0.908     0.902      2591\n",
      "   macro avg      0.896     0.906     0.901      2591\n",
      "weighted avg      0.897     0.908     0.902      2591\n",
      "\n"
     ]
    },
    {
     "data": {
      "application/vnd.jupyter.widget-view+json": {
       "model_id": "",
       "version_major": 2,
       "version_minor": 0
      },
      "text/plain": [
       "HBox(children=(IntProgress(value=0, max=233), HTML(value='')))"
      ]
     },
     "metadata": {},
     "output_type": "display_data"
    },
    {
     "name": "stderr",
     "output_type": "stream",
     "text": [
      "INFO:root:\n",
      "lr after epoch: 0.004309749111391602\n",
      "INFO:root:\n",
      "epoch 83, average train epoch loss=0.092451\n",
      "\n"
     ]
    },
    {
     "name": "stdout",
     "output_type": "stream",
     "text": [
      "\r"
     ]
    },
    {
     "data": {
      "application/vnd.jupyter.widget-view+json": {
       "model_id": "",
       "version_major": 2,
       "version_minor": 0
      },
      "text/plain": [
       "HBox(children=(IntProgress(value=0, max=26), HTML(value='')))"
      ]
     },
     "metadata": {},
     "output_type": "display_data"
    },
    {
     "name": "stderr",
     "output_type": "stream",
     "text": [
      "INFO:root:on epoch 53 by max_prec: 0.936\n"
     ]
    },
    {
     "name": "stdout",
     "output_type": "stream",
     "text": [
      "\r",
      "              precision    recall  f1-score   support\n",
      "\n",
      "       B_ORG      0.853     0.807     0.829       259\n",
      "       I_ORG      0.930     0.800     0.860      1000\n",
      "       B_LOC      0.917     0.865     0.890       192\n",
      "       I_LOC      0.877     0.822     0.848       303\n",
      "       B_PER      0.978     0.963     0.971       188\n",
      "       I_PER      0.981     0.971     0.976       649\n",
      "\n",
      "   micro avg      0.932     0.863     0.896      2591\n",
      "   macro avg      0.923     0.871     0.896      2591\n",
      "weighted avg      0.932     0.863     0.895      2591\n",
      "\n"
     ]
    },
    {
     "data": {
      "application/vnd.jupyter.widget-view+json": {
       "model_id": "",
       "version_major": 2,
       "version_minor": 0
      },
      "text/plain": [
       "HBox(children=(IntProgress(value=0, max=233), HTML(value='')))"
      ]
     },
     "metadata": {},
     "output_type": "display_data"
    },
    {
     "name": "stderr",
     "output_type": "stream",
     "text": [
      "INFO:root:\n",
      "lr after epoch: 0.004069346923499706\n",
      "INFO:root:\n",
      "epoch 84, average train epoch loss=0.065306\n",
      "\n"
     ]
    },
    {
     "name": "stdout",
     "output_type": "stream",
     "text": [
      "\r"
     ]
    },
    {
     "data": {
      "application/vnd.jupyter.widget-view+json": {
       "model_id": "",
       "version_major": 2,
       "version_minor": 0
      },
      "text/plain": [
       "HBox(children=(IntProgress(value=0, max=26), HTML(value='')))"
      ]
     },
     "metadata": {},
     "output_type": "display_data"
    },
    {
     "name": "stderr",
     "output_type": "stream",
     "text": [
      "INFO:root:on epoch 53 by max_prec: 0.936\n"
     ]
    },
    {
     "name": "stdout",
     "output_type": "stream",
     "text": [
      "\r",
      "              precision    recall  f1-score   support\n",
      "\n",
      "       B_ORG      0.867     0.803     0.834       259\n",
      "       I_ORG      0.946     0.809     0.872      1000\n",
      "       B_LOC      0.923     0.875     0.898       192\n",
      "       I_LOC      0.757     0.845     0.799       303\n",
      "       B_PER      0.978     0.957     0.968       188\n",
      "       I_PER      0.981     0.961     0.971       649\n",
      "\n",
      "   micro avg      0.922     0.866     0.893      2591\n",
      "   macro avg      0.909     0.875     0.890      2591\n",
      "weighted avg      0.926     0.866     0.893      2591\n",
      "\n"
     ]
    },
    {
     "data": {
      "application/vnd.jupyter.widget-view+json": {
       "model_id": "",
       "version_major": 2,
       "version_minor": 0
      },
      "text/plain": [
       "HBox(children=(IntProgress(value=0, max=233), HTML(value='')))"
      ]
     },
     "metadata": {},
     "output_type": "display_data"
    },
    {
     "name": "stderr",
     "output_type": "stream",
     "text": [
      "INFO:root:\n",
      "lr after epoch: 0.00429276878916545\n",
      "INFO:root:\n",
      "epoch 85, average train epoch loss=0.073605\n",
      "\n"
     ]
    },
    {
     "name": "stdout",
     "output_type": "stream",
     "text": [
      "\r"
     ]
    },
    {
     "data": {
      "application/vnd.jupyter.widget-view+json": {
       "model_id": "",
       "version_major": 2,
       "version_minor": 0
      },
      "text/plain": [
       "HBox(children=(IntProgress(value=0, max=26), HTML(value='')))"
      ]
     },
     "metadata": {},
     "output_type": "display_data"
    },
    {
     "name": "stderr",
     "output_type": "stream",
     "text": [
      "INFO:root:on epoch 53 by max_prec: 0.936\n"
     ]
    },
    {
     "name": "stdout",
     "output_type": "stream",
     "text": [
      "\r",
      "              precision    recall  f1-score   support\n",
      "\n",
      "       B_ORG      0.858     0.819     0.838       259\n",
      "       I_ORG      0.916     0.839     0.876      1000\n",
      "       B_LOC      0.919     0.885     0.902       192\n",
      "       I_LOC      0.880     0.848     0.864       303\n",
      "       B_PER      0.989     0.963     0.976       188\n",
      "       I_PER      0.987     0.971     0.979       649\n",
      "\n",
      "   micro avg      0.930     0.883     0.906      2591\n",
      "   macro avg      0.925     0.887     0.906      2591\n",
      "weighted avg      0.929     0.883     0.906      2591\n",
      "\n"
     ]
    },
    {
     "data": {
      "application/vnd.jupyter.widget-view+json": {
       "model_id": "",
       "version_major": 2,
       "version_minor": 0
      },
      "text/plain": [
       "HBox(children=(IntProgress(value=0, max=233), HTML(value='')))"
      ]
     },
     "metadata": {},
     "output_type": "display_data"
    },
    {
     "name": "stderr",
     "output_type": "stream",
     "text": [
      "INFO:root:\n",
      "lr after epoch: 0.004523189733191239\n",
      "INFO:root:\n",
      "epoch 86, average train epoch loss=0.079743\n",
      "\n"
     ]
    },
    {
     "name": "stdout",
     "output_type": "stream",
     "text": [
      "\r"
     ]
    },
    {
     "data": {
      "application/vnd.jupyter.widget-view+json": {
       "model_id": "",
       "version_major": 2,
       "version_minor": 0
      },
      "text/plain": [
       "HBox(children=(IntProgress(value=0, max=26), HTML(value='')))"
      ]
     },
     "metadata": {},
     "output_type": "display_data"
    },
    {
     "name": "stderr",
     "output_type": "stream",
     "text": [
      "INFO:root:on epoch 53 by max_prec: 0.936\n"
     ]
    },
    {
     "name": "stdout",
     "output_type": "stream",
     "text": [
      "\r",
      "              precision    recall  f1-score   support\n",
      "\n",
      "       B_ORG      0.829     0.842     0.835       259\n",
      "       I_ORG      0.905     0.850     0.877      1000\n",
      "       B_LOC      0.929     0.880     0.904       192\n",
      "       I_LOC      0.917     0.842     0.878       303\n",
      "       B_PER      0.969     0.989     0.979       188\n",
      "       I_PER      0.979     0.992     0.985       649\n",
      "\n",
      "   micro avg      0.924     0.896     0.910      2591\n",
      "   macro avg      0.921     0.899     0.910      2591\n",
      "weighted avg      0.924     0.896     0.909      2591\n",
      "\n"
     ]
    },
    {
     "data": {
      "application/vnd.jupyter.widget-view+json": {
       "model_id": "",
       "version_major": 2,
       "version_minor": 0
      },
      "text/plain": [
       "HBox(children=(IntProgress(value=0, max=233), HTML(value='')))"
      ]
     },
     "metadata": {},
     "output_type": "display_data"
    },
    {
     "name": "stderr",
     "output_type": "stream",
     "text": [
      "INFO:root:\n",
      "lr after epoch: 0.004758592142343551\n",
      "INFO:root:\n",
      "epoch 87, average train epoch loss=0.13945\n",
      "\n"
     ]
    },
    {
     "name": "stdout",
     "output_type": "stream",
     "text": [
      "\r"
     ]
    },
    {
     "data": {
      "application/vnd.jupyter.widget-view+json": {
       "model_id": "",
       "version_major": 2,
       "version_minor": 0
      },
      "text/plain": [
       "HBox(children=(IntProgress(value=0, max=26), HTML(value='')))"
      ]
     },
     "metadata": {},
     "output_type": "display_data"
    },
    {
     "name": "stderr",
     "output_type": "stream",
     "text": [
      "INFO:root:on epoch 53 by max_prec: 0.936\n"
     ]
    },
    {
     "name": "stdout",
     "output_type": "stream",
     "text": [
      "\r",
      "              precision    recall  f1-score   support\n",
      "\n",
      "       B_ORG      0.759     0.888     0.819       259\n",
      "       I_ORG      0.826     0.914     0.868      1000\n",
      "       B_LOC      0.921     0.854     0.886       192\n",
      "       I_LOC      0.912     0.752     0.825       303\n",
      "       B_PER      0.979     0.979     0.979       188\n",
      "       I_PER      0.986     0.986     0.986       649\n",
      "\n",
      "   micro avg      0.882     0.911     0.896      2591\n",
      "   macro avg      0.897     0.896     0.894      2591\n",
      "weighted avg      0.887     0.911     0.897      2591\n",
      "\n"
     ]
    },
    {
     "data": {
      "application/vnd.jupyter.widget-view+json": {
       "model_id": "",
       "version_major": 2,
       "version_minor": 0
      },
      "text/plain": [
       "HBox(children=(IntProgress(value=0, max=233), HTML(value='')))"
      ]
     },
     "metadata": {},
     "output_type": "display_data"
    },
    {
     "name": "stderr",
     "output_type": "stream",
     "text": [
      "INFO:root:\n",
      "lr after epoch: 0.004998957718086487\n",
      "INFO:root:\n",
      "epoch 88, average train epoch loss=0.078181\n",
      "\n"
     ]
    },
    {
     "name": "stdout",
     "output_type": "stream",
     "text": [
      "\r"
     ]
    },
    {
     "data": {
      "application/vnd.jupyter.widget-view+json": {
       "model_id": "",
       "version_major": 2,
       "version_minor": 0
      },
      "text/plain": [
       "HBox(children=(IntProgress(value=0, max=26), HTML(value='')))"
      ]
     },
     "metadata": {},
     "output_type": "display_data"
    },
    {
     "name": "stderr",
     "output_type": "stream",
     "text": [
      "INFO:root:on epoch 53 by max_prec: 0.936\n"
     ]
    },
    {
     "name": "stdout",
     "output_type": "stream",
     "text": [
      "\r",
      "              precision    recall  f1-score   support\n",
      "\n",
      "       B_ORG      0.820     0.842     0.830       259\n",
      "       I_ORG      0.891     0.839     0.864      1000\n",
      "       B_LOC      0.887     0.901     0.894       192\n",
      "       I_LOC      0.879     0.861     0.870       303\n",
      "       B_PER      0.949     0.989     0.969       188\n",
      "       I_PER      0.957     0.991     0.974       649\n",
      "\n",
      "   micro avg      0.903     0.895     0.899      2591\n",
      "   macro avg      0.897     0.904     0.900      2591\n",
      "weighted avg      0.903     0.895     0.899      2591\n",
      "\n"
     ]
    },
    {
     "data": {
      "application/vnd.jupyter.widget-view+json": {
       "model_id": "",
       "version_major": 2,
       "version_minor": 0
      },
      "text/plain": [
       "HBox(children=(IntProgress(value=0, max=233), HTML(value='')))"
      ]
     },
     "metadata": {},
     "output_type": "display_data"
    },
    {
     "name": "stderr",
     "output_type": "stream",
     "text": [
      "INFO:root:\n",
      "lr after epoch: 0.004755731778331264\n",
      "INFO:root:\n",
      "epoch 89, average train epoch loss=0.083845\n",
      "\n"
     ]
    },
    {
     "name": "stdout",
     "output_type": "stream",
     "text": [
      "\r"
     ]
    },
    {
     "data": {
      "application/vnd.jupyter.widget-view+json": {
       "model_id": "",
       "version_major": 2,
       "version_minor": 0
      },
      "text/plain": [
       "HBox(children=(IntProgress(value=0, max=26), HTML(value='')))"
      ]
     },
     "metadata": {},
     "output_type": "display_data"
    },
    {
     "name": "stderr",
     "output_type": "stream",
     "text": [
      "INFO:root:on epoch 53 by max_prec: 0.936\n"
     ]
    },
    {
     "name": "stdout",
     "output_type": "stream",
     "text": [
      "\r",
      "              precision    recall  f1-score   support\n",
      "\n",
      "       B_ORG      0.843     0.849     0.846       259\n",
      "       I_ORG      0.922     0.839     0.879      1000\n",
      "       B_LOC      0.905     0.891     0.898       192\n",
      "       I_LOC      0.888     0.838     0.862       303\n",
      "       B_PER      0.978     0.963     0.971       188\n",
      "       I_PER      0.989     0.968     0.978       649\n",
      "\n",
      "   micro avg      0.930     0.885     0.907      2591\n",
      "   macro avg      0.921     0.891     0.906      2591\n",
      "weighted avg      0.930     0.885     0.906      2591\n",
      "\n"
     ]
    },
    {
     "data": {
      "application/vnd.jupyter.widget-view+json": {
       "model_id": "",
       "version_major": 2,
       "version_minor": 0
      },
      "text/plain": [
       "HBox(children=(IntProgress(value=0, max=233), HTML(value='')))"
      ]
     },
     "metadata": {},
     "output_type": "display_data"
    },
    {
     "name": "stderr",
     "output_type": "stream",
     "text": [
      "INFO:root:\n",
      "lr after epoch: 0.004505494526059589\n",
      "INFO:root:\n",
      "epoch 90, average train epoch loss=0.098115\n",
      "\n"
     ]
    },
    {
     "name": "stdout",
     "output_type": "stream",
     "text": [
      "\r"
     ]
    },
    {
     "data": {
      "application/vnd.jupyter.widget-view+json": {
       "model_id": "",
       "version_major": 2,
       "version_minor": 0
      },
      "text/plain": [
       "HBox(children=(IntProgress(value=0, max=26), HTML(value='')))"
      ]
     },
     "metadata": {},
     "output_type": "display_data"
    },
    {
     "name": "stderr",
     "output_type": "stream",
     "text": [
      "INFO:root:on epoch 53 by max_prec: 0.936\n"
     ]
    },
    {
     "name": "stdout",
     "output_type": "stream",
     "text": [
      "\r",
      "              precision    recall  f1-score   support\n",
      "\n",
      "       B_ORG      0.861     0.815     0.837       259\n",
      "       I_ORG      0.913     0.827     0.868      1000\n",
      "       B_LOC      0.857     0.906     0.881       192\n",
      "       I_LOC      0.828     0.875     0.851       303\n",
      "       B_PER      0.984     0.968     0.976       188\n",
      "       I_PER      0.994     0.969     0.981       649\n",
      "\n",
      "   micro avg      0.918     0.883     0.900      2591\n",
      "   macro avg      0.906     0.893     0.899      2591\n",
      "weighted avg      0.919     0.883     0.900      2591\n",
      "\n"
     ]
    },
    {
     "data": {
      "application/vnd.jupyter.widget-view+json": {
       "model_id": "",
       "version_major": 2,
       "version_minor": 0
      },
      "text/plain": [
       "HBox(children=(IntProgress(value=0, max=233), HTML(value='')))"
      ]
     },
     "metadata": {},
     "output_type": "display_data"
    },
    {
     "name": "stderr",
     "output_type": "stream",
     "text": [
      "INFO:root:\n",
      "lr after epoch: 0.004250348644829571\n",
      "INFO:root:\n",
      "epoch 91, average train epoch loss=0.070047\n",
      "\n"
     ]
    },
    {
     "name": "stdout",
     "output_type": "stream",
     "text": [
      "\r"
     ]
    },
    {
     "data": {
      "application/vnd.jupyter.widget-view+json": {
       "model_id": "",
       "version_major": 2,
       "version_minor": 0
      },
      "text/plain": [
       "HBox(children=(IntProgress(value=0, max=26), HTML(value='')))"
      ]
     },
     "metadata": {},
     "output_type": "display_data"
    },
    {
     "name": "stderr",
     "output_type": "stream",
     "text": [
      "INFO:root:on epoch 53 by max_prec: 0.936\n"
     ]
    },
    {
     "name": "stdout",
     "output_type": "stream",
     "text": [
      "\r",
      "              precision    recall  f1-score   support\n",
      "\n",
      "       B_ORG      0.831     0.834     0.832       259\n",
      "       I_ORG      0.852     0.821     0.836      1000\n",
      "       B_LOC      0.908     0.875     0.891       192\n",
      "       I_LOC      0.879     0.812     0.844       303\n",
      "       B_PER      0.995     0.968     0.981       188\n",
      "       I_PER      0.997     0.969     0.983       649\n",
      "\n",
      "   micro avg      0.904     0.873     0.888      2591\n",
      "   macro avg      0.910     0.880     0.895      2591\n",
      "weighted avg      0.904     0.873     0.888      2591\n",
      "\n"
     ]
    },
    {
     "data": {
      "application/vnd.jupyter.widget-view+json": {
       "model_id": "",
       "version_major": 2,
       "version_minor": 0
      },
      "text/plain": [
       "HBox(children=(IntProgress(value=0, max=233), HTML(value='')))"
      ]
     },
     "metadata": {},
     "output_type": "display_data"
    },
    {
     "name": "stderr",
     "output_type": "stream",
     "text": [
      "INFO:root:\n",
      "lr after epoch: 0.003990312195135586\n",
      "INFO:root:\n",
      "epoch 92, average train epoch loss=0.094841\n",
      "\n"
     ]
    },
    {
     "name": "stdout",
     "output_type": "stream",
     "text": [
      "\r"
     ]
    },
    {
     "data": {
      "application/vnd.jupyter.widget-view+json": {
       "model_id": "",
       "version_major": 2,
       "version_minor": 0
      },
      "text/plain": [
       "HBox(children=(IntProgress(value=0, max=26), HTML(value='')))"
      ]
     },
     "metadata": {},
     "output_type": "display_data"
    },
    {
     "name": "stderr",
     "output_type": "stream",
     "text": [
      "INFO:root:on epoch 53 by max_prec: 0.936\n"
     ]
    },
    {
     "name": "stdout",
     "output_type": "stream",
     "text": [
      "\r",
      "              precision    recall  f1-score   support\n",
      "\n",
      "       B_ORG      0.855     0.846     0.850       259\n",
      "       I_ORG      0.923     0.822     0.869      1000\n",
      "       B_LOC      0.905     0.891     0.898       192\n",
      "       I_LOC      0.870     0.842     0.856       303\n",
      "       B_PER      0.978     0.963     0.971       188\n",
      "       I_PER      0.991     0.966     0.978       649\n",
      "\n",
      "   micro avg      0.930     0.878     0.903      2591\n",
      "   macro avg      0.920     0.888     0.904      2591\n",
      "weighted avg      0.929     0.878     0.903      2591\n",
      "\n"
     ]
    },
    {
     "data": {
      "application/vnd.jupyter.widget-view+json": {
       "model_id": "",
       "version_major": 2,
       "version_minor": 0
      },
      "text/plain": [
       "HBox(children=(IntProgress(value=0, max=233), HTML(value='')))"
      ]
     },
     "metadata": {},
     "output_type": "display_data"
    },
    {
     "name": "stderr",
     "output_type": "stream",
     "text": [
      "INFO:root:\n",
      "lr after epoch: 0.004233489883927653\n",
      "INFO:root:\n",
      "epoch 93, average train epoch loss=0.10854\n",
      "\n"
     ]
    },
    {
     "name": "stdout",
     "output_type": "stream",
     "text": [
      "\r"
     ]
    },
    {
     "data": {
      "application/vnd.jupyter.widget-view+json": {
       "model_id": "",
       "version_major": 2,
       "version_minor": 0
      },
      "text/plain": [
       "HBox(children=(IntProgress(value=0, max=26), HTML(value='')))"
      ]
     },
     "metadata": {},
     "output_type": "display_data"
    },
    {
     "name": "stderr",
     "output_type": "stream",
     "text": [
      "INFO:root:on epoch 53 by max_prec: 0.936\n"
     ]
    },
    {
     "name": "stdout",
     "output_type": "stream",
     "text": [
      "\r",
      "              precision    recall  f1-score   support\n",
      "\n",
      "       B_ORG      0.824     0.865     0.844       259\n",
      "       I_ORG      0.909     0.850     0.879      1000\n",
      "       B_LOC      0.911     0.901     0.906       192\n",
      "       I_LOC      0.882     0.861     0.871       303\n",
      "       B_PER      0.989     0.968     0.978       188\n",
      "       I_PER      0.997     0.971     0.984       649\n",
      "\n",
      "   micro avg      0.925     0.895     0.910      2591\n",
      "   macro avg      0.918     0.903     0.910      2591\n",
      "weighted avg      0.925     0.895     0.910      2591\n",
      "\n"
     ]
    },
    {
     "data": {
      "application/vnd.jupyter.widget-view+json": {
       "model_id": "",
       "version_major": 2,
       "version_minor": 0
      },
      "text/plain": [
       "HBox(children=(IntProgress(value=0, max=233), HTML(value='')))"
      ]
     },
     "metadata": {},
     "output_type": "display_data"
    },
    {
     "name": "stderr",
     "output_type": "stream",
     "text": [
      "INFO:root:\n",
      "lr after epoch: 0.004483739201066815\n",
      "INFO:root:\n",
      "epoch 94, average train epoch loss=0.069544\n",
      "\n"
     ]
    },
    {
     "name": "stdout",
     "output_type": "stream",
     "text": [
      "\r"
     ]
    },
    {
     "data": {
      "application/vnd.jupyter.widget-view+json": {
       "model_id": "",
       "version_major": 2,
       "version_minor": 0
      },
      "text/plain": [
       "HBox(children=(IntProgress(value=0, max=26), HTML(value='')))"
      ]
     },
     "metadata": {},
     "output_type": "display_data"
    },
    {
     "name": "stderr",
     "output_type": "stream",
     "text": [
      "INFO:root:on epoch 53 by max_prec: 0.936\n"
     ]
    },
    {
     "name": "stdout",
     "output_type": "stream",
     "text": [
      "\r",
      "              precision    recall  f1-score   support\n",
      "\n",
      "       B_ORG      0.849     0.826     0.838       259\n",
      "       I_ORG      0.929     0.825     0.874      1000\n",
      "       B_LOC      0.910     0.896     0.903       192\n",
      "       I_LOC      0.918     0.845     0.880       303\n",
      "       B_PER      0.989     0.968     0.978       188\n",
      "       I_PER      0.997     0.975     0.986       649\n",
      "\n",
      "   micro avg      0.940     0.881     0.910      2591\n",
      "   macro avg      0.932     0.889     0.910      2591\n",
      "weighted avg      0.940     0.881     0.909      2591\n",
      "\n"
     ]
    },
    {
     "data": {
      "application/vnd.jupyter.widget-view+json": {
       "model_id": "",
       "version_major": 2,
       "version_minor": 0
      },
      "text/plain": [
       "HBox(children=(IntProgress(value=0, max=233), HTML(value='')))"
      ]
     },
     "metadata": {},
     "output_type": "display_data"
    },
    {
     "name": "stderr",
     "output_type": "stream",
     "text": [
      "INFO:root:\n",
      "lr after epoch: 0.004738873105754836\n",
      "INFO:root:\n",
      "epoch 95, average train epoch loss=0.059423\n",
      "\n"
     ]
    },
    {
     "name": "stdout",
     "output_type": "stream",
     "text": [
      "\r"
     ]
    },
    {
     "data": {
      "application/vnd.jupyter.widget-view+json": {
       "model_id": "",
       "version_major": 2,
       "version_minor": 0
      },
      "text/plain": [
       "HBox(children=(IntProgress(value=0, max=26), HTML(value='')))"
      ]
     },
     "metadata": {},
     "output_type": "display_data"
    },
    {
     "name": "stderr",
     "output_type": "stream",
     "text": [
      "INFO:root:on epoch 53 by max_prec: 0.936\n"
     ]
    },
    {
     "name": "stdout",
     "output_type": "stream",
     "text": [
      "\r",
      "              precision    recall  f1-score   support\n",
      "\n",
      "       B_ORG      0.862     0.846     0.854       259\n",
      "       I_ORG      0.927     0.809     0.864      1000\n",
      "       B_LOC      0.939     0.880     0.909       192\n",
      "       I_LOC      0.925     0.815     0.867       303\n",
      "       B_PER      0.939     0.984     0.961       188\n",
      "       I_PER      0.955     0.985     0.970       649\n",
      "\n",
      "   micro avg      0.930     0.875     0.902      2591\n",
      "   macro avg      0.925     0.886     0.904      2591\n",
      "weighted avg      0.929     0.875     0.900      2591\n",
      "\n"
     ]
    },
    {
     "data": {
      "application/vnd.jupyter.widget-view+json": {
       "model_id": "",
       "version_major": 2,
       "version_minor": 0
      },
      "text/plain": [
       "HBox(children=(IntProgress(value=0, max=233), HTML(value='')))"
      ]
     },
     "metadata": {},
     "output_type": "display_data"
    },
    {
     "name": "stderr",
     "output_type": "stream",
     "text": [
      "INFO:root:\n",
      "lr after epoch: 0.004998873655318557\n",
      "INFO:root:\n",
      "epoch 96, average train epoch loss=0.089166\n",
      "\n"
     ]
    },
    {
     "name": "stdout",
     "output_type": "stream",
     "text": [
      "\r"
     ]
    },
    {
     "data": {
      "application/vnd.jupyter.widget-view+json": {
       "model_id": "",
       "version_major": 2,
       "version_minor": 0
      },
      "text/plain": [
       "HBox(children=(IntProgress(value=0, max=26), HTML(value='')))"
      ]
     },
     "metadata": {},
     "output_type": "display_data"
    },
    {
     "name": "stderr",
     "output_type": "stream",
     "text": [
      "INFO:root:on epoch 53 by max_prec: 0.936\n"
     ]
    },
    {
     "name": "stdout",
     "output_type": "stream",
     "text": [
      "\r",
      "              precision    recall  f1-score   support\n",
      "\n",
      "       B_ORG      0.847     0.815     0.831       259\n",
      "       I_ORG      0.934     0.822     0.874      1000\n",
      "       B_LOC      0.905     0.896     0.901       192\n",
      "       I_LOC      0.907     0.842     0.873       303\n",
      "       B_PER      0.973     0.957     0.965       188\n",
      "       I_PER      0.989     0.969     0.979       649\n",
      "\n",
      "   micro avg      0.937     0.876     0.905      2591\n",
      "   macro avg      0.926     0.883     0.904      2591\n",
      "weighted avg      0.937     0.876     0.905      2591\n",
      "\n"
     ]
    },
    {
     "data": {
      "application/vnd.jupyter.widget-view+json": {
       "model_id": "",
       "version_major": 2,
       "version_minor": 0
      },
      "text/plain": [
       "HBox(children=(IntProgress(value=0, max=233), HTML(value='')))"
      ]
     },
     "metadata": {},
     "output_type": "display_data"
    },
    {
     "name": "stderr",
     "output_type": "stream",
     "text": [
      "INFO:root:\n",
      "lr after epoch: 0.00473627703429326\n",
      "INFO:root:\n",
      "epoch 97, average train epoch loss=0.097947\n",
      "\n"
     ]
    },
    {
     "name": "stdout",
     "output_type": "stream",
     "text": [
      "\r"
     ]
    },
    {
     "data": {
      "application/vnd.jupyter.widget-view+json": {
       "model_id": "",
       "version_major": 2,
       "version_minor": 0
      },
      "text/plain": [
       "HBox(children=(IntProgress(value=0, max=26), HTML(value='')))"
      ]
     },
     "metadata": {},
     "output_type": "display_data"
    },
    {
     "name": "stderr",
     "output_type": "stream",
     "text": [
      "INFO:root:on epoch 53 by max_prec: 0.936\n"
     ]
    },
    {
     "name": "stdout",
     "output_type": "stream",
     "text": [
      "\r",
      "              precision    recall  f1-score   support\n",
      "\n",
      "       B_ORG      0.838     0.838     0.838       259\n",
      "       I_ORG      0.906     0.851     0.878      1000\n",
      "       B_LOC      0.930     0.901     0.915       192\n",
      "       I_LOC      0.929     0.865     0.896       303\n",
      "       B_PER      0.995     0.979     0.987       188\n",
      "       I_PER      0.997     0.982     0.989       649\n",
      "\n",
      "   micro avg      0.933     0.897     0.915      2591\n",
      "   macro avg      0.932     0.902     0.917      2591\n",
      "weighted avg      0.933     0.897     0.914      2591\n",
      "\n"
     ]
    },
    {
     "data": {
      "application/vnd.jupyter.widget-view+json": {
       "model_id": "",
       "version_major": 2,
       "version_minor": 0
      },
      "text/plain": [
       "HBox(children=(IntProgress(value=0, max=233), HTML(value='')))"
      ]
     },
     "metadata": {},
     "output_type": "display_data"
    },
    {
     "name": "stderr",
     "output_type": "stream",
     "text": [
      "INFO:root:\n",
      "lr after epoch: 0.00446659678868953\n",
      "INFO:root:\n",
      "epoch 98, average train epoch loss=0.11677\n",
      "\n"
     ]
    },
    {
     "name": "stdout",
     "output_type": "stream",
     "text": [
      "\r"
     ]
    },
    {
     "data": {
      "application/vnd.jupyter.widget-view+json": {
       "model_id": "",
       "version_major": 2,
       "version_minor": 0
      },
      "text/plain": [
       "HBox(children=(IntProgress(value=0, max=26), HTML(value='')))"
      ]
     },
     "metadata": {},
     "output_type": "display_data"
    },
    {
     "name": "stderr",
     "output_type": "stream",
     "text": [
      "INFO:root:on epoch 53 by max_prec: 0.936\n"
     ]
    },
    {
     "name": "stdout",
     "output_type": "stream",
     "text": [
      "\r",
      "              precision    recall  f1-score   support\n",
      "\n",
      "       B_ORG      0.816     0.842     0.829       259\n",
      "       I_ORG      0.892     0.870     0.881      1000\n",
      "       B_LOC      0.914     0.891     0.902       192\n",
      "       I_LOC      0.889     0.875     0.882       303\n",
      "       B_PER      0.994     0.952     0.973       188\n",
      "       I_PER      0.997     0.958     0.977       649\n",
      "\n",
      "   micro avg      0.919     0.897     0.908      2591\n",
      "   macro avg      0.917     0.898     0.907      2591\n",
      "weighted avg      0.920     0.897     0.908      2591\n",
      "\n"
     ]
    },
    {
     "data": {
      "application/vnd.jupyter.widget-view+json": {
       "model_id": "",
       "version_major": 2,
       "version_minor": 0
      },
      "text/plain": [
       "HBox(children=(IntProgress(value=0, max=233), HTML(value='')))"
      ]
     },
     "metadata": {},
     "output_type": "display_data"
    },
    {
     "name": "stderr",
     "output_type": "stream",
     "text": [
      "INFO:root:\n",
      "lr after epoch: 0.004192103375215926\n",
      "INFO:root:\n",
      "epoch 99, average train epoch loss=0.072956\n",
      "\n"
     ]
    },
    {
     "name": "stdout",
     "output_type": "stream",
     "text": [
      "\r"
     ]
    },
    {
     "data": {
      "application/vnd.jupyter.widget-view+json": {
       "model_id": "",
       "version_major": 2,
       "version_minor": 0
      },
      "text/plain": [
       "HBox(children=(IntProgress(value=0, max=26), HTML(value='')))"
      ]
     },
     "metadata": {},
     "output_type": "display_data"
    },
    {
     "name": "stderr",
     "output_type": "stream",
     "text": [
      "INFO:root:on epoch 53 by max_prec: 0.936\n"
     ]
    },
    {
     "name": "stdout",
     "output_type": "stream",
     "text": [
      "\r",
      "              precision    recall  f1-score   support\n",
      "\n",
      "       B_ORG      0.827     0.865     0.845       259\n",
      "       I_ORG      0.906     0.867     0.886      1000\n",
      "       B_LOC      0.902     0.906     0.904       192\n",
      "       I_LOC      0.886     0.871     0.879       303\n",
      "       B_PER      0.995     0.963     0.978       188\n",
      "       I_PER      1.000     0.966     0.983       649\n",
      "\n",
      "   micro avg      0.924     0.902     0.913      2591\n",
      "   macro avg      0.919     0.906     0.912      2591\n",
      "weighted avg      0.925     0.902     0.913      2591\n",
      "\n"
     ]
    },
    {
     "data": {
      "application/vnd.jupyter.widget-view+json": {
       "model_id": "",
       "version_major": 2,
       "version_minor": 0
      },
      "text/plain": [
       "HBox(children=(IntProgress(value=0, max=233), HTML(value='')))"
      ]
     },
     "metadata": {},
     "output_type": "display_data"
    },
    {
     "name": "stderr",
     "output_type": "stream",
     "text": [
      "INFO:root:\n",
      "lr after epoch: 0.0039128145031334174\n",
      "INFO:root:\n",
      "epoch 100, average train epoch loss=0.065772\n",
      "\n"
     ]
    },
    {
     "name": "stdout",
     "output_type": "stream",
     "text": [
      "\r"
     ]
    },
    {
     "data": {
      "application/vnd.jupyter.widget-view+json": {
       "model_id": "",
       "version_major": 2,
       "version_minor": 0
      },
      "text/plain": [
       "HBox(children=(IntProgress(value=0, max=26), HTML(value='')))"
      ]
     },
     "metadata": {},
     "output_type": "display_data"
    },
    {
     "name": "stderr",
     "output_type": "stream",
     "text": [
      "INFO:root:on epoch 53 by max_prec: 0.936\n"
     ]
    },
    {
     "name": "stdout",
     "output_type": "stream",
     "text": [
      "\r",
      "              precision    recall  f1-score   support\n",
      "\n",
      "       B_ORG      0.845     0.861     0.853       259\n",
      "       I_ORG      0.916     0.834     0.873      1000\n",
      "       B_LOC      0.919     0.885     0.902       192\n",
      "       I_LOC      0.907     0.838     0.871       303\n",
      "       B_PER      0.948     0.979     0.963       188\n",
      "       I_PER      0.965     0.985     0.975       649\n",
      "\n",
      "   micro avg      0.923     0.889     0.906      2591\n",
      "   macro avg      0.917     0.897     0.906      2591\n",
      "weighted avg      0.923     0.889     0.905      2591\n",
      "\n"
     ]
    }
   ],
   "source": [
    "learner.fit(100, target_metric='prec')"
   ]
  },
  {
   "cell_type": "markdown",
   "metadata": {},
   "source": [
    "### 5. Evaluate\n",
    "Create new data loader from existing path."
   ]
  },
  {
   "cell_type": "code",
   "execution_count": 32,
   "metadata": {},
   "outputs": [],
   "source": [
    "from modules.data.data import get_bert_data_loader_for_predict"
   ]
  },
  {
   "cell_type": "code",
   "execution_count": 33,
   "metadata": {},
   "outputs": [],
   "source": [
    "dl = get_bert_data_loader_for_predict(data_path + \"valid.csv\", learner)"
   ]
  },
  {
   "cell_type": "code",
   "execution_count": 34,
   "metadata": {},
   "outputs": [],
   "source": [
    "learner.load_model()"
   ]
  },
  {
   "cell_type": "code",
   "execution_count": 35,
   "metadata": {},
   "outputs": [
    {
     "data": {
      "application/vnd.jupyter.widget-view+json": {
       "model_id": "",
       "version_major": 2,
       "version_minor": 0
      },
      "text/plain": [
       "HBox(children=(IntProgress(value=0, max=26), HTML(value='')))"
      ]
     },
     "metadata": {},
     "output_type": "display_data"
    },
    {
     "name": "stdout",
     "output_type": "stream",
     "text": [
      "\r"
     ]
    }
   ],
   "source": [
    "preds = learner.predict(dl)"
   ]
  },
  {
   "cell_type": "markdown",
   "metadata": {},
   "source": [
    "IOB precision"
   ]
  },
  {
   "cell_type": "code",
   "execution_count": 36,
   "metadata": {},
   "outputs": [
    {
     "data": {
      "application/vnd.jupyter.widget-view+json": {
       "model_id": "",
       "version_major": 2,
       "version_minor": 0
      },
      "text/plain": [
       "HBox(children=(IntProgress(value=0, max=26), HTML(value='')))"
      ]
     },
     "metadata": {},
     "output_type": "display_data"
    },
    {
     "name": "stdout",
     "output_type": "stream",
     "text": [
      "\r",
      "              precision    recall  f1-score   support\n",
      "\n",
      "       B_ORG      0.849     0.849     0.849       259\n",
      "       I_ORG      0.921     0.860     0.889      1000\n",
      "       B_LOC      0.933     0.865     0.897       192\n",
      "       I_LOC      0.936     0.822     0.875       303\n",
      "       B_PER      0.989     0.979     0.984       188\n",
      "       I_PER      0.988     0.982     0.985       649\n",
      "\n",
      "   micro avg      0.938     0.894     0.916      2591\n",
      "   macro avg      0.936     0.893     0.913      2591\n",
      "weighted avg      0.938     0.894     0.915      2591\n",
      "\n"
     ]
    }
   ],
   "source": [
    "from modules.train.train import validate_step\n",
    "print(validate_step(learner.data.valid_dl, learner.model, learner.data.id2label, learner.sup_labels))"
   ]
  },
  {
   "cell_type": "markdown",
   "metadata": {},
   "source": [
    "Span precision"
   ]
  },
  {
   "cell_type": "code",
   "execution_count": 37,
   "metadata": {},
   "outputs": [
    {
     "name": "stdout",
     "output_type": "stream",
     "text": [
      "              precision    recall  f1-score   support\n",
      "\n",
      "         LOC      0.865     0.802     0.832       192\n",
      "         ORG      0.822     0.822     0.822       259\n",
      "         PER      0.946     0.936     0.941       188\n",
      "\n",
      "   micro avg      0.872     0.850     0.861       639\n",
      "   macro avg      0.878     0.854     0.865       639\n",
      "weighted avg      0.872     0.850     0.860       639\n",
      "\n"
     ]
    }
   ],
   "source": [
    "from modules.utils.plot_metrics import get_bert_span_report\n",
    "clf_report = get_bert_span_report(dl, preds)\n",
    "print(clf_report)"
   ]
  }
 ],
 "metadata": {
  "kernelspec": {
   "display_name": "Python 3",
   "language": "python",
   "name": "python3"
  },
  "language_info": {
   "codemirror_mode": {
    "name": "ipython",
    "version": 3
   },
   "file_extension": ".py",
   "mimetype": "text/x-python",
   "name": "python",
   "nbconvert_exporter": "python",
   "pygments_lexer": "ipython3",
   "version": "3.6.5"
  }
 },
 "nbformat": 4,
 "nbformat_minor": 2
}
