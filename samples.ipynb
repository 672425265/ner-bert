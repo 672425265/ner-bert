{
 "cells": [
  {
   "cell_type": "markdown",
   "metadata": {},
   "source": [
    "### FactRuEval example"
   ]
  },
  {
   "cell_type": "code",
   "execution_count": 23,
   "metadata": {},
   "outputs": [],
   "source": [
    "%reload_ext autoreload\n",
    "%autoreload 2\n",
    "%matplotlib inline\n",
    "\n",
    "import warnings\n",
    "\n",
    "warnings.filterwarnings(\"ignore\")"
   ]
  },
  {
   "cell_type": "markdown",
   "metadata": {},
   "source": [
    "### 0. Download pretrained bert model\n",
    "Download pretrained bert [here](https://storage.googleapis.com/bert_models/2018_11_03/multilingual_L-12_H-768_A-12.zip) and unzip.\n",
    "\n",
    "Use the following code for convert tensorflow model to pytorch:\n",
    "\n",
    "\n",
    "```export BERT_BASE_DIR=/path/to/bert/multilingual_L-12_H-768_A-12```\n",
    "\n",
    "```python3 convert_tf_checkpoint_to_pytorch.py \\```\n",
    "\n",
    "```  --tf_checkpoint_path $BERT_BASE_DIR/bert_model.ckpt \\ ```\n",
    "\n",
    "```  --bert_config_file $BERT_BASE_DIR/bert_config.json \\```\n",
    "\n",
    "```  --pytorch_dump_path $BERT_BASE_DIR/pytorch_model.bin```"
   ]
  },
  {
   "cell_type": "code",
   "execution_count": 14,
   "metadata": {},
   "outputs": [],
   "source": [
    "import os\n",
    "\n",
    "\n",
    "data_path = \"/home/lis/ner/ulmfit/data/factrueval/\"\n",
    "train_path = os.path.join(data_path, \"train_with_pos.csv\")\n",
    "valid_path = os.path.join(data_path, \"valid_with_pos.csv\")\n",
    "model_dir = \"/datadrive/models/multilingual_L-12_H-768_A-12/\"\n",
    "init_checkpoint_pt = \"/datadrive/models/multilingual_L-12_H-768_A-12/pytorch_model.bin\"\n",
    "bert_config_file = os.path.join(model_dir, \"bert_config.json\")\n",
    "vocab_file = os.path.join(model_dir, \"vocab.txt\")"
   ]
  },
  {
   "cell_type": "code",
   "execution_count": 15,
   "metadata": {},
   "outputs": [
    {
     "data": {
      "text/plain": [
       "(True, 1)"
      ]
     },
     "execution_count": 15,
     "metadata": {},
     "output_type": "execute_result"
    }
   ],
   "source": [
    "import torch\n",
    "torch.cuda.set_device(1)\n",
    "torch.cuda.is_available(), torch.cuda.current_device()"
   ]
  },
  {
   "cell_type": "markdown",
   "metadata": {},
   "source": [
    "### 1. Data preparation"
   ]
  },
  {
   "cell_type": "markdown",
   "metadata": {},
   "source": [
    "Data train and validation should be presented in the following format."
   ]
  },
  {
   "cell_type": "code",
   "execution_count": 16,
   "metadata": {},
   "outputs": [
    {
     "data": {
      "text/html": [
       "<div>\n",
       "<style scoped>\n",
       "    .dataframe tbody tr th:only-of-type {\n",
       "        vertical-align: middle;\n",
       "    }\n",
       "\n",
       "    .dataframe tbody tr th {\n",
       "        vertical-align: top;\n",
       "    }\n",
       "\n",
       "    .dataframe thead th {\n",
       "        text-align: right;\n",
       "    }\n",
       "</style>\n",
       "<table border=\"1\" class=\"dataframe\">\n",
       "  <thead>\n",
       "    <tr style=\"text-align: right;\">\n",
       "      <th></th>\n",
       "      <th>0</th>\n",
       "      <th>1</th>\n",
       "      <th>3</th>\n",
       "    </tr>\n",
       "  </thead>\n",
       "  <tbody>\n",
       "    <tr>\n",
       "      <th>0</th>\n",
       "      <td>O O O O O O O O O O O O O O O O O O O O</td>\n",
       "      <td>Мифология солнцеворота , собственно , и сводит...</td>\n",
       "      <td>NOUN NOUN PNCT ADVB PNCT CONJ VERB PREP NOUN N...</td>\n",
       "    </tr>\n",
       "    <tr>\n",
       "      <th>1</th>\n",
       "      <td>O O O O O O B_ORG I_ORG O B_ORG I_ORG O O O O ...</td>\n",
       "      <td>По его словам , с покупкой Caramba TV « СТС Ме...</td>\n",
       "      <td>PREP NPRO NOUN PNCT PREP NOUN &lt;unk&gt; &lt;unk&gt; PNCT...</td>\n",
       "    </tr>\n",
       "    <tr>\n",
       "      <th>2</th>\n",
       "      <td>O O O O O O O O O O O O O O O O B_LOC O</td>\n",
       "      <td>Такое десятилетие , по его словам « необходимо...</td>\n",
       "      <td>ADJF NOUN PNCT PREP NPRO NOUN PNCT ADJS ADJF P...</td>\n",
       "    </tr>\n",
       "    <tr>\n",
       "      <th>3</th>\n",
       "      <td>O O O O O O O O O O O O O O</td>\n",
       "      <td>Правительство уволило часть врачей , обвинив и...</td>\n",
       "      <td>NOUN VERB NOUN NOUN PNCT GRND NPRO PREP NOUN N...</td>\n",
       "    </tr>\n",
       "    <tr>\n",
       "      <th>4</th>\n",
       "      <td>O O O B_PER I_PER O O O O O O B_ORG I_ORG I_OR...</td>\n",
       "      <td>Министр сельского хозяйства Николай Федоров пр...</td>\n",
       "      <td>NOUN ADJF NOUN NOUN NOUN VERB PNCT CONJ PRTF V...</td>\n",
       "    </tr>\n",
       "  </tbody>\n",
       "</table>\n",
       "</div>"
      ],
      "text/plain": [
       "                                                   0  \\\n",
       "0            O O O O O O O O O O O O O O O O O O O O   \n",
       "1  O O O O O O B_ORG I_ORG O B_ORG I_ORG O O O O ...   \n",
       "2            O O O O O O O O O O O O O O O O B_LOC O   \n",
       "3                        O O O O O O O O O O O O O O   \n",
       "4  O O O B_PER I_PER O O O O O O B_ORG I_ORG I_OR...   \n",
       "\n",
       "                                                   1  \\\n",
       "0  Мифология солнцеворота , собственно , и сводит...   \n",
       "1  По его словам , с покупкой Caramba TV « СТС Ме...   \n",
       "2  Такое десятилетие , по его словам « необходимо...   \n",
       "3  Правительство уволило часть врачей , обвинив и...   \n",
       "4  Министр сельского хозяйства Николай Федоров пр...   \n",
       "\n",
       "                                                   3  \n",
       "0  NOUN NOUN PNCT ADVB PNCT CONJ VERB PREP NOUN N...  \n",
       "1  PREP NPRO NOUN PNCT PREP NOUN <unk> <unk> PNCT...  \n",
       "2  ADJF NOUN PNCT PREP NPRO NOUN PNCT ADJS ADJF P...  \n",
       "3  NOUN VERB NOUN NOUN PNCT GRND NPRO PREP NOUN N...  \n",
       "4  NOUN ADJF NOUN NOUN NOUN VERB PNCT CONJ PRTF V...  "
      ]
     },
     "execution_count": 16,
     "metadata": {},
     "output_type": "execute_result"
    }
   ],
   "source": [
    "import pandas as pd\n",
    "\n",
    "\n",
    "df = pd.read_csv(train_path)\n",
    "df.head()"
   ]
  },
  {
   "cell_type": "markdown",
   "metadata": {},
   "source": [
    "Train and valid .csv files must have columns named (0, 1). Column 3 is't necessary (does not used now).\n",
    "* Column 0 contains labels in IOB format.\n",
    "* Column 1 contains tokenized and separated (by whitespace) text.\n",
    "\n",
    "For using data in model we need to create `NerData` object.\n",
    "\n",
    "* `train_path` - path to train .csv file\n",
    "* `valid_path` - path to valid .csv file\n",
    "* `vocab_file` - path to google bert pretrained vocab\n",
    "* `batch_size` - batch size (default `16`)\n",
    "* `cuda` - using cuda or cpu (default `True`)\n",
    "* `is_cls` - create data for joint model (default `False`)"
   ]
  },
  {
   "cell_type": "code",
   "execution_count": 18,
   "metadata": {},
   "outputs": [],
   "source": [
    "from modules import NerData"
   ]
  },
  {
   "cell_type": "code",
   "execution_count": 26,
   "metadata": {},
   "outputs": [],
   "source": [
    "data = NerData.create(train_path, valid_path, vocab_file)"
   ]
  },
  {
   "cell_type": "markdown",
   "metadata": {},
   "source": [
    "For factrueval we use the following sample of labels:"
   ]
  },
  {
   "cell_type": "code",
   "execution_count": 28,
   "metadata": {},
   "outputs": [
    {
     "name": "stdout",
     "output_type": "stream",
     "text": [
      "{'<pad>': 0, '[CLS]': 1, '[SEP]': 2, 'B_O': 3, 'I_O': 4, 'B_ORG': 5, 'I_ORG': 6, 'B_LOC': 7, 'I_LOC': 8, 'B_PER': 9, 'I_PER': 10}\n"
     ]
    }
   ],
   "source": [
    "print(data.label2idx)"
   ]
  },
  {
   "cell_type": "markdown",
   "metadata": {},
   "source": [
    "### 2. Create model\n",
    "For creating pytorch model we need to create `NerModel` object.\n",
    "\n",
    "Pretrained params:\n",
    "* `bert_config_file` - path to google bert pretrained config\n",
    "* `init_checkpoint_pt` - path to google bert pretrained weights(?)\n",
    "* `freeze_enc` - freezing bert encoder (default `True`)\n",
    "* `bert_mode` - mode of how bert output will be returned. If `last` return the output of last layer. If `weighted` return weighted sum of all bert output layers, weights are learnable (aka ELMO).\n",
    "\n",
    "Decoder params:\n",
    "* `tag_size` - number of labels: `len(data.id2label)`\n",
    "* `embedding_dim` - output dim from encoder (default `768`)\n",
    "* `dropout_ratio` - dropout param (default `0.4`)\n",
    "* `use_hidden` - using linear layer after lstm (default `True`)\n",
    "* `use_rnn` - using rnn (default `True`)\n",
    "* `hidden_dim` - dim of rnn layer or hidden layer (default `128`)\n",
    "* `rnn_layers` - number of rnn layers (default `1`)\n",
    "\n",
    "MultiheadAttention Layer params\n",
    "* `num_heads` - number of heads (default `3`)\n",
    "* `dropout_attn` - dropout for atention (default `0.1`)\n",
    "* `key_dim` - keyword dim in attention (default `64`)\n",
    "* `val_dim` - value dim (default `64`)\n",
    "* `use_attn` - include attention layer to model (defalut `False`) \n",
    "\n",
    "Gpu or cpu:\n",
    "* `use_cuda` - use cuda or cpu (default `True`)."
   ]
  },
  {
   "cell_type": "code",
   "execution_count": 29,
   "metadata": {},
   "outputs": [],
   "source": [
    "from modules import NerModel"
   ]
  },
  {
   "cell_type": "code",
   "execution_count": 30,
   "metadata": {},
   "outputs": [
    {
     "name": "stdout",
     "output_type": "stream",
     "text": [
      "Use rnn of type: lstm with n_layers: 1\n",
      "Use MultiHeadAttention layer with num_heads 3\n",
      "Use fully-connected layer before crf.\n",
      "freeze_encoder\n"
     ]
    }
   ],
   "source": [
    "model = NerModel.create(bert_config_file, init_checkpoint_pt, 11, use_rnn=True, use_attn=True,\n",
    "                        bert_mode=\"weighted\")"
   ]
  },
  {
   "cell_type": "markdown",
   "metadata": {},
   "source": [
    "### 3. Create learner\n",
    "\n",
    "For training our pytorch model we need to create `NerLearner` object.\n",
    "\n",
    "* `model: NerModel` - pytorch model\n",
    "* `sup_labels` - list of supported labels for calculating f1 metric. For FactRuEval use: `['B_LOC', 'I_LOC', 'B_ORG', 'I_ORG', 'B_PER', 'I_PER']`\n",
    "* `base_lr` - starting learning rate (default `0.001`)\n",
    "* `lr_max` - max learning rate for scheduler (default `0.01`)\n",
    "* `betas` - params for default optimizer (default `[0.8, 0.9]`)\n",
    "* `clip` - grad clipping (default `0.25`)\n",
    "* `verbose` - printing to console reports (default `True`)"
   ]
  },
  {
   "cell_type": "code",
   "execution_count": 35,
   "metadata": {},
   "outputs": [],
   "source": [
    "from modules import NerLearner"
   ]
  },
  {
   "cell_type": "code",
   "execution_count": 36,
   "metadata": {},
   "outputs": [
    {
     "name": "stderr",
     "output_type": "stream",
     "text": [
      "INFO:root:Use lr OneCycleScheduler...\n"
     ]
    }
   ],
   "source": [
    "learner = NerLearner(model, data.id2label[5:], data,\n",
    "                     best_model_path=\"/datadrive/models/factrueval/exp_attn2.cpt\",\n",
    "                     base_lr=0.001, lr_max=0.01, clip=5.0, use_lr_scheduler=True)"
   ]
  },
  {
   "cell_type": "markdown",
   "metadata": {},
   "source": [
    "### 4. Learn your NER model\n",
    "Call `learner.fit`\n",
    "* `epochs` - number of train iterations (default `100`)\n",
    "* `resume_history` - resuming appending results to history or create new (default `True`)\n",
    "* `target_metric` - mean metric, that want you see to pick best epochs (default `f1`)."
   ]
  },
  {
   "cell_type": "code",
   "execution_count": 37,
   "metadata": {},
   "outputs": [
    {
     "name": "stderr",
     "output_type": "stream",
     "text": [
      "INFO:root:Resuming train... Current epoch 0.\n"
     ]
    },
    {
     "data": {
      "application/vnd.jupyter.widget-view+json": {
       "model_id": "",
       "version_major": 2,
       "version_minor": 0
      },
      "text/plain": [
       "HBox(children=(IntProgress(value=0, max=233), HTML(value='')))"
      ]
     },
     "metadata": {},
     "output_type": "display_data"
    },
    {
     "name": "stderr",
     "output_type": "stream",
     "text": [
      "INFO:root:\n",
      "lr after epoch: 0.0032403433476394846\n",
      "INFO:root:\n",
      "epoch 1, average train epoch loss=461.14\n",
      "\n"
     ]
    },
    {
     "name": "stdout",
     "output_type": "stream",
     "text": [
      "\r"
     ]
    },
    {
     "data": {
      "application/vnd.jupyter.widget-view+json": {
       "model_id": "",
       "version_major": 2,
       "version_minor": 0
      },
      "text/plain": [
       "HBox(children=(IntProgress(value=0, max=26), HTML(value='')))"
      ]
     },
     "metadata": {},
     "output_type": "display_data"
    },
    {
     "name": "stdout",
     "output_type": "stream",
     "text": [
      "\r"
     ]
    },
    {
     "name": "stderr",
     "output_type": "stream",
     "text": [
      "INFO:root:on epoch 0 by max_prec: 0.8329999999999999\n",
      "INFO:root:Saving new best model...\n"
     ]
    },
    {
     "name": "stdout",
     "output_type": "stream",
     "text": [
      "              precision    recall  f1-score   support\n",
      "\n",
      "       [CLS]      1.000     1.000     1.000       415\n",
      "       [SEP]      1.000     1.000     1.000       415\n",
      "       B_LOC      0.854     0.535     0.658       230\n",
      "       I_LOC      0.828     0.603     0.697       239\n",
      "         B_O      0.972     0.980     0.976      7203\n",
      "         I_O      0.952     0.977     0.964      5148\n",
      "       B_ORG      0.711     0.683     0.697       543\n",
      "       I_ORG      0.750     0.708     0.729       614\n",
      "       B_PER      0.943     0.922     0.932       321\n",
      "       I_PER      0.912     0.946     0.928       480\n",
      "\n",
      "   micro avg      0.945     0.945     0.945     15608\n",
      "   macro avg      0.892     0.835     0.858     15608\n",
      "weighted avg      0.943     0.945     0.943     15608\n",
      "\n"
     ]
    },
    {
     "data": {
      "application/vnd.jupyter.widget-view+json": {
       "model_id": "",
       "version_major": 2,
       "version_minor": 0
      },
      "text/plain": [
       "HBox(children=(IntProgress(value=0, max=233), HTML(value='')))"
      ]
     },
     "metadata": {},
     "output_type": "display_data"
    },
    {
     "name": "stderr",
     "output_type": "stream",
     "text": [
      "INFO:root:\n",
      "lr after epoch: 0.005490343347639485\n",
      "INFO:root:\n",
      "epoch 2, average train epoch loss=195.51\n",
      "\n"
     ]
    },
    {
     "name": "stdout",
     "output_type": "stream",
     "text": [
      "\r"
     ]
    },
    {
     "data": {
      "application/vnd.jupyter.widget-view+json": {
       "model_id": "",
       "version_major": 2,
       "version_minor": 0
      },
      "text/plain": [
       "HBox(children=(IntProgress(value=0, max=26), HTML(value='')))"
      ]
     },
     "metadata": {},
     "output_type": "display_data"
    },
    {
     "name": "stderr",
     "output_type": "stream",
     "text": [
      "INFO:root:on epoch 0 by max_prec: 0.8329999999999999\n"
     ]
    },
    {
     "name": "stdout",
     "output_type": "stream",
     "text": [
      "\r",
      "              precision    recall  f1-score   support\n",
      "\n",
      "       [CLS]      1.000     1.000     1.000       415\n",
      "       [SEP]      1.000     1.000     1.000       415\n",
      "       B_LOC      0.781     0.465     0.583       230\n",
      "       I_LOC      0.780     0.757     0.769       239\n",
      "         B_O      0.963     0.981     0.972      7203\n",
      "         I_O      0.971     0.971     0.971      5148\n",
      "       B_ORG      0.730     0.689     0.709       543\n",
      "       I_ORG      0.780     0.761     0.770       614\n",
      "       B_PER      0.944     0.941     0.942       321\n",
      "       I_PER      0.931     0.952     0.941       480\n",
      "\n",
      "   micro avg      0.947     0.947     0.947     15608\n",
      "   macro avg      0.888     0.852     0.866     15608\n",
      "weighted avg      0.945     0.947     0.946     15608\n",
      "\n"
     ]
    }
   ],
   "source": [
    "learner.fit(2, target_metric='prec')"
   ]
  },
  {
   "cell_type": "code",
   "execution_count": 41,
   "metadata": {},
   "outputs": [],
   "source": [
    "from modules.utils.plot_metrics import plot_by_class_curve"
   ]
  },
  {
   "cell_type": "code",
   "execution_count": 42,
   "metadata": {},
   "outputs": [
    {
     "data": {
      "image/png": "[encoded data removed]",
      "text/plain": [
       "<Figure size 1080x720 with 1 Axes>"
      ]
     },
     "metadata": {
      "needs_background": "light"
     },
     "output_type": "display_data"
    }
   ],
   "source": [
    "plot_by_class_curve(learner.history, 'prec', data.id2label[5:])"
   ]
  },
  {
   "cell_type": "markdown",
   "metadata": {},
   "source": [
    "### 5. Predict on new data\n",
    "Create new data loader from existing path."
   ]
  },
  {
   "cell_type": "code",
   "execution_count": 43,
   "metadata": {},
   "outputs": [],
   "source": [
    "from modules.data.data import get_data_loader_for_predict"
   ]
  },
  {
   "cell_type": "code",
   "execution_count": 44,
   "metadata": {},
   "outputs": [],
   "source": [
    "dl, orig_to_tok_map = get_data_loader_for_predict(data_path+\"valid.csv\", learner)"
   ]
  },
  {
   "cell_type": "markdown",
   "metadata": {},
   "source": [
    "Load our best model."
   ]
  },
  {
   "cell_type": "code",
   "execution_count": 45,
   "metadata": {},
   "outputs": [],
   "source": [
    "learner.load_model()"
   ]
  },
  {
   "cell_type": "markdown",
   "metadata": {},
   "source": [
    "Call predict from learner."
   ]
  },
  {
   "cell_type": "code",
   "execution_count": 46,
   "metadata": {},
   "outputs": [
    {
     "data": {
      "application/vnd.jupyter.widget-view+json": {
       "model_id": "",
       "version_major": 2,
       "version_minor": 0
      },
      "text/plain": [
       "HBox(children=(IntProgress(value=0, max=26), HTML(value='')))"
      ]
     },
     "metadata": {},
     "output_type": "display_data"
    },
    {
     "name": "stdout",
     "output_type": "stream",
     "text": [
      "\r"
     ]
    }
   ],
   "source": [
    "preds = learner.predict(dl)"
   ]
  },
  {
   "cell_type": "markdown",
   "metadata": {},
   "source": [
    "### 6. Transform predictions to tokens and spans"
   ]
  },
  {
   "cell_type": "code",
   "execution_count": 49,
   "metadata": {},
   "outputs": [],
   "source": [
    "from modules.utils.utils import to_words, tokens2spans\n",
    "\n",
    "\n",
    "tokens, labels = to_words(dl, orig_to_tok_map, preds)"
   ]
  },
  {
   "cell_type": "code",
   "execution_count": 50,
   "metadata": {},
   "outputs": [],
   "source": [
    "spans = tokens2spans(tokens, labels)"
   ]
  },
  {
   "cell_type": "code",
   "execution_count": 51,
   "metadata": {},
   "outputs": [
    {
     "name": "stdout",
     "output_type": "stream",
     "text": [
      "['сделка', 'состоится', ',', 'если', 'будет', 'одобрена', 'регуляторами', ',', 'из-за', 'которых', 'в', 'начале', 'года', 'сорвалось', 'слияние', 'nyse', 'euronext', 'с', 'deutsche', 'borse']\n"
     ]
    }
   ],
   "source": [
    "print(tokens[0])"
   ]
  },
  {
   "cell_type": "markdown",
   "metadata": {},
   "source": [
    "Predicted labels"
   ]
  },
  {
   "cell_type": "code",
   "execution_count": 52,
   "metadata": {},
   "outputs": [
    {
     "name": "stdout",
     "output_type": "stream",
     "text": [
      "['B_O', 'B_O', 'B_O', 'B_O', 'B_O', 'B_O', 'B_O', 'B_O', 'B_O', 'B_O', 'B_O', 'B_O', 'B_O', 'B_O', 'B_O', 'B_ORG', 'B_ORG', 'B_O', 'B_ORG', 'B_ORG']\n"
     ]
    }
   ],
   "source": [
    "print(labels[0])"
   ]
  },
  {
   "cell_type": "markdown",
   "metadata": {},
   "source": [
    "Origin labels"
   ]
  },
  {
   "cell_type": "code",
   "execution_count": 53,
   "metadata": {},
   "outputs": [],
   "source": [
    "tokens, labels = to_words(dl, orig_to_tok_map, [x.labels for x in dl.dataset])"
   ]
  },
  {
   "cell_type": "code",
   "execution_count": 54,
   "metadata": {},
   "outputs": [
    {
     "name": "stdout",
     "output_type": "stream",
     "text": [
      "['B_O', 'B_O', 'B_O', 'B_O', 'B_O', 'B_O', 'B_O', 'B_O', 'B_O', 'B_O', 'B_O', 'B_O', 'B_O', 'B_O', 'B_O', 'B_ORG', 'B_ORG', 'B_O', 'B_ORG', 'B_ORG']\n"
     ]
    }
   ],
   "source": [
    "print(labels[0])"
   ]
  },
  {
   "cell_type": "markdown",
   "metadata": {},
   "source": [
    "Predicted spans"
   ]
  },
  {
   "cell_type": "code",
   "execution_count": 55,
   "metadata": {},
   "outputs": [
    {
     "name": "stdout",
     "output_type": "stream",
     "text": [
      "[('сделка', 'O'), ('состоится', 'O'), (',', 'O'), ('если', 'O'), ('будет', 'O'), ('одобрена', 'O'), ('регуляторами', 'O'), (',', 'O'), ('из-за', 'O'), ('которых', 'O'), ('в', 'O'), ('начале', 'O'), ('года', 'O'), ('сорвалось', 'O'), ('слияние', 'O'), ('nyse', 'ORG'), ('euronext', 'ORG'), ('с', 'O'), ('deutsche', 'ORG'), ('borse', 'ORG')]\n"
     ]
    }
   ],
   "source": [
    "print(spans[0])"
   ]
  },
  {
   "cell_type": "markdown",
   "metadata": {},
   "source": [
    "Origin spans"
   ]
  },
  {
   "cell_type": "code",
   "execution_count": 56,
   "metadata": {},
   "outputs": [],
   "source": [
    "spans = tokens2spans(tokens, labels)"
   ]
  },
  {
   "cell_type": "code",
   "execution_count": 57,
   "metadata": {},
   "outputs": [
    {
     "name": "stdout",
     "output_type": "stream",
     "text": [
      "[('сделка', 'O'), ('состоится', 'O'), (',', 'O'), ('если', 'O'), ('будет', 'O'), ('одобрена', 'O'), ('регуляторами', 'O'), (',', 'O'), ('из-за', 'O'), ('которых', 'O'), ('в', 'O'), ('начале', 'O'), ('года', 'O'), ('сорвалось', 'O'), ('слияние', 'O'), ('nyse', 'ORG'), ('euronext', 'ORG'), ('с', 'O'), ('deutsche', 'ORG'), ('borse', 'ORG')]\n"
     ]
    }
   ],
   "source": [
    "print(spans[0])"
   ]
  },
  {
   "cell_type": "code",
   "execution_count": 59,
   "metadata": {},
   "outputs": [
    {
     "name": "stdout",
     "output_type": "stream",
     "text": [
      "              precision    recall  f1-score   support\n",
      "\n",
      "         ORG      0.701     0.657     0.679       543\n",
      "         LOC      0.861     0.539     0.663       230\n",
      "         PER      0.927     0.907     0.917       321\n",
      "\n",
      "   micro avg      0.798     0.706     0.749      1094\n",
      "   macro avg      0.830     0.701     0.753      1094\n",
      "weighted avg      0.801     0.706     0.745      1094\n",
      "\n"
     ]
    }
   ],
   "source": [
    "from modules.utils.plot_metrics import get_span_report\n",
    "clf_report = get_span_report(dl, orig_to_tok_map, preds)\n",
    "print(clf_report)"
   ]
  },
  {
   "cell_type": "markdown",
   "metadata": {},
   "source": [
    "### 7. Fit factrueval for best metric"
   ]
  },
  {
   "cell_type": "code",
   "execution_count": 415,
   "metadata": {},
   "outputs": [
    {
     "name": "stdout",
     "output_type": "stream",
     "text": [
      "freeze_encoder\n"
     ]
    }
   ],
   "source": [
    "model = NerModel.create(bert_config_file, init_checkpoint_pt, len(data.id2label), hidden_dim=128)"
   ]
  },
  {
   "cell_type": "code",
   "execution_count": 416,
   "metadata": {},
   "outputs": [
    {
     "name": "stderr",
     "output_type": "stream",
     "text": [
      "11/20/2018 15:35:40 - INFO - root -   Don't use lr scheduler...\n"
     ]
    }
   ],
   "source": [
    "learner = NerLearner(\n",
    "    model,\n",
    "    data.id2label[5:],\n",
    "    data,\n",
    "    lr=0.001,\n",
    "    clip=5.0,\n",
    "    best_model_path=\"/datadrive/models/factrueval/best_model.cpt\")"
   ]
  },
  {
   "cell_type": "code",
   "execution_count": null,
   "metadata": {},
   "outputs": [],
   "source": [
    "learner.fit(300, target_metric='prec')"
   ]
  },
  {
   "cell_type": "markdown",
   "metadata": {},
   "source": [
    "### 8. Evaluate\n",
    "Note: The following result can be improved!"
   ]
  },
  {
   "cell_type": "code",
   "execution_count": 422,
   "metadata": {},
   "outputs": [
    {
     "data": {
      "application/vnd.jupyter.widget-view+json": {
       "model_id": "",
       "version_major": 2,
       "version_minor": 0
      },
      "text/plain": [
       "HBox(children=(IntProgress(value=0, max=26), HTML(value='')))"
      ]
     },
     "metadata": {},
     "output_type": "display_data"
    }
   ],
   "source": [
    "dl, orig_to_tok_map = get_data_loader_for_predict(data_path+\"valid.csv\", learner)\n",
    "learner.load_model()\n",
    "preds = learner.predict(dl)"
   ]
  },
  {
   "cell_type": "markdown",
   "metadata": {},
   "source": [
    "#### Evaluate tokens"
   ]
  },
  {
   "cell_type": "code",
   "execution_count": 423,
   "metadata": {},
   "outputs": [],
   "source": [
    "from modules.utils.plot_metrics import *"
   ]
  },
  {
   "cell_type": "code",
   "execution_count": 437,
   "metadata": {},
   "outputs": [
    {
     "data": {
      "text/plain": [
       "(63, 0.9341666666666667)"
      ]
     },
     "execution_count": 437,
     "metadata": {},
     "output_type": "execute_result"
    }
   ],
   "source": [
    "get_mean_max_metric(learner.history, data.id2label[5:], \"prec\", True)"
   ]
  },
  {
   "cell_type": "markdown",
   "metadata": {},
   "source": [
    "#### Evaluate spans"
   ]
  },
  {
   "cell_type": "code",
   "execution_count": 431,
   "metadata": {},
   "outputs": [],
   "source": [
    "from modules.plot_metrics import get_span_report"
   ]
  },
  {
   "cell_type": "code",
   "execution_count": 433,
   "metadata": {},
   "outputs": [],
   "source": [
    "clf_report = get_span_report(dl, orig_to_tok_map, preds)"
   ]
  },
  {
   "cell_type": "code",
   "execution_count": 434,
   "metadata": {},
   "outputs": [
    {
     "name": "stdout",
     "output_type": "stream",
     "text": [
      "              precision    recall  f1-score   support\n",
      "\n",
      "         LOC      0.885     0.504     0.643       230\n",
      "         ORG      0.898     0.727     0.804       543\n",
      "         PER      0.928     0.888     0.908       321\n",
      "\n",
      "   micro avg      0.907     0.728     0.807      1094\n",
      "   macro avg      0.904     0.707     0.785      1094\n",
      "weighted avg      0.904     0.728     0.800      1094\n",
      "\n"
     ]
    }
   ],
   "source": [
    "print(clf_report)"
   ]
  }
 ],
 "metadata": {
  "kernelspec": {
   "display_name": "Python 3",
   "language": "python",
   "name": "python3"
  },
  "language_info": {
   "codemirror_mode": {
    "name": "ipython",
    "version": 3
   },
   "file_extension": ".py",
   "mimetype": "text/x-python",
   "name": "python",
   "nbconvert_exporter": "python",
   "pygments_lexer": "ipython3",
   "version": "3.6.5"
  }
 },
 "nbformat": 4,
 "nbformat_minor": 2
}
