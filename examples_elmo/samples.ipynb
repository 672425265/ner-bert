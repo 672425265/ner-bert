{
 "cells": [
  {
   "cell_type": "markdown",
   "metadata": {},
   "source": [
    "### FactRuEval example (uncased model)"
   ]
  },
  {
   "cell_type": "code",
   "execution_count": 1,
   "metadata": {},
   "outputs": [],
   "source": [
    "%reload_ext autoreload\n",
    "%autoreload 2\n",
    "%matplotlib inline\n",
    "\n",
    "import warnings\n",
    "import sys\n",
    "\n",
    "sys.path.append(\"../\")\n",
    "\n",
    "warnings.filterwarnings(\"ignore\")"
   ]
  },
  {
   "cell_type": "markdown",
   "metadata": {},
   "source": [
    "### 0. Download pretrained elmo model\n",
    "Download pretrained ELMo for [russian](http://vectors.nlpl.eu/repository/11/170.zip) from [implementation](https://github.com/HIT-SCIR/ELMoForManyLangs) of elmo in pytorch and unzip.\n"
   ]
  },
  {
   "cell_type": "code",
   "execution_count": 2,
   "metadata": {},
   "outputs": [],
   "source": [
    "import os\n",
    "\n",
    "\n",
    "data_path = \"/home/lis/ner/ulmfit/data/factrueval/\"\n",
    "train_path = os.path.join(data_path, \"train_with_pos.csv\")\n",
    "valid_path = os.path.join(data_path, \"valid_with_pos.csv\")\n",
    "model_dir = \"/datadrive/elmo/\"\n",
    "config_name = \"cnn_50_100_512_4096_sample.json\""
   ]
  },
  {
   "cell_type": "code",
   "execution_count": 3,
   "metadata": {},
   "outputs": [
    {
     "data": {
      "text/plain": [
       "(True, 1)"
      ]
     },
     "execution_count": 3,
     "metadata": {},
     "output_type": "execute_result"
    }
   ],
   "source": [
    "import torch\n",
    "torch.cuda.set_device(1)\n",
    "torch.cuda.is_available(), torch.cuda.current_device()"
   ]
  },
  {
   "cell_type": "markdown",
   "metadata": {},
   "source": [
    "### 1. Data preparation"
   ]
  },
  {
   "cell_type": "markdown",
   "metadata": {},
   "source": [
    "Data train and validation should be presented in the following format."
   ]
  },
  {
   "cell_type": "code",
   "execution_count": 4,
   "metadata": {},
   "outputs": [
    {
     "data": {
      "text/html": [
       "<div>\n",
       "<style scoped>\n",
       "    .dataframe tbody tr th:only-of-type {\n",
       "        vertical-align: middle;\n",
       "    }\n",
       "\n",
       "    .dataframe tbody tr th {\n",
       "        vertical-align: top;\n",
       "    }\n",
       "\n",
       "    .dataframe thead th {\n",
       "        text-align: right;\n",
       "    }\n",
       "</style>\n",
       "<table border=\"1\" class=\"dataframe\">\n",
       "  <thead>\n",
       "    <tr style=\"text-align: right;\">\n",
       "      <th></th>\n",
       "      <th>0</th>\n",
       "      <th>1</th>\n",
       "      <th>3</th>\n",
       "    </tr>\n",
       "  </thead>\n",
       "  <tbody>\n",
       "    <tr>\n",
       "      <th>0</th>\n",
       "      <td>O O O O O O O O O O O O O O O O O O O O</td>\n",
       "      <td>Мифология солнцеворота , собственно , и сводит...</td>\n",
       "      <td>NOUN NOUN PNCT ADVB PNCT CONJ VERB PREP NOUN N...</td>\n",
       "    </tr>\n",
       "    <tr>\n",
       "      <th>1</th>\n",
       "      <td>O O O O O O B_ORG I_ORG O B_ORG I_ORG O O O O ...</td>\n",
       "      <td>По его словам , с покупкой Caramba TV « СТС Ме...</td>\n",
       "      <td>PREP NPRO NOUN PNCT PREP NOUN &lt;unk&gt; &lt;unk&gt; PNCT...</td>\n",
       "    </tr>\n",
       "    <tr>\n",
       "      <th>2</th>\n",
       "      <td>O O O O O O O O O O O O O O O O B_LOC O</td>\n",
       "      <td>Такое десятилетие , по его словам « необходимо...</td>\n",
       "      <td>ADJF NOUN PNCT PREP NPRO NOUN PNCT ADJS ADJF P...</td>\n",
       "    </tr>\n",
       "    <tr>\n",
       "      <th>3</th>\n",
       "      <td>O O O O O O O O O O O O O O</td>\n",
       "      <td>Правительство уволило часть врачей , обвинив и...</td>\n",
       "      <td>NOUN VERB NOUN NOUN PNCT GRND NPRO PREP NOUN N...</td>\n",
       "    </tr>\n",
       "    <tr>\n",
       "      <th>4</th>\n",
       "      <td>O O O B_PER I_PER O O O O O O B_ORG I_ORG I_OR...</td>\n",
       "      <td>Министр сельского хозяйства Николай Федоров пр...</td>\n",
       "      <td>NOUN ADJF NOUN NOUN NOUN VERB PNCT CONJ PRTF V...</td>\n",
       "    </tr>\n",
       "  </tbody>\n",
       "</table>\n",
       "</div>"
      ],
      "text/plain": [
       "                                                   0  \\\n",
       "0            O O O O O O O O O O O O O O O O O O O O   \n",
       "1  O O O O O O B_ORG I_ORG O B_ORG I_ORG O O O O ...   \n",
       "2            O O O O O O O O O O O O O O O O B_LOC O   \n",
       "3                        O O O O O O O O O O O O O O   \n",
       "4  O O O B_PER I_PER O O O O O O B_ORG I_ORG I_OR...   \n",
       "\n",
       "                                                   1  \\\n",
       "0  Мифология солнцеворота , собственно , и сводит...   \n",
       "1  По его словам , с покупкой Caramba TV « СТС Ме...   \n",
       "2  Такое десятилетие , по его словам « необходимо...   \n",
       "3  Правительство уволило часть врачей , обвинив и...   \n",
       "4  Министр сельского хозяйства Николай Федоров пр...   \n",
       "\n",
       "                                                   3  \n",
       "0  NOUN NOUN PNCT ADVB PNCT CONJ VERB PREP NOUN N...  \n",
       "1  PREP NPRO NOUN PNCT PREP NOUN <unk> <unk> PNCT...  \n",
       "2  ADJF NOUN PNCT PREP NPRO NOUN PNCT ADJS ADJF P...  \n",
       "3  NOUN VERB NOUN NOUN PNCT GRND NPRO PREP NOUN N...  \n",
       "4  NOUN ADJF NOUN NOUN NOUN VERB PNCT CONJ PRTF V...  "
      ]
     },
     "execution_count": 4,
     "metadata": {},
     "output_type": "execute_result"
    }
   ],
   "source": [
    "import pandas as pd\n",
    "\n",
    "\n",
    "df = pd.read_csv(train_path)\n",
    "df.head()"
   ]
  },
  {
   "cell_type": "markdown",
   "metadata": {},
   "source": [
    "Train and valid .csv files must have columns named (0, 1). Column 3 is't necessary (does not used now).\n",
    "* Column 0 contains labels in IOB format.\n",
    "* Column 1 contains tokenized and separated (by whitespace) text.\n",
    "\n",
    "For using data in model we need to create `NerData` object.\n",
    "\n",
    "* `train_path` - path to train .csv file\n",
    "* `valid_path` - path to valid .csv file\n",
    "* `model_dir` - path to ELMo pretrained model's dir\n",
    "* `config_name` - name of config in `model_dir` folder\n",
    "* `batch_size` - batch size (default `16`)\n",
    "* `cuda` - using cuda or cpu (default `True`)\n",
    "* `is_cls` - create data for joint model (default `False`)\n",
    "* `oov` - default unknown in ELMo model (default `'<oov>'`)\n",
    "* `pad` - default pad sym in ELMo model (default `'<pad>'`)"
   ]
  },
  {
   "cell_type": "code",
   "execution_count": 4,
   "metadata": {},
   "outputs": [
    {
     "name": "stderr",
     "output_type": "stream",
     "text": [
      "INFO:summarizer.preprocessing.cleaner:'pattern' package not found; tag filters are not available for English\n"
     ]
    }
   ],
   "source": [
    "from modules.data.elmo_data import ElmoNerData as NerData"
   ]
  },
  {
   "cell_type": "code",
   "execution_count": 5,
   "metadata": {},
   "outputs": [],
   "source": [
    "data = NerData.create(train_path, valid_path, model_dir, config_name)"
   ]
  },
  {
   "cell_type": "markdown",
   "metadata": {},
   "source": [
    "For factrueval we use the following sample of labels:"
   ]
  },
  {
   "cell_type": "code",
   "execution_count": 6,
   "metadata": {},
   "outputs": [
    {
     "name": "stdout",
     "output_type": "stream",
     "text": [
      "{'<pad>': 0, '<bos>': 1, '<eos>': 2, 'O': 3, 'B_ORG': 4, 'I_ORG': 5, 'B_LOC': 6, 'B_PER': 7, 'I_PER': 8, 'I_LOC': 9}\n"
     ]
    }
   ],
   "source": [
    "print(data.label2idx)"
   ]
  },
  {
   "cell_type": "markdown",
   "metadata": {},
   "source": [
    "### 2. Create model\n",
    "For creating pytorch model we need to create `NerModel` object.\n",
    "\n",
    "* `label_size` - number of labels: `len(data.label2idx)`,\n",
    "\n",
    "ElmoEmbedder params\n",
    "* `model_dir` - path to ELMo pretrained model's dir\n",
    "* `config_name` - name of config in `model_dir` folder\n",
    "* `embedding_dim` - output dim from bert model (default `768`)\n",
    "* `elmo_mode` - mode of how bert output will be returned. If `avg` return mean of all outputs from ELMo. If `weighted` return weighted sum of all bert output layers, weights are learnable (aka ELMO).\n",
    "* `freeze` - freezing bert model (default `True`)\n",
    "\n",
    "ElmoBiLSTMEncoder params\n",
    "* `enc_hidden_dim` - dim of rnn layer or hidden layer (default `128`)\n",
    "* `rnn_layers` - number of rnn layers in encoder\n",
    "\n",
    "CRFDecoder params\n",
    "* `input_dropout` - dropout param (default `0.5`),\n",
    "\n",
    "Gpu or cpu:\n",
    "* `use_cuda` - use cuda or cpu (default `True`)."
   ]
  },
  {
   "cell_type": "code",
   "execution_count": 11,
   "metadata": {},
   "outputs": [],
   "source": [
    "from modules.models.elmo_models import ElmoBiLSTMCRF"
   ]
  },
  {
   "cell_type": "code",
   "execution_count": 9,
   "metadata": {},
   "outputs": [
    {
     "name": "stderr",
     "output_type": "stream",
     "text": [
      "INFO:root:char embedding size: 3896\n",
      "INFO:root:word embedding size: 329681\n"
     ]
    }
   ],
   "source": [
    "model = ElmoBiLSTMCRF.create(len(data.label2idx), model_dir, config_name, enc_hidden_dim=128)"
   ]
  },
  {
   "cell_type": "code",
   "execution_count": 10,
   "metadata": {},
   "outputs": [
    {
     "data": {
      "text/plain": [
       "CRFDecoder(\n",
       "  (input_dropout): Dropout(p=0.5)\n",
       "  (linear): Linears(\n",
       "    (linears): ModuleList(\n",
       "      (0): Linear(in_features=128, out_features=64, bias=True)\n",
       "    )\n",
       "    (output_linear): Linear(in_features=64, out_features=10, bias=True)\n",
       "  )\n",
       "  (crf): CRF()\n",
       ")"
      ]
     },
     "execution_count": 10,
     "metadata": {},
     "output_type": "execute_result"
    }
   ],
   "source": [
    "model.decoder"
   ]
  },
  {
   "cell_type": "markdown",
   "metadata": {},
   "source": [
    "### 3. Create learner\n",
    "\n",
    "For training our pytorch model we need to create `NerLearner` object.\n",
    "\n",
    "* `model: NerModel` - pytorch model\n",
    "* `data: NerData` - train and valid dataloaders\n",
    "* `best_model_path` - path for store best model\n",
    "* `base_lr` - starting learning rate (default `0.001`)\n",
    "* `lr_max` - max learning rate for scheduler (default `0.01`)\n",
    "* `betas` - params for default optimizer (default `[0.8, 0.9]`)\n",
    "* `clip` - grad clipping (default `0.25`)\n",
    "* `verbose` - printing to console reports (default `True`)\n",
    "* `use_lr_scheduler` - using of learning rate Cycle scheduler (default `True`)\n",
    "* `sup_labels` - list of supported labels for calculating `target_metric` metric. For FactRuEval use: `['B_LOC', 'I_LOC', 'B_ORG', 'I_ORG', 'B_PER', 'I_PER']` (default `None`)"
   ]
  },
  {
   "cell_type": "code",
   "execution_count": 12,
   "metadata": {},
   "outputs": [],
   "source": [
    "from modules import NerLearner"
   ]
  },
  {
   "cell_type": "code",
   "execution_count": 13,
   "metadata": {},
   "outputs": [
    {
     "name": "stderr",
     "output_type": "stream",
     "text": [
      "INFO:root:Don't use lr scheduler...\n"
     ]
    }
   ],
   "source": [
    "learner = NerLearner(model, data,\n",
    "                     best_model_path=\"/datadrive/models/factrueval/elmo_bilmcrf.cpt\",\n",
    "                     base_lr=0.001, lr_max=0.005, clip=5.0, use_lr_scheduler=False, sup_labels=data.id2label[4:])"
   ]
  },
  {
   "cell_type": "markdown",
   "metadata": {},
   "source": [
    "### 4. Learn your NER model\n",
    "Call `learner.fit`\n",
    "* `epochs` - number of train iterations (default `100`)\n",
    "* `resume_history` - resuming appending results to history or create new (default `True`)\n",
    "* `target_metric` - mean metric, that want you see to pick best epochs (default `f1`)."
   ]
  },
  {
   "cell_type": "code",
   "execution_count": 14,
   "metadata": {},
   "outputs": [
    {
     "name": "stderr",
     "output_type": "stream",
     "text": [
      "INFO:root:Resuming train... Current epoch 0.\n"
     ]
    },
    {
     "data": {
      "application/vnd.jupyter.widget-view+json": {
       "model_id": "",
       "version_major": 2,
       "version_minor": 0
      },
      "text/plain": [
       "HBox(children=(IntProgress(value=0, max=233), HTML(value='')))"
      ]
     },
     "metadata": {},
     "output_type": "display_data"
    },
    {
     "name": "stderr",
     "output_type": "stream",
     "text": [
      "INFO:root:\n",
      "epoch 1, average train epoch loss=4.9233\n",
      "\n"
     ]
    },
    {
     "name": "stdout",
     "output_type": "stream",
     "text": [
      "\r"
     ]
    },
    {
     "data": {
      "application/vnd.jupyter.widget-view+json": {
       "model_id": "",
       "version_major": 2,
       "version_minor": 0
      },
      "text/plain": [
       "HBox(children=(IntProgress(value=0, max=26), HTML(value='')))"
      ]
     },
     "metadata": {},
     "output_type": "display_data"
    },
    {
     "name": "stdout",
     "output_type": "stream",
     "text": [
      "\r"
     ]
    },
    {
     "name": "stderr",
     "output_type": "stream",
     "text": [
      "INFO:root:on epoch 0 by max_prec: 0.748\n",
      "INFO:root:Saving new best model...\n"
     ]
    },
    {
     "name": "stdout",
     "output_type": "stream",
     "text": [
      "              precision    recall  f1-score   support\n",
      "\n",
      "       B_ORG      0.777     0.765     0.771       260\n",
      "       I_ORG      0.692     0.721     0.706       283\n",
      "       B_LOC      0.836     0.836     0.836       195\n",
      "       B_PER      0.917     0.921     0.919       191\n",
      "       I_PER      0.935     0.885     0.909       130\n",
      "       I_LOC      0.333     0.171     0.226        35\n",
      "\n",
      "   micro avg      0.800     0.789     0.794      1094\n",
      "   macro avg      0.748     0.717     0.728      1094\n",
      "weighted avg      0.794     0.789     0.791      1094\n",
      "\n"
     ]
    }
   ],
   "source": [
    "learner.fit(1, target_metric='prec')"
   ]
  },
  {
   "cell_type": "markdown",
   "metadata": {},
   "source": [
    "Fit for the best model"
   ]
  },
  {
   "cell_type": "code",
   "execution_count": null,
   "metadata": {
    "scrolled": true
   },
   "outputs": [],
   "source": [
    "learner.fit(100, target_metric='prec')"
   ]
  },
  {
   "cell_type": "markdown",
   "metadata": {},
   "source": [
    "### 5. Predict on new data\n",
    "Create new data loader from existing path."
   ]
  },
  {
   "cell_type": "code",
   "execution_count": 16,
   "metadata": {},
   "outputs": [],
   "source": [
    "from modules.data.elmo_data import get_elmo_data_loader_for_predict"
   ]
  },
  {
   "cell_type": "code",
   "execution_count": 17,
   "metadata": {},
   "outputs": [],
   "source": [
    "dl = get_elmo_data_loader_for_predict(data_path + \"valid_with_pos.csv\", learner)"
   ]
  },
  {
   "cell_type": "markdown",
   "metadata": {},
   "source": [
    "Load our best model."
   ]
  },
  {
   "cell_type": "code",
   "execution_count": 18,
   "metadata": {},
   "outputs": [],
   "source": [
    "learner.load_model()"
   ]
  },
  {
   "cell_type": "markdown",
   "metadata": {},
   "source": [
    "Call predict from learner."
   ]
  },
  {
   "cell_type": "code",
   "execution_count": 19,
   "metadata": {},
   "outputs": [
    {
     "data": {
      "application/vnd.jupyter.widget-view+json": {
       "model_id": "",
       "version_major": 2,
       "version_minor": 0
      },
      "text/plain": [
       "HBox(children=(IntProgress(value=0, max=26), HTML(value='')))"
      ]
     },
     "metadata": {},
     "output_type": "display_data"
    }
   ],
   "source": [
    "preds = learner.predict(dl)"
   ]
  },
  {
   "cell_type": "markdown",
   "metadata": {},
   "source": [
    "### 6. Transform predictions to tokens and spans"
   ]
  },
  {
   "cell_type": "code",
   "execution_count": 20,
   "metadata": {},
   "outputs": [
    {
     "name": "stdout",
     "output_type": "stream",
     "text": [
      "['<bos>', 'Сделка', 'состоится', ',', 'если', 'будет', 'одобрена', 'регуляторами', ',', 'из-за', 'которых', 'в', 'начале', 'года', 'сорвалось', 'слияние', 'NYSE', 'Euronext', 'с', 'Deutsche', 'Börse', '<eos>']\n",
      "['<bos>', 'O', 'O', 'O', 'O', 'O', 'O', 'O', 'O', 'O', 'O', 'O', 'O', 'O', 'O', 'O', 'B_ORG', 'I_ORG', 'O', 'B_ORG', 'I_ORG', '<eos>']\n"
     ]
    }
   ],
   "source": [
    "from modules.utils.utils import tokens2spans\n",
    "\n",
    "\n",
    "tp, lp = [x.tokens for x in dl.dataset], preds\n",
    "print(tp[0])\n",
    "print(lp[0])"
   ]
  },
  {
   "cell_type": "code",
   "execution_count": 21,
   "metadata": {},
   "outputs": [],
   "source": [
    "sp = tokens2spans(tp, lp)"
   ]
  },
  {
   "cell_type": "code",
   "execution_count": 22,
   "metadata": {},
   "outputs": [
    {
     "name": "stdout",
     "output_type": "stream",
     "text": [
      "[('<bos>', '<bos>'), ('Сделка', 'O'), ('состоится', 'O'), (',', 'O'), ('если', 'O'), ('будет', 'O'), ('одобрена', 'O'), ('регуляторами', 'O'), (',', 'O'), ('из-за', 'O'), ('которых', 'O'), ('в', 'O'), ('начале', 'O'), ('года', 'O'), ('сорвалось', 'O'), ('слияние', 'O'), ('NYSE Euronext', 'ORG'), ('с', 'O'), ('Deutsche Börse', 'ORG')]\n"
     ]
    }
   ],
   "source": [
    "print(sp[0])"
   ]
  },
  {
   "cell_type": "markdown",
   "metadata": {},
   "source": [
    "### 7. Evaluate"
   ]
  },
  {
   "cell_type": "markdown",
   "metadata": {},
   "source": [
    "IOB precision"
   ]
  },
  {
   "cell_type": "code",
   "execution_count": 23,
   "metadata": {},
   "outputs": [
    {
     "data": {
      "application/vnd.jupyter.widget-view+json": {
       "model_id": "",
       "version_major": 2,
       "version_minor": 0
      },
      "text/plain": [
       "HBox(children=(IntProgress(value=0, max=26), HTML(value='')))"
      ]
     },
     "metadata": {},
     "output_type": "display_data"
    },
    {
     "name": "stdout",
     "output_type": "stream",
     "text": [
      "              precision    recall  f1-score   support\n",
      "\n",
      "       B_ORG      0.875     0.808     0.840       260\n",
      "       I_ORG      0.906     0.749     0.820       283\n",
      "       B_LOC      0.907     0.897     0.902       195\n",
      "       B_PER      0.953     0.963     0.958       191\n",
      "       I_PER      0.969     0.962     0.965       130\n",
      "       I_LOC      0.808     0.600     0.689        35\n",
      "\n",
      "   micro avg      0.913     0.847     0.879      1094\n",
      "   macro avg      0.903     0.830     0.862      1094\n",
      "weighted avg      0.911     0.847     0.877      1094\n",
      "\n"
     ]
    }
   ],
   "source": [
    "from modules.train.train import validate_step\n",
    "print(validate_step(learner.data.valid_dl, learner.model, learner.data.id2label, learner.sup_labels))"
   ]
  },
  {
   "cell_type": "markdown",
   "metadata": {},
   "source": [
    "Span precision"
   ]
  },
  {
   "cell_type": "code",
   "execution_count": 25,
   "metadata": {},
   "outputs": [
    {
     "name": "stdout",
     "output_type": "stream",
     "text": [
      "              precision    recall  f1-score   support\n",
      "\n",
      "         PER      0.881     0.890     0.885       191\n",
      "         LOC      0.850     0.841     0.845       195\n",
      "         ORG      0.824     0.773     0.798       260\n",
      "\n",
      "   micro avg      0.849     0.828     0.839       646\n",
      "   macro avg      0.851     0.835     0.843       646\n",
      "weighted avg      0.848     0.828     0.838       646\n",
      "\n"
     ]
    }
   ],
   "source": [
    "from modules.utils.plot_metrics import get_elmo_span_report\n",
    "clf_report = get_elmo_span_report(dl, preds)\n",
    "print(clf_report)"
   ]
  }
 ],
 "metadata": {
  "kernelspec": {
   "display_name": "Python 3",
   "language": "python",
   "name": "python3"
  },
  "language_info": {
   "codemirror_mode": {
    "name": "ipython",
    "version": 3
   },
   "file_extension": ".py",
   "mimetype": "text/x-python",
   "name": "python",
   "nbconvert_exporter": "python",
   "pygments_lexer": "ipython3",
   "version": "3.6.5"
  }
 },
 "nbformat": 4,
 "nbformat_minor": 2
}
