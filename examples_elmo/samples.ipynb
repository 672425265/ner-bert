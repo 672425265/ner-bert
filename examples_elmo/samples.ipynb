{
 "cells": [
  {
   "cell_type": "markdown",
   "metadata": {},
   "source": [
    "### FactRuEval example (uncased model)"
   ]
  },
  {
   "cell_type": "code",
   "execution_count": 1,
   "metadata": {},
   "outputs": [],
   "source": [
    "%reload_ext autoreload\n",
    "%autoreload 2\n",
    "%matplotlib inline\n",
    "\n",
    "import warnings\n",
    "import sys\n",
    "\n",
    "sys.path.append(\"../\")\n",
    "\n",
    "warnings.filterwarnings(\"ignore\")"
   ]
  },
  {
   "cell_type": "markdown",
   "metadata": {},
   "source": [
    "### 0. Download pretrained elmo model\n",
    "Download pretrained ELMo for [russian](http://vectors.nlpl.eu/repository/11/170.zip) from [implementation](https://github.com/HIT-SCIR/ELMoForManyLangs) of elmo in pytorch and unzip.\n"
   ]
  },
  {
   "cell_type": "code",
   "execution_count": 2,
   "metadata": {},
   "outputs": [],
   "source": [
    "import os\n",
    "\n",
    "\n",
    "data_path = \"/home/lis/ner/ulmfit/data/factrueval/\"\n",
    "train_path = os.path.join(data_path, \"train_with_pos.csv\")\n",
    "valid_path = os.path.join(data_path, \"valid_with_pos.csv\")\n",
    "model_dir = \"/datadrive/elmo/\"\n",
    "config_name = \"cnn_50_100_512_4096_sample.json\""
   ]
  },
  {
   "cell_type": "code",
   "execution_count": 3,
   "metadata": {},
   "outputs": [
    {
     "data": {
      "text/plain": [
       "(True, 1)"
      ]
     },
     "execution_count": 3,
     "metadata": {},
     "output_type": "execute_result"
    }
   ],
   "source": [
    "import torch\n",
    "torch.cuda.set_device(1)\n",
    "torch.cuda.is_available(), torch.cuda.current_device()"
   ]
  },
  {
   "cell_type": "markdown",
   "metadata": {},
   "source": [
    "### 1. Data preparation"
   ]
  },
  {
   "cell_type": "markdown",
   "metadata": {},
   "source": [
    "Data train and validation should be presented in the following format."
   ]
  },
  {
   "cell_type": "code",
   "execution_count": 4,
   "metadata": {},
   "outputs": [
    {
     "data": {
      "text/html": [
       "<div>\n",
       "<style scoped>\n",
       "    .dataframe tbody tr th:only-of-type {\n",
       "        vertical-align: middle;\n",
       "    }\n",
       "\n",
       "    .dataframe tbody tr th {\n",
       "        vertical-align: top;\n",
       "    }\n",
       "\n",
       "    .dataframe thead th {\n",
       "        text-align: right;\n",
       "    }\n",
       "</style>\n",
       "<table border=\"1\" class=\"dataframe\">\n",
       "  <thead>\n",
       "    <tr style=\"text-align: right;\">\n",
       "      <th></th>\n",
       "      <th>0</th>\n",
       "      <th>1</th>\n",
       "      <th>3</th>\n",
       "    </tr>\n",
       "  </thead>\n",
       "  <tbody>\n",
       "    <tr>\n",
       "      <th>0</th>\n",
       "      <td>O O O O O O O O O O O O O O O O O O O O</td>\n",
       "      <td>Мифология солнцеворота , собственно , и сводит...</td>\n",
       "      <td>NOUN NOUN PNCT ADVB PNCT CONJ VERB PREP NOUN N...</td>\n",
       "    </tr>\n",
       "    <tr>\n",
       "      <th>1</th>\n",
       "      <td>O O O O O O B_ORG I_ORG O B_ORG I_ORG O O O O ...</td>\n",
       "      <td>По его словам , с покупкой Caramba TV « СТС Ме...</td>\n",
       "      <td>PREP NPRO NOUN PNCT PREP NOUN &lt;unk&gt; &lt;unk&gt; PNCT...</td>\n",
       "    </tr>\n",
       "    <tr>\n",
       "      <th>2</th>\n",
       "      <td>O O O O O O O O O O O O O O O O B_LOC O</td>\n",
       "      <td>Такое десятилетие , по его словам « необходимо...</td>\n",
       "      <td>ADJF NOUN PNCT PREP NPRO NOUN PNCT ADJS ADJF P...</td>\n",
       "    </tr>\n",
       "    <tr>\n",
       "      <th>3</th>\n",
       "      <td>O O O O O O O O O O O O O O</td>\n",
       "      <td>Правительство уволило часть врачей , обвинив и...</td>\n",
       "      <td>NOUN VERB NOUN NOUN PNCT GRND NPRO PREP NOUN N...</td>\n",
       "    </tr>\n",
       "    <tr>\n",
       "      <th>4</th>\n",
       "      <td>O O O B_PER I_PER O O O O O O B_ORG I_ORG I_OR...</td>\n",
       "      <td>Министр сельского хозяйства Николай Федоров пр...</td>\n",
       "      <td>NOUN ADJF NOUN NOUN NOUN VERB PNCT CONJ PRTF V...</td>\n",
       "    </tr>\n",
       "  </tbody>\n",
       "</table>\n",
       "</div>"
      ],
      "text/plain": [
       "                                                   0  \\\n",
       "0            O O O O O O O O O O O O O O O O O O O O   \n",
       "1  O O O O O O B_ORG I_ORG O B_ORG I_ORG O O O O ...   \n",
       "2            O O O O O O O O O O O O O O O O B_LOC O   \n",
       "3                        O O O O O O O O O O O O O O   \n",
       "4  O O O B_PER I_PER O O O O O O B_ORG I_ORG I_OR...   \n",
       "\n",
       "                                                   1  \\\n",
       "0  Мифология солнцеворота , собственно , и сводит...   \n",
       "1  По его словам , с покупкой Caramba TV « СТС Ме...   \n",
       "2  Такое десятилетие , по его словам « необходимо...   \n",
       "3  Правительство уволило часть врачей , обвинив и...   \n",
       "4  Министр сельского хозяйства Николай Федоров пр...   \n",
       "\n",
       "                                                   3  \n",
       "0  NOUN NOUN PNCT ADVB PNCT CONJ VERB PREP NOUN N...  \n",
       "1  PREP NPRO NOUN PNCT PREP NOUN <unk> <unk> PNCT...  \n",
       "2  ADJF NOUN PNCT PREP NPRO NOUN PNCT ADJS ADJF P...  \n",
       "3  NOUN VERB NOUN NOUN PNCT GRND NPRO PREP NOUN N...  \n",
       "4  NOUN ADJF NOUN NOUN NOUN VERB PNCT CONJ PRTF V...  "
      ]
     },
     "execution_count": 4,
     "metadata": {},
     "output_type": "execute_result"
    }
   ],
   "source": [
    "import pandas as pd\n",
    "\n",
    "\n",
    "df = pd.read_csv(train_path)\n",
    "df.head()"
   ]
  },
  {
   "cell_type": "markdown",
   "metadata": {},
   "source": [
    "Train and valid .csv files must have columns named (0, 1). Column 3 is't necessary (does not used now).\n",
    "* Column 0 contains labels in IOB format.\n",
    "* Column 1 contains tokenized and separated (by whitespace) text.\n",
    "\n",
    "For using data in model we need to create `NerData` object.\n",
    "\n",
    "* `train_path` - path to train .csv file\n",
    "* `valid_path` - path to valid .csv file\n",
    "* `model_dir` - path to ELMo pretrained model's dir\n",
    "* `config_name` - name of config in `model_dir` folder\n",
    "* `batch_size` - batch size (default `16`)\n",
    "* `cuda` - using cuda or cpu (default `True`)\n",
    "* `is_cls` - create data for joint model (default `False`)\n",
    "* `oov` - default unknown in ELMo model (default `'<oov>'`)\n",
    "* `pad` - default pad sym in ELMo model (default `'<pad>'`)"
   ]
  },
  {
   "cell_type": "code",
   "execution_count": 41,
   "metadata": {},
   "outputs": [],
   "source": [
    "from modules.data.elmo_data import ElmoNerData as NerData"
   ]
  },
  {
   "cell_type": "code",
   "execution_count": 44,
   "metadata": {},
   "outputs": [
    {
     "data": {
      "application/vnd.jupyter.widget-view+json": {
       "model_id": "",
       "version_major": 2,
       "version_minor": 0
      },
      "text/plain": [
       "HBox(children=(IntProgress(value=0, max=3728), HTML(value='')))"
      ]
     },
     "metadata": {},
     "output_type": "display_data"
    },
    {
     "data": {
      "application/vnd.jupyter.widget-view+json": {
       "model_id": "",
       "version_major": 2,
       "version_minor": 0
      },
      "text/plain": [
       "HBox(children=(IntProgress(value=0, max=415), HTML(value='')))"
      ]
     },
     "metadata": {},
     "output_type": "display_data"
    }
   ],
   "source": [
    "data = NerData.create(train_path, valid_path, model_dir, config_name)"
   ]
  },
  {
   "cell_type": "markdown",
   "metadata": {},
   "source": [
    "For factrueval we use the following sample of labels:"
   ]
  },
  {
   "cell_type": "code",
   "execution_count": 6,
   "metadata": {},
   "outputs": [
    {
     "name": "stdout",
     "output_type": "stream",
     "text": [
      "{'<pad>': 0, '<bos>': 1, '<eos>': 2, 'O': 3, 'B_ORG': 4, 'I_ORG': 5, 'B_LOC': 6, 'B_PER': 7, 'I_PER': 8, 'I_LOC': 9}\n"
     ]
    }
   ],
   "source": [
    "print(data.label2idx)"
   ]
  },
  {
   "cell_type": "markdown",
   "metadata": {},
   "source": [
    "### 2. Create model\n",
    "For creating pytorch model we need to create `NerModel` object.\n",
    "\n",
    "* `label_size` - number of labels: `len(data.label2idx)`,\n",
    "\n",
    "ElmoEmbedder params\n",
    "* `model_dir` - path to ELMo pretrained model's dir\n",
    "* `config_name` - name of config in `model_dir` folder\n",
    "* `embedding_dim` - output dim from bert model (default `768`)\n",
    "* `elmo_mode` - mode of how bert output will be returned. If `avg` return mean of all outputs from ELMo. If `weighted` return weighted sum of all bert output layers, weights are learnable (aka ELMO).\n",
    "* `freeze` - freezing bert model (default `True`)\n",
    "\n",
    "ElmoBiLSTMEncoder params\n",
    "* `enc_hidden_dim` - dim of rnn layer or hidden layer (default `128`)\n",
    "* `rnn_layers` - number of rnn layers in encoder\n",
    "\n",
    "CRFDecoder params\n",
    "* `input_dropout` - dropout param (default `0.5`),\n",
    "\n",
    "Gpu or cpu:\n",
    "* `use_cuda` - use cuda or cpu (default `True`)."
   ]
  },
  {
   "cell_type": "code",
   "execution_count": 9,
   "metadata": {},
   "outputs": [],
   "source": [
    "from modules.models.elmo_models import ElmoBiLSTMCRF"
   ]
  },
  {
   "cell_type": "code",
   "execution_count": 10,
   "metadata": {},
   "outputs": [
    {
     "name": "stderr",
     "output_type": "stream",
     "text": [
      "INFO:root:char embedding size: 3896\n",
      "INFO:root:word embedding size: 329681\n"
     ]
    }
   ],
   "source": [
    "model = ElmoBiLSTMCRF.create(len(data.label2idx), model_dir, config_name, enc_hidden_dim=128, freeze=False)"
   ]
  },
  {
   "cell_type": "code",
   "execution_count": 11,
   "metadata": {},
   "outputs": [
    {
     "data": {
      "text/plain": [
       "CRFDecoder(\n",
       "  (input_dropout): Dropout(p=0.5)\n",
       "  (linear): Linears(\n",
       "    (linears): ModuleList(\n",
       "      (0): Linear(in_features=128, out_features=64, bias=True)\n",
       "    )\n",
       "    (output_linear): Linear(in_features=64, out_features=10, bias=True)\n",
       "  )\n",
       "  (crf): CRF()\n",
       ")"
      ]
     },
     "execution_count": 11,
     "metadata": {},
     "output_type": "execute_result"
    }
   ],
   "source": [
    "model.decoder"
   ]
  },
  {
   "cell_type": "markdown",
   "metadata": {},
   "source": [
    "### 3. Create learner\n",
    "\n",
    "For training our pytorch model we need to create `NerLearner` object.\n",
    "\n",
    "* `model: NerModel` - pytorch model\n",
    "* `data: NerData` - train and valid dataloaders\n",
    "* `best_model_path` - path for store best model\n",
    "* `lr` - starting learning rate (default `0.001`)\n",
    "* `betas` - params for default optimizer (default `[0.8, 0.9]`)\n",
    "* `clip` - grad clipping (default `5`)\n",
    "* `verbose` - printing to console reports (default `True`)\n",
    "* `sup_labels` - list of supported labels for calculating `target_metric` metric. For FactRuEval use: `['B_LOC', 'I_LOC', 'B_ORG', 'I_ORG', 'B_PER', 'I_PER']` (default `None`)\n",
    "* `t_total` - total optimization steps, used for lr scheduler, if -1, don't scale lr after batch iteration (default `-1`), usally t_total = num_epochs * train_size / batch_size\n",
    "* `warmup` - portion of t_total for the warmup, -1  means no warmup (default `0.1`)\n",
    "* `weight_decay` - weight decay (default `0.01`)"
   ]
  },
  {
   "cell_type": "code",
   "execution_count": 40,
   "metadata": {},
   "outputs": [],
   "source": [
    "from modules import NerLearner"
   ]
  },
  {
   "cell_type": "code",
   "execution_count": 19,
   "metadata": {},
   "outputs": [],
   "source": [
    "num_epochs = 100\n",
    "learner = NerLearner(model, data,\n",
    "                     best_model_path=\"/datadrive/models/factrueval/elmo_bilmcrf.cpt\",\n",
    "                     lr=0.0001, clip=1.0, sup_labels=data.id2label[4:],\n",
    "                     t_total=num_epochs * len(data.train_dl))"
   ]
  },
  {
   "cell_type": "markdown",
   "metadata": {},
   "source": [
    "### 4. Learn your NER model\n",
    "Call `learner.fit`\n",
    "* `epochs` - number of train iterations (default `100`)\n",
    "* `resume_history` - resuming appending results to history or create new (default `True`)\n",
    "* `target_metric` - mean metric, that want you see to pick best epochs (default `f1`)."
   ]
  },
  {
   "cell_type": "code",
   "execution_count": 20,
   "metadata": {},
   "outputs": [
    {
     "name": "stderr",
     "output_type": "stream",
     "text": [
      "INFO:root:Resuming train... Current epoch 0.\n"
     ]
    },
    {
     "data": {
      "application/vnd.jupyter.widget-view+json": {
       "model_id": "",
       "version_major": 2,
       "version_minor": 0
      },
      "text/plain": [
       "HBox(children=(IntProgress(value=0, max=233), HTML(value='')))"
      ]
     },
     "metadata": {},
     "output_type": "display_data"
    },
    {
     "name": "stderr",
     "output_type": "stream",
     "text": [
      "INFO:root:\n",
      "epoch 1, average train epoch loss=10.427\n",
      "\n"
     ]
    },
    {
     "data": {
      "application/vnd.jupyter.widget-view+json": {
       "model_id": "",
       "version_major": 2,
       "version_minor": 0
      },
      "text/plain": [
       "HBox(children=(IntProgress(value=0, max=26), HTML(value='')))"
      ]
     },
     "metadata": {},
     "output_type": "display_data"
    },
    {
     "name": "stderr",
     "output_type": "stream",
     "text": [
      "INFO:root:on epoch 0 by max_f1: 0.089\n",
      "INFO:root:Saving new best model...\n"
     ]
    },
    {
     "name": "stdout",
     "output_type": "stream",
     "text": [
      "              precision    recall  f1-score   support\n",
      "\n",
      "       B_ORG      0.538     0.027     0.051       260\n",
      "       I_ORG      0.181     0.046     0.073       283\n",
      "       B_LOC      0.833     0.026     0.050       195\n",
      "       B_PER      0.706     0.126     0.213       191\n",
      "       I_PER      0.353     0.092     0.146       130\n",
      "       I_LOC      0.000     0.000     0.000        35\n",
      "\n",
      "   micro avg      0.384     0.056     0.097      1094\n",
      "   macro avg      0.435     0.053     0.089      1094\n",
      "weighted avg      0.488     0.056     0.095      1094\n",
      "\n"
     ]
    }
   ],
   "source": [
    "learner.fit(1, target_metric='f1')"
   ]
  },
  {
   "cell_type": "markdown",
   "metadata": {},
   "source": [
    "Fit for the best model"
   ]
  },
  {
   "cell_type": "code",
   "execution_count": null,
   "metadata": {
    "scrolled": true
   },
   "outputs": [
    {
     "name": "stderr",
     "output_type": "stream",
     "text": [
      "INFO:root:Resuming train... Current epoch 1.\n"
     ]
    },
    {
     "data": {
      "application/vnd.jupyter.widget-view+json": {
       "model_id": "",
       "version_major": 2,
       "version_minor": 0
      },
      "text/plain": [
       "HBox(children=(IntProgress(value=0, max=233), HTML(value='')))"
      ]
     },
     "metadata": {},
     "output_type": "display_data"
    },
    {
     "name": "stderr",
     "output_type": "stream",
     "text": [
      "INFO:root:\n",
      "epoch 2, average train epoch loss=10.293\n",
      "\n"
     ]
    },
    {
     "data": {
      "application/vnd.jupyter.widget-view+json": {
       "model_id": "",
       "version_major": 2,
       "version_minor": 0
      },
      "text/plain": [
       "HBox(children=(IntProgress(value=0, max=26), HTML(value='')))"
      ]
     },
     "metadata": {},
     "output_type": "display_data"
    },
    {
     "name": "stderr",
     "output_type": "stream",
     "text": [
      "INFO:root:on epoch 1 by max_f1: 0.093\n",
      "INFO:root:Saving new best model...\n"
     ]
    },
    {
     "name": "stdout",
     "output_type": "stream",
     "text": [
      "              precision    recall  f1-score   support\n",
      "\n",
      "       B_ORG      0.556     0.038     0.072       260\n",
      "       I_ORG      0.187     0.049     0.078       283\n",
      "       B_LOC      0.625     0.026     0.049       195\n",
      "       B_PER      0.590     0.120     0.200       191\n",
      "       I_PER      0.371     0.100     0.158       130\n",
      "       I_LOC      0.000     0.000     0.000        35\n",
      "\n",
      "   micro avg      0.371     0.059     0.102      1094\n",
      "   macro avg      0.388     0.056     0.093      1094\n",
      "weighted avg      0.439     0.059     0.100      1094\n",
      "\n"
     ]
    },
    {
     "data": {
      "application/vnd.jupyter.widget-view+json": {
       "model_id": "",
       "version_major": 2,
       "version_minor": 0
      },
      "text/plain": [
       "HBox(children=(IntProgress(value=0, max=233), HTML(value='')))"
      ]
     },
     "metadata": {},
     "output_type": "display_data"
    },
    {
     "name": "stderr",
     "output_type": "stream",
     "text": [
      "INFO:root:\n",
      "epoch 3, average train epoch loss=9.8236\n",
      "\n"
     ]
    },
    {
     "data": {
      "application/vnd.jupyter.widget-view+json": {
       "model_id": "",
       "version_major": 2,
       "version_minor": 0
      },
      "text/plain": [
       "HBox(children=(IntProgress(value=0, max=26), HTML(value='')))"
      ]
     },
     "metadata": {},
     "output_type": "display_data"
    },
    {
     "name": "stderr",
     "output_type": "stream",
     "text": [
      "INFO:root:on epoch 2 by max_f1: 0.132\n",
      "INFO:root:Saving new best model...\n"
     ]
    },
    {
     "name": "stdout",
     "output_type": "stream",
     "text": [
      "              precision    recall  f1-score   support\n",
      "\n",
      "       B_ORG      0.462     0.046     0.084       260\n",
      "       I_ORG      0.206     0.078     0.113       283\n",
      "       B_LOC      0.750     0.062     0.114       195\n",
      "       B_PER      0.559     0.173     0.264       191\n",
      "       I_PER      0.413     0.146     0.216       130\n",
      "       I_LOC      0.000     0.000     0.000        35\n",
      "\n",
      "   micro avg      0.386     0.090     0.145      1094\n",
      "   macro avg      0.398     0.084     0.132      1094\n",
      "weighted avg      0.443     0.090     0.141      1094\n",
      "\n"
     ]
    },
    {
     "data": {
      "application/vnd.jupyter.widget-view+json": {
       "model_id": "",
       "version_major": 2,
       "version_minor": 0
      },
      "text/plain": [
       "HBox(children=(IntProgress(value=0, max=233), HTML(value='')))"
      ]
     },
     "metadata": {},
     "output_type": "display_data"
    },
    {
     "name": "stderr",
     "output_type": "stream",
     "text": [
      "INFO:root:\n",
      "epoch 4, average train epoch loss=8.9581\n",
      "\n"
     ]
    },
    {
     "data": {
      "application/vnd.jupyter.widget-view+json": {
       "model_id": "",
       "version_major": 2,
       "version_minor": 0
      },
      "text/plain": [
       "HBox(children=(IntProgress(value=0, max=26), HTML(value='')))"
      ]
     },
     "metadata": {},
     "output_type": "display_data"
    },
    {
     "name": "stderr",
     "output_type": "stream",
     "text": [
      "INFO:root:on epoch 3 by max_f1: 0.218\n",
      "INFO:root:Saving new best model...\n"
     ]
    },
    {
     "name": "stdout",
     "output_type": "stream",
     "text": [
      "              precision    recall  f1-score   support\n",
      "\n",
      "       B_ORG      0.446     0.096     0.158       260\n",
      "       I_ORG      0.266     0.177     0.212       283\n",
      "       B_LOC      0.653     0.251     0.363       195\n",
      "       B_PER      0.554     0.267     0.360       191\n",
      "       I_PER      0.364     0.154     0.216       130\n",
      "       I_LOC      0.000     0.000     0.000        35\n",
      "\n",
      "   micro avg      0.416     0.178     0.250      1094\n",
      "   macro avg      0.381     0.157     0.218      1094\n",
      "weighted avg      0.431     0.178     0.246      1094\n",
      "\n"
     ]
    },
    {
     "data": {
      "application/vnd.jupyter.widget-view+json": {
       "model_id": "",
       "version_major": 2,
       "version_minor": 0
      },
      "text/plain": [
       "HBox(children=(IntProgress(value=0, max=233), HTML(value='')))"
      ]
     },
     "metadata": {},
     "output_type": "display_data"
    },
    {
     "name": "stderr",
     "output_type": "stream",
     "text": [
      "INFO:root:\n",
      "epoch 5, average train epoch loss=7.8177\n",
      "\n"
     ]
    },
    {
     "data": {
      "application/vnd.jupyter.widget-view+json": {
       "model_id": "",
       "version_major": 2,
       "version_minor": 0
      },
      "text/plain": [
       "HBox(children=(IntProgress(value=0, max=26), HTML(value='')))"
      ]
     },
     "metadata": {},
     "output_type": "display_data"
    },
    {
     "name": "stderr",
     "output_type": "stream",
     "text": [
      "INFO:root:on epoch 4 by max_f1: 0.336\n",
      "INFO:root:Saving new best model...\n"
     ]
    },
    {
     "name": "stdout",
     "output_type": "stream",
     "text": [
      "              precision    recall  f1-score   support\n",
      "\n",
      "       B_ORG      0.561     0.265     0.360       260\n",
      "       I_ORG      0.296     0.258     0.275       283\n",
      "       B_LOC      0.656     0.626     0.640       195\n",
      "       B_PER      0.496     0.293     0.368       191\n",
      "       I_PER      0.593     0.269     0.370       130\n",
      "       I_LOC      0.000     0.000     0.000        35\n",
      "\n",
      "   micro avg      0.484     0.324     0.388      1094\n",
      "   macro avg      0.434     0.285     0.336      1094\n",
      "weighted avg      0.484     0.324     0.379      1094\n",
      "\n"
     ]
    },
    {
     "data": {
      "application/vnd.jupyter.widget-view+json": {
       "model_id": "",
       "version_major": 2,
       "version_minor": 0
      },
      "text/plain": [
       "HBox(children=(IntProgress(value=0, max=233), HTML(value='')))"
      ]
     },
     "metadata": {},
     "output_type": "display_data"
    },
    {
     "name": "stderr",
     "output_type": "stream",
     "text": [
      "INFO:root:\n",
      "epoch 6, average train epoch loss=6.6099\n",
      "\n"
     ]
    },
    {
     "data": {
      "application/vnd.jupyter.widget-view+json": {
       "model_id": "",
       "version_major": 2,
       "version_minor": 0
      },
      "text/plain": [
       "HBox(children=(IntProgress(value=0, max=26), HTML(value='')))"
      ]
     },
     "metadata": {},
     "output_type": "display_data"
    },
    {
     "name": "stderr",
     "output_type": "stream",
     "text": [
      "INFO:root:on epoch 5 by max_f1: 0.389\n",
      "INFO:root:Saving new best model...\n"
     ]
    },
    {
     "name": "stdout",
     "output_type": "stream",
     "text": [
      "              precision    recall  f1-score   support\n",
      "\n",
      "       B_ORG      0.554     0.415     0.475       260\n",
      "       I_ORG      0.374     0.290     0.327       283\n",
      "       B_LOC      0.700     0.754     0.726       195\n",
      "       B_PER      0.424     0.319     0.364       191\n",
      "       I_PER      0.608     0.346     0.441       130\n",
      "       I_LOC      0.000     0.000     0.000        35\n",
      "\n",
      "   micro avg      0.513     0.405     0.453      1094\n",
      "   macro avg      0.443     0.354     0.389      1094\n",
      "weighted avg      0.499     0.405     0.443      1094\n",
      "\n"
     ]
    },
    {
     "data": {
      "application/vnd.jupyter.widget-view+json": {
       "model_id": "",
       "version_major": 2,
       "version_minor": 0
      },
      "text/plain": [
       "HBox(children=(IntProgress(value=0, max=233), HTML(value='')))"
      ]
     },
     "metadata": {},
     "output_type": "display_data"
    },
    {
     "name": "stderr",
     "output_type": "stream",
     "text": [
      "INFO:root:\n",
      "epoch 7, average train epoch loss=5.4815\n",
      "\n"
     ]
    },
    {
     "data": {
      "application/vnd.jupyter.widget-view+json": {
       "model_id": "",
       "version_major": 2,
       "version_minor": 0
      },
      "text/plain": [
       "HBox(children=(IntProgress(value=0, max=26), HTML(value='')))"
      ]
     },
     "metadata": {},
     "output_type": "display_data"
    },
    {
     "name": "stderr",
     "output_type": "stream",
     "text": [
      "INFO:root:on epoch 6 by max_f1: 0.461\n",
      "INFO:root:Saving new best model...\n"
     ]
    },
    {
     "name": "stdout",
     "output_type": "stream",
     "text": [
      "              precision    recall  f1-score   support\n",
      "\n",
      "       B_ORG      0.617     0.508     0.557       260\n",
      "       I_ORG      0.494     0.424     0.456       283\n",
      "       B_LOC      0.714     0.779     0.745       195\n",
      "       B_PER      0.511     0.372     0.430       191\n",
      "       I_PER      0.673     0.508     0.579       130\n",
      "       I_LOC      0.000     0.000     0.000        35\n",
      "\n",
      "   micro avg      0.573     0.495     0.531      1094\n",
      "   macro avg      0.501     0.432     0.461      1094\n",
      "weighted avg      0.571     0.495     0.527      1094\n",
      "\n"
     ]
    },
    {
     "data": {
      "application/vnd.jupyter.widget-view+json": {
       "model_id": "",
       "version_major": 2,
       "version_minor": 0
      },
      "text/plain": [
       "HBox(children=(IntProgress(value=0, max=233), HTML(value='')))"
      ]
     },
     "metadata": {},
     "output_type": "display_data"
    },
    {
     "name": "stderr",
     "output_type": "stream",
     "text": [
      "INFO:root:\n",
      "epoch 8, average train epoch loss=4.3492\n",
      "\n"
     ]
    },
    {
     "data": {
      "application/vnd.jupyter.widget-view+json": {
       "model_id": "",
       "version_major": 2,
       "version_minor": 0
      },
      "text/plain": [
       "HBox(children=(IntProgress(value=0, max=26), HTML(value='')))"
      ]
     },
     "metadata": {},
     "output_type": "display_data"
    },
    {
     "name": "stderr",
     "output_type": "stream",
     "text": [
      "INFO:root:on epoch 7 by max_f1: 0.61\n",
      "INFO:root:Saving new best model...\n"
     ]
    },
    {
     "name": "stdout",
     "output_type": "stream",
     "text": [
      "              precision    recall  f1-score   support\n",
      "\n",
      "       B_ORG      0.669     0.677     0.673       260\n",
      "       I_ORG      0.632     0.473     0.541       283\n",
      "       B_LOC      0.791     0.795     0.793       195\n",
      "       B_PER      0.803     0.812     0.807       191\n",
      "       I_PER      0.882     0.808     0.843       130\n",
      "       I_LOC      0.000     0.000     0.000        35\n",
      "\n",
      "   micro avg      0.733     0.663     0.696      1094\n",
      "   macro avg      0.630     0.594     0.610      1094\n",
      "weighted avg      0.709     0.663     0.682      1094\n",
      "\n"
     ]
    },
    {
     "data": {
      "application/vnd.jupyter.widget-view+json": {
       "model_id": "",
       "version_major": 2,
       "version_minor": 0
      },
      "text/plain": [
       "HBox(children=(IntProgress(value=0, max=233), HTML(value='')))"
      ]
     },
     "metadata": {},
     "output_type": "display_data"
    },
    {
     "name": "stderr",
     "output_type": "stream",
     "text": [
      "INFO:root:\n",
      "epoch 9, average train epoch loss=3.3389\n",
      "\n"
     ]
    },
    {
     "data": {
      "application/vnd.jupyter.widget-view+json": {
       "model_id": "",
       "version_major": 2,
       "version_minor": 0
      },
      "text/plain": [
       "HBox(children=(IntProgress(value=0, max=26), HTML(value='')))"
      ]
     },
     "metadata": {},
     "output_type": "display_data"
    },
    {
     "name": "stderr",
     "output_type": "stream",
     "text": [
      "INFO:root:on epoch 8 by max_f1: 0.658\n",
      "INFO:root:Saving new best model...\n"
     ]
    },
    {
     "name": "stdout",
     "output_type": "stream",
     "text": [
      "              precision    recall  f1-score   support\n",
      "\n",
      "       B_ORG      0.724     0.708     0.716       260\n",
      "       I_ORG      0.692     0.611     0.649       283\n",
      "       B_LOC      0.830     0.826     0.828       195\n",
      "       B_PER      0.833     0.937     0.882       191\n",
      "       I_PER      0.916     0.838     0.876       130\n",
      "       I_LOC      0.000     0.000     0.000        35\n",
      "\n",
      "   micro avg      0.780     0.737     0.758      1094\n",
      "   macro avg      0.666     0.653     0.658      1094\n",
      "weighted avg      0.753     0.737     0.744      1094\n",
      "\n"
     ]
    },
    {
     "data": {
      "application/vnd.jupyter.widget-view+json": {
       "model_id": "",
       "version_major": 2,
       "version_minor": 0
      },
      "text/plain": [
       "HBox(children=(IntProgress(value=0, max=233), HTML(value='')))"
      ]
     },
     "metadata": {},
     "output_type": "display_data"
    },
    {
     "name": "stderr",
     "output_type": "stream",
     "text": [
      "INFO:root:\n",
      "epoch 10, average train epoch loss=2.5398\n",
      "\n"
     ]
    },
    {
     "data": {
      "application/vnd.jupyter.widget-view+json": {
       "model_id": "",
       "version_major": 2,
       "version_minor": 0
      },
      "text/plain": [
       "HBox(children=(IntProgress(value=0, max=26), HTML(value='')))"
      ]
     },
     "metadata": {},
     "output_type": "display_data"
    },
    {
     "name": "stderr",
     "output_type": "stream",
     "text": [
      "INFO:root:on epoch 9 by max_f1: 0.685\n",
      "INFO:root:Saving new best model...\n"
     ]
    },
    {
     "name": "stdout",
     "output_type": "stream",
     "text": [
      "              precision    recall  f1-score   support\n",
      "\n",
      "       B_ORG      0.744     0.762     0.753       260\n",
      "       I_ORG      0.735     0.668     0.700       283\n",
      "       B_LOC      0.866     0.862     0.864       195\n",
      "       B_PER      0.862     0.948     0.903       191\n",
      "       I_PER      0.926     0.862     0.892       130\n",
      "       I_LOC      0.000     0.000     0.000        35\n",
      "\n",
      "   micro avg      0.805     0.775     0.790      1094\n",
      "   macro avg      0.689     0.683     0.685      1094\n",
      "weighted avg      0.782     0.775     0.778      1094\n",
      "\n"
     ]
    },
    {
     "data": {
      "application/vnd.jupyter.widget-view+json": {
       "model_id": "",
       "version_major": 2,
       "version_minor": 0
      },
      "text/plain": [
       "HBox(children=(IntProgress(value=0, max=233), HTML(value='')))"
      ]
     },
     "metadata": {},
     "output_type": "display_data"
    },
    {
     "name": "stderr",
     "output_type": "stream",
     "text": [
      "INFO:root:\n",
      "epoch 11, average train epoch loss=1.9537\n",
      "\n"
     ]
    },
    {
     "data": {
      "application/vnd.jupyter.widget-view+json": {
       "model_id": "",
       "version_major": 2,
       "version_minor": 0
      },
      "text/plain": [
       "HBox(children=(IntProgress(value=0, max=26), HTML(value='')))"
      ]
     },
     "metadata": {},
     "output_type": "display_data"
    },
    {
     "name": "stderr",
     "output_type": "stream",
     "text": [
      "INFO:root:on epoch 10 by max_f1: 0.713\n",
      "INFO:root:Saving new best model...\n"
     ]
    },
    {
     "name": "stdout",
     "output_type": "stream",
     "text": [
      "              precision    recall  f1-score   support\n",
      "\n",
      "       B_ORG      0.777     0.804     0.790       260\n",
      "       I_ORG      0.775     0.693     0.731       283\n",
      "       B_LOC      0.851     0.877     0.864       195\n",
      "       B_PER      0.910     0.953     0.931       191\n",
      "       I_PER      0.950     0.885     0.916       130\n",
      "       I_LOC      0.111     0.029     0.045        35\n",
      "\n",
      "   micro avg      0.830     0.799     0.814      1094\n",
      "   macro avg      0.729     0.707     0.713      1094\n",
      "weighted avg      0.812     0.799     0.804      1094\n",
      "\n"
     ]
    },
    {
     "data": {
      "application/vnd.jupyter.widget-view+json": {
       "model_id": "",
       "version_major": 2,
       "version_minor": 0
      },
      "text/plain": [
       "HBox(children=(IntProgress(value=0, max=233), HTML(value='')))"
      ]
     },
     "metadata": {},
     "output_type": "display_data"
    },
    {
     "name": "stderr",
     "output_type": "stream",
     "text": [
      "INFO:root:\n",
      "epoch 12, average train epoch loss=1.6208\n",
      "\n"
     ]
    },
    {
     "data": {
      "application/vnd.jupyter.widget-view+json": {
       "model_id": "",
       "version_major": 2,
       "version_minor": 0
      },
      "text/plain": [
       "HBox(children=(IntProgress(value=0, max=26), HTML(value='')))"
      ]
     },
     "metadata": {},
     "output_type": "display_data"
    },
    {
     "name": "stderr",
     "output_type": "stream",
     "text": [
      "INFO:root:on epoch 11 by max_f1: 0.766\n",
      "INFO:root:Saving new best model...\n"
     ]
    },
    {
     "name": "stdout",
     "output_type": "stream",
     "text": [
      "              precision    recall  f1-score   support\n",
      "\n",
      "       B_ORG      0.809     0.800     0.805       260\n",
      "       I_ORG      0.820     0.710     0.761       283\n",
      "       B_LOC      0.855     0.877     0.866       195\n",
      "       B_PER      0.934     0.958     0.946       191\n",
      "       I_PER      0.952     0.923     0.938       130\n",
      "       I_LOC      0.467     0.200     0.280        35\n",
      "\n",
      "   micro avg      0.857     0.814     0.835      1094\n",
      "   macro avg      0.806     0.745     0.766      1094\n",
      "weighted avg      0.848     0.814     0.828      1094\n",
      "\n"
     ]
    },
    {
     "data": {
      "application/vnd.jupyter.widget-view+json": {
       "model_id": "",
       "version_major": 2,
       "version_minor": 0
      },
      "text/plain": [
       "HBox(children=(IntProgress(value=0, max=233), HTML(value='')))"
      ]
     },
     "metadata": {},
     "output_type": "display_data"
    },
    {
     "name": "stderr",
     "output_type": "stream",
     "text": [
      "INFO:root:\n",
      "epoch 13, average train epoch loss=1.2925\n",
      "\n"
     ]
    },
    {
     "data": {
      "application/vnd.jupyter.widget-view+json": {
       "model_id": "",
       "version_major": 2,
       "version_minor": 0
      },
      "text/plain": [
       "HBox(children=(IntProgress(value=0, max=26), HTML(value='')))"
      ]
     },
     "metadata": {},
     "output_type": "display_data"
    },
    {
     "name": "stderr",
     "output_type": "stream",
     "text": [
      "INFO:root:on epoch 12 by max_f1: 0.811\n",
      "INFO:root:Saving new best model...\n"
     ]
    },
    {
     "name": "stdout",
     "output_type": "stream",
     "text": [
      "              precision    recall  f1-score   support\n",
      "\n",
      "       B_ORG      0.798     0.819     0.808       260\n",
      "       I_ORG      0.842     0.735     0.785       283\n",
      "       B_LOC      0.890     0.872     0.881       195\n",
      "       B_PER      0.939     0.963     0.951       191\n",
      "       I_PER      0.945     0.923     0.934       130\n",
      "       I_LOC      0.625     0.429     0.508        35\n",
      "\n",
      "   micro avg      0.865     0.832     0.848      1094\n",
      "   macro avg      0.840     0.790     0.811      1094\n",
      "weighted avg      0.862     0.832     0.845      1094\n",
      "\n"
     ]
    },
    {
     "data": {
      "application/vnd.jupyter.widget-view+json": {
       "model_id": "",
       "version_major": 2,
       "version_minor": 0
      },
      "text/plain": [
       "HBox(children=(IntProgress(value=0, max=233), HTML(value='')))"
      ]
     },
     "metadata": {},
     "output_type": "display_data"
    },
    {
     "name": "stderr",
     "output_type": "stream",
     "text": [
      "INFO:root:\n",
      "epoch 14, average train epoch loss=1.0895\n",
      "\n"
     ]
    },
    {
     "data": {
      "application/vnd.jupyter.widget-view+json": {
       "model_id": "",
       "version_major": 2,
       "version_minor": 0
      },
      "text/plain": [
       "HBox(children=(IntProgress(value=0, max=26), HTML(value='')))"
      ]
     },
     "metadata": {},
     "output_type": "display_data"
    },
    {
     "name": "stderr",
     "output_type": "stream",
     "text": [
      "INFO:root:on epoch 13 by max_f1: 0.825\n",
      "INFO:root:Saving new best model...\n"
     ]
    },
    {
     "name": "stdout",
     "output_type": "stream",
     "text": [
      "              precision    recall  f1-score   support\n",
      "\n",
      "       B_ORG      0.790     0.838     0.813       260\n",
      "       I_ORG      0.823     0.756     0.788       283\n",
      "       B_LOC      0.881     0.872     0.876       195\n",
      "       B_PER      0.948     0.963     0.956       191\n",
      "       I_PER      0.953     0.938     0.946       130\n",
      "       I_LOC      0.643     0.514     0.571        35\n",
      "\n",
      "   micro avg      0.858     0.846     0.852      1094\n",
      "   macro avg      0.840     0.814     0.825      1094\n",
      "weighted avg      0.857     0.846     0.851      1094\n",
      "\n"
     ]
    },
    {
     "data": {
      "application/vnd.jupyter.widget-view+json": {
       "model_id": "",
       "version_major": 2,
       "version_minor": 0
      },
      "text/plain": [
       "HBox(children=(IntProgress(value=0, max=233), HTML(value='')))"
      ]
     },
     "metadata": {},
     "output_type": "display_data"
    },
    {
     "name": "stderr",
     "output_type": "stream",
     "text": [
      "INFO:root:\n",
      "epoch 15, average train epoch loss=0.89711\n",
      "\n"
     ]
    },
    {
     "data": {
      "application/vnd.jupyter.widget-view+json": {
       "model_id": "",
       "version_major": 2,
       "version_minor": 0
      },
      "text/plain": [
       "HBox(children=(IntProgress(value=0, max=26), HTML(value='')))"
      ]
     },
     "metadata": {},
     "output_type": "display_data"
    },
    {
     "name": "stderr",
     "output_type": "stream",
     "text": [
      "INFO:root:on epoch 14 by max_f1: 0.831\n",
      "INFO:root:Saving new best model...\n"
     ]
    },
    {
     "name": "stdout",
     "output_type": "stream",
     "text": [
      "              precision    recall  f1-score   support\n",
      "\n",
      "       B_ORG      0.797     0.831     0.814       260\n",
      "       I_ORG      0.861     0.721     0.785       283\n",
      "       B_LOC      0.882     0.882     0.882       195\n",
      "       B_PER      0.948     0.958     0.953       191\n",
      "       I_PER      0.961     0.938     0.949       130\n",
      "       I_LOC      0.679     0.543     0.603        35\n",
      "\n",
      "   micro avg      0.872     0.837     0.854      1094\n",
      "   macro avg      0.855     0.812     0.831      1094\n",
      "weighted avg      0.871     0.837     0.852      1094\n",
      "\n"
     ]
    },
    {
     "data": {
      "application/vnd.jupyter.widget-view+json": {
       "model_id": "",
       "version_major": 2,
       "version_minor": 0
      },
      "text/plain": [
       "HBox(children=(IntProgress(value=0, max=233), HTML(value='')))"
      ]
     },
     "metadata": {},
     "output_type": "display_data"
    },
    {
     "name": "stderr",
     "output_type": "stream",
     "text": [
      "INFO:root:\n",
      "epoch 16, average train epoch loss=0.74681\n",
      "\n"
     ]
    },
    {
     "data": {
      "application/vnd.jupyter.widget-view+json": {
       "model_id": "",
       "version_major": 2,
       "version_minor": 0
      },
      "text/plain": [
       "HBox(children=(IntProgress(value=0, max=26), HTML(value='')))"
      ]
     },
     "metadata": {},
     "output_type": "display_data"
    },
    {
     "name": "stderr",
     "output_type": "stream",
     "text": [
      "INFO:root:on epoch 14 by max_f1: 0.831\n"
     ]
    },
    {
     "name": "stdout",
     "output_type": "stream",
     "text": [
      "              precision    recall  f1-score   support\n",
      "\n",
      "       B_ORG      0.790     0.838     0.813       260\n",
      "       I_ORG      0.805     0.760     0.782       283\n",
      "       B_LOC      0.885     0.872     0.879       195\n",
      "       B_PER      0.953     0.958     0.956       191\n",
      "       I_PER      0.961     0.946     0.953       130\n",
      "       I_LOC      0.633     0.543     0.585        35\n",
      "\n",
      "   micro avg      0.855     0.848     0.852      1094\n",
      "   macro avg      0.838     0.820     0.828      1094\n",
      "weighted avg      0.855     0.848     0.851      1094\n",
      "\n"
     ]
    },
    {
     "data": {
      "application/vnd.jupyter.widget-view+json": {
       "model_id": "",
       "version_major": 2,
       "version_minor": 0
      },
      "text/plain": [
       "HBox(children=(IntProgress(value=0, max=233), HTML(value='')))"
      ]
     },
     "metadata": {},
     "output_type": "display_data"
    },
    {
     "name": "stderr",
     "output_type": "stream",
     "text": [
      "INFO:root:\n",
      "epoch 17, average train epoch loss=0.63229\n",
      "\n"
     ]
    },
    {
     "data": {
      "application/vnd.jupyter.widget-view+json": {
       "model_id": "",
       "version_major": 2,
       "version_minor": 0
      },
      "text/plain": [
       "HBox(children=(IntProgress(value=0, max=26), HTML(value='')))"
      ]
     },
     "metadata": {},
     "output_type": "display_data"
    },
    {
     "name": "stderr",
     "output_type": "stream",
     "text": [
      "INFO:root:on epoch 16 by max_f1: 0.835\n",
      "INFO:root:Saving new best model...\n"
     ]
    },
    {
     "name": "stdout",
     "output_type": "stream",
     "text": [
      "              precision    recall  f1-score   support\n",
      "\n",
      "       B_ORG      0.795     0.835     0.814       260\n",
      "       I_ORG      0.831     0.763     0.796       283\n",
      "       B_LOC      0.881     0.872     0.876       195\n",
      "       B_PER      0.953     0.953     0.953       191\n",
      "       I_PER      0.960     0.931     0.945       130\n",
      "       I_LOC      0.690     0.571     0.625        35\n",
      "\n",
      "   micro avg      0.864     0.846     0.855      1094\n",
      "   macro avg      0.852     0.821     0.835      1094\n",
      "weighted avg      0.863     0.846     0.854      1094\n",
      "\n"
     ]
    },
    {
     "data": {
      "application/vnd.jupyter.widget-view+json": {
       "model_id": "",
       "version_major": 2,
       "version_minor": 0
      },
      "text/plain": [
       "HBox(children=(IntProgress(value=0, max=233), HTML(value='')))"
      ]
     },
     "metadata": {},
     "output_type": "display_data"
    },
    {
     "name": "stderr",
     "output_type": "stream",
     "text": [
      "INFO:root:\n",
      "epoch 18, average train epoch loss=0.54294\n",
      "\n"
     ]
    },
    {
     "data": {
      "application/vnd.jupyter.widget-view+json": {
       "model_id": "",
       "version_major": 2,
       "version_minor": 0
      },
      "text/plain": [
       "HBox(children=(IntProgress(value=0, max=26), HTML(value='')))"
      ]
     },
     "metadata": {},
     "output_type": "display_data"
    },
    {
     "name": "stderr",
     "output_type": "stream",
     "text": [
      "INFO:root:on epoch 17 by max_f1: 0.839\n",
      "INFO:root:Saving new best model...\n"
     ]
    },
    {
     "name": "stdout",
     "output_type": "stream",
     "text": [
      "              precision    recall  f1-score   support\n",
      "\n",
      "       B_ORG      0.808     0.823     0.815       260\n",
      "       I_ORG      0.855     0.753     0.801       283\n",
      "       B_LOC      0.887     0.887     0.887       195\n",
      "       B_PER      0.953     0.963     0.958       191\n",
      "       I_PER      0.961     0.938     0.949       130\n",
      "       I_LOC      0.690     0.571     0.625        35\n",
      "\n",
      "   micro avg      0.875     0.846     0.861      1094\n",
      "   macro avg      0.859     0.823     0.839      1094\n",
      "weighted avg      0.874     0.846     0.859      1094\n",
      "\n"
     ]
    },
    {
     "data": {
      "application/vnd.jupyter.widget-view+json": {
       "model_id": "",
       "version_major": 2,
       "version_minor": 0
      },
      "text/plain": [
       "HBox(children=(IntProgress(value=0, max=233), HTML(value='')))"
      ]
     },
     "metadata": {},
     "output_type": "display_data"
    },
    {
     "name": "stderr",
     "output_type": "stream",
     "text": [
      "INFO:root:\n",
      "epoch 19, average train epoch loss=0.44378\n",
      "\n"
     ]
    },
    {
     "data": {
      "application/vnd.jupyter.widget-view+json": {
       "model_id": "",
       "version_major": 2,
       "version_minor": 0
      },
      "text/plain": [
       "HBox(children=(IntProgress(value=0, max=26), HTML(value='')))"
      ]
     },
     "metadata": {},
     "output_type": "display_data"
    },
    {
     "name": "stderr",
     "output_type": "stream",
     "text": [
      "INFO:root:on epoch 18 by max_f1: 0.84\n",
      "INFO:root:Saving new best model...\n"
     ]
    },
    {
     "name": "stdout",
     "output_type": "stream",
     "text": [
      "              precision    recall  f1-score   support\n",
      "\n",
      "       B_ORG      0.797     0.831     0.814       260\n",
      "       I_ORG      0.819     0.784     0.801       283\n",
      "       B_LOC      0.858     0.867     0.862       195\n",
      "       B_PER      0.958     0.948     0.953       191\n",
      "       I_PER      0.976     0.946     0.961       130\n",
      "       I_LOC      0.639     0.657     0.648        35\n",
      "\n",
      "   micro avg      0.857     0.854     0.855      1094\n",
      "   macro avg      0.841     0.839     0.840      1094\n",
      "weighted avg      0.858     0.854     0.856      1094\n",
      "\n"
     ]
    },
    {
     "data": {
      "application/vnd.jupyter.widget-view+json": {
       "model_id": "",
       "version_major": 2,
       "version_minor": 0
      },
      "text/plain": [
       "HBox(children=(IntProgress(value=0, max=233), HTML(value='')))"
      ]
     },
     "metadata": {},
     "output_type": "display_data"
    },
    {
     "name": "stderr",
     "output_type": "stream",
     "text": [
      "INFO:root:\n",
      "epoch 20, average train epoch loss=0.38945\n",
      "\n"
     ]
    },
    {
     "data": {
      "application/vnd.jupyter.widget-view+json": {
       "model_id": "",
       "version_major": 2,
       "version_minor": 0
      },
      "text/plain": [
       "HBox(children=(IntProgress(value=0, max=26), HTML(value='')))"
      ]
     },
     "metadata": {},
     "output_type": "display_data"
    },
    {
     "name": "stderr",
     "output_type": "stream",
     "text": [
      "INFO:root:on epoch 19 by max_f1: 0.854\n",
      "INFO:root:Saving new best model...\n"
     ]
    },
    {
     "name": "stdout",
     "output_type": "stream",
     "text": [
      "              precision    recall  f1-score   support\n",
      "\n",
      "       B_ORG      0.806     0.831     0.818       260\n",
      "       I_ORG      0.872     0.770     0.818       283\n",
      "       B_LOC      0.877     0.877     0.877       195\n",
      "       B_PER      0.958     0.963     0.961       191\n",
      "       I_PER      0.961     0.946     0.953       130\n",
      "       I_LOC      0.706     0.686     0.696        35\n",
      "\n",
      "   micro avg      0.877     0.856     0.866      1094\n",
      "   macro avg      0.863     0.846     0.854      1094\n",
      "weighted avg      0.878     0.856     0.866      1094\n",
      "\n"
     ]
    },
    {
     "data": {
      "application/vnd.jupyter.widget-view+json": {
       "model_id": "",
       "version_major": 2,
       "version_minor": 0
      },
      "text/plain": [
       "HBox(children=(IntProgress(value=0, max=233), HTML(value='')))"
      ]
     },
     "metadata": {},
     "output_type": "display_data"
    },
    {
     "name": "stderr",
     "output_type": "stream",
     "text": [
      "INFO:root:\n",
      "epoch 21, average train epoch loss=0.32141\n",
      "\n"
     ]
    },
    {
     "data": {
      "application/vnd.jupyter.widget-view+json": {
       "model_id": "",
       "version_major": 2,
       "version_minor": 0
      },
      "text/plain": [
       "HBox(children=(IntProgress(value=0, max=26), HTML(value='')))"
      ]
     },
     "metadata": {},
     "output_type": "display_data"
    },
    {
     "name": "stderr",
     "output_type": "stream",
     "text": [
      "INFO:root:on epoch 19 by max_f1: 0.854\n"
     ]
    },
    {
     "name": "stdout",
     "output_type": "stream",
     "text": [
      "              precision    recall  f1-score   support\n",
      "\n",
      "       B_ORG      0.786     0.846     0.815       260\n",
      "       I_ORG      0.851     0.767     0.807       283\n",
      "       B_LOC      0.872     0.877     0.875       195\n",
      "       B_PER      0.958     0.963     0.961       191\n",
      "       I_PER      0.969     0.954     0.961       130\n",
      "       I_LOC      0.710     0.629     0.667        35\n",
      "\n",
      "   micro avg      0.867     0.857     0.862      1094\n",
      "   macro avg      0.858     0.839     0.847      1094\n",
      "weighted avg      0.868     0.857     0.862      1094\n",
      "\n"
     ]
    },
    {
     "data": {
      "application/vnd.jupyter.widget-view+json": {
       "model_id": "",
       "version_major": 2,
       "version_minor": 0
      },
      "text/plain": [
       "HBox(children=(IntProgress(value=0, max=233), HTML(value='')))"
      ]
     },
     "metadata": {},
     "output_type": "display_data"
    },
    {
     "name": "stderr",
     "output_type": "stream",
     "text": [
      "INFO:root:\n",
      "epoch 22, average train epoch loss=0.28334\n",
      "\n"
     ]
    },
    {
     "data": {
      "application/vnd.jupyter.widget-view+json": {
       "model_id": "",
       "version_major": 2,
       "version_minor": 0
      },
      "text/plain": [
       "HBox(children=(IntProgress(value=0, max=26), HTML(value='')))"
      ]
     },
     "metadata": {},
     "output_type": "display_data"
    },
    {
     "name": "stderr",
     "output_type": "stream",
     "text": [
      "INFO:root:on epoch 19 by max_f1: 0.854\n"
     ]
    },
    {
     "name": "stdout",
     "output_type": "stream",
     "text": [
      "              precision    recall  f1-score   support\n",
      "\n",
      "       B_ORG      0.801     0.838     0.820       260\n",
      "       I_ORG      0.882     0.763     0.818       283\n",
      "       B_LOC      0.864     0.882     0.873       195\n",
      "       B_PER      0.958     0.958     0.958       191\n",
      "       I_PER      0.961     0.946     0.953       130\n",
      "       I_LOC      0.733     0.629     0.677        35\n",
      "\n",
      "   micro avg      0.877     0.854     0.865      1094\n",
      "   macro avg      0.867     0.836     0.850      1094\n",
      "weighted avg      0.878     0.854     0.864      1094\n",
      "\n"
     ]
    },
    {
     "data": {
      "application/vnd.jupyter.widget-view+json": {
       "model_id": "",
       "version_major": 2,
       "version_minor": 0
      },
      "text/plain": [
       "HBox(children=(IntProgress(value=0, max=233), HTML(value='')))"
      ]
     },
     "metadata": {},
     "output_type": "display_data"
    },
    {
     "name": "stderr",
     "output_type": "stream",
     "text": [
      "INFO:root:\n",
      "epoch 23, average train epoch loss=0.24262\n",
      "\n"
     ]
    },
    {
     "data": {
      "application/vnd.jupyter.widget-view+json": {
       "model_id": "",
       "version_major": 2,
       "version_minor": 0
      },
      "text/plain": [
       "HBox(children=(IntProgress(value=0, max=26), HTML(value='')))"
      ]
     },
     "metadata": {},
     "output_type": "display_data"
    },
    {
     "name": "stderr",
     "output_type": "stream",
     "text": [
      "INFO:root:on epoch 19 by max_f1: 0.854\n"
     ]
    },
    {
     "name": "stdout",
     "output_type": "stream",
     "text": [
      "              precision    recall  f1-score   support\n",
      "\n",
      "       B_ORG      0.827     0.846     0.837       260\n",
      "       I_ORG      0.894     0.777     0.832       283\n",
      "       B_LOC      0.876     0.872     0.874       195\n",
      "       B_PER      0.963     0.958     0.961       191\n",
      "       I_PER      0.961     0.946     0.953       130\n",
      "       I_LOC      0.657     0.657     0.657        35\n",
      "\n",
      "   micro avg      0.887     0.858     0.872      1094\n",
      "   macro avg      0.863     0.843     0.852      1094\n",
      "weighted avg      0.887     0.858     0.872      1094\n",
      "\n"
     ]
    },
    {
     "data": {
      "application/vnd.jupyter.widget-view+json": {
       "model_id": "",
       "version_major": 2,
       "version_minor": 0
      },
      "text/plain": [
       "HBox(children=(IntProgress(value=0, max=233), HTML(value='')))"
      ]
     },
     "metadata": {},
     "output_type": "display_data"
    },
    {
     "name": "stderr",
     "output_type": "stream",
     "text": [
      "INFO:root:\n",
      "epoch 24, average train epoch loss=0.20977\n",
      "\n"
     ]
    },
    {
     "data": {
      "application/vnd.jupyter.widget-view+json": {
       "model_id": "",
       "version_major": 2,
       "version_minor": 0
      },
      "text/plain": [
       "HBox(children=(IntProgress(value=0, max=26), HTML(value='')))"
      ]
     },
     "metadata": {},
     "output_type": "display_data"
    },
    {
     "name": "stderr",
     "output_type": "stream",
     "text": [
      "INFO:root:on epoch 19 by max_f1: 0.854\n"
     ]
    },
    {
     "name": "stdout",
     "output_type": "stream",
     "text": [
      "              precision    recall  f1-score   support\n",
      "\n",
      "       B_ORG      0.809     0.831     0.820       260\n",
      "       I_ORG      0.892     0.760     0.821       283\n",
      "       B_LOC      0.881     0.872     0.876       195\n",
      "       B_PER      0.958     0.963     0.961       191\n",
      "       I_PER      0.969     0.946     0.957       130\n",
      "       I_LOC      0.667     0.629     0.647        35\n",
      "\n",
      "   micro avg      0.883     0.850     0.866      1094\n",
      "   macro avg      0.863     0.833     0.847      1094\n",
      "weighted avg      0.884     0.850     0.865      1094\n",
      "\n"
     ]
    },
    {
     "data": {
      "application/vnd.jupyter.widget-view+json": {
       "model_id": "",
       "version_major": 2,
       "version_minor": 0
      },
      "text/plain": [
       "HBox(children=(IntProgress(value=0, max=233), HTML(value='')))"
      ]
     },
     "metadata": {},
     "output_type": "display_data"
    },
    {
     "name": "stderr",
     "output_type": "stream",
     "text": [
      "INFO:root:\n",
      "epoch 25, average train epoch loss=0.19112\n",
      "\n"
     ]
    },
    {
     "data": {
      "application/vnd.jupyter.widget-view+json": {
       "model_id": "",
       "version_major": 2,
       "version_minor": 0
      },
      "text/plain": [
       "HBox(children=(IntProgress(value=0, max=26), HTML(value='')))"
      ]
     },
     "metadata": {},
     "output_type": "display_data"
    },
    {
     "name": "stderr",
     "output_type": "stream",
     "text": [
      "INFO:root:on epoch 19 by max_f1: 0.854\n"
     ]
    },
    {
     "name": "stdout",
     "output_type": "stream",
     "text": [
      "              precision    recall  f1-score   support\n",
      "\n",
      "       B_ORG      0.821     0.846     0.833       260\n",
      "       I_ORG      0.874     0.784     0.827       283\n",
      "       B_LOC      0.890     0.872     0.881       195\n",
      "       B_PER      0.953     0.963     0.958       191\n",
      "       I_PER      0.968     0.938     0.953       130\n",
      "       I_LOC      0.667     0.629     0.647        35\n",
      "\n",
      "   micro avg      0.883     0.859     0.871      1094\n",
      "   macro avg      0.862     0.839     0.850      1094\n",
      "weighted avg      0.883     0.859     0.870      1094\n",
      "\n"
     ]
    },
    {
     "data": {
      "application/vnd.jupyter.widget-view+json": {
       "model_id": "0507d55c65da43418043e442a82ebf0b",
       "version_major": 2,
       "version_minor": 0
      },
      "text/plain": [
       "HBox(children=(IntProgress(value=0, max=233), HTML(value='')))"
      ]
     },
     "metadata": {},
     "output_type": "display_data"
    }
   ],
   "source": [
    "learner.fit(num_epochs - 1, True, target_metric='f1')"
   ]
  },
  {
   "cell_type": "code",
   "execution_count": 37,
   "metadata": {},
   "outputs": [],
   "source": [
    "from modules.utils.plot_metrics import plot_by_class_curve"
   ]
  },
  {
   "cell_type": "code",
   "execution_count": 34,
   "metadata": {},
   "outputs": [
    {
     "data": {
      "image/png": "[encoded data removed]",
      "text/plain": [
       "<Figure size 1080x720 with 1 Axes>"
      ]
     },
     "metadata": {
      "needs_background": "light"
     },
     "output_type": "display_data"
    }
   ],
   "source": [
    "plot_by_class_curve(learner.history, \"f1\", learner.sup_labels)"
   ]
  },
  {
   "cell_type": "markdown",
   "metadata": {},
   "source": [
    "### 5. Predict on new data\n",
    "Create new data loader from existing path."
   ]
  },
  {
   "cell_type": "code",
   "execution_count": 38,
   "metadata": {},
   "outputs": [],
   "source": [
    "from modules.data.elmo_data import get_elmo_data_loader_for_predict"
   ]
  },
  {
   "cell_type": "code",
   "execution_count": 24,
   "metadata": {},
   "outputs": [],
   "source": [
    "dl = get_elmo_data_loader_for_predict(data_path + \"valid_with_pos.csv\", learner)"
   ]
  },
  {
   "cell_type": "markdown",
   "metadata": {},
   "source": [
    "Load our best model."
   ]
  },
  {
   "cell_type": "code",
   "execution_count": 25,
   "metadata": {},
   "outputs": [],
   "source": [
    "learner.load_model()"
   ]
  },
  {
   "cell_type": "markdown",
   "metadata": {},
   "source": [
    "Call predict from learner."
   ]
  },
  {
   "cell_type": "code",
   "execution_count": 39,
   "metadata": {},
   "outputs": [
    {
     "data": {
      "application/vnd.jupyter.widget-view+json": {
       "model_id": "",
       "version_major": 2,
       "version_minor": 0
      },
      "text/plain": [
       "HBox(children=(IntProgress(value=0, max=26), HTML(value='')))"
      ]
     },
     "metadata": {},
     "output_type": "display_data"
    }
   ],
   "source": [
    "preds = learner.predict(dl)"
   ]
  },
  {
   "cell_type": "markdown",
   "metadata": {},
   "source": [
    "### 6. Transform predictions to tokens and spans"
   ]
  },
  {
   "cell_type": "code",
   "execution_count": 27,
   "metadata": {},
   "outputs": [
    {
     "name": "stdout",
     "output_type": "stream",
     "text": [
      "['<bos>', 'Сделка', 'состоится', ',', 'если', 'будет', 'одобрена', 'регуляторами', ',', 'из-за', 'которых', 'в', 'начале', 'года', 'сорвалось', 'слияние', 'NYSE', 'Euronext', 'с', 'Deutsche', 'Börse', '<eos>']\n",
      "['<bos>', 'O', 'O', 'O', 'O', 'O', 'O', 'O', 'O', 'O', 'O', 'O', 'O', 'O', 'O', 'O', 'B_ORG', 'I_ORG', 'O', 'B_ORG', 'I_ORG', '<eos>']\n"
     ]
    }
   ],
   "source": [
    "from modules.utils.utils import tokens2spans\n",
    "\n",
    "\n",
    "tp, lp = [x.tokens for x in dl.dataset], preds\n",
    "print(tp[0])\n",
    "print(lp[0])"
   ]
  },
  {
   "cell_type": "code",
   "execution_count": 28,
   "metadata": {},
   "outputs": [],
   "source": [
    "sp = tokens2spans(tp, lp)"
   ]
  },
  {
   "cell_type": "code",
   "execution_count": 29,
   "metadata": {},
   "outputs": [
    {
     "name": "stdout",
     "output_type": "stream",
     "text": [
      "[('<bos>', '<bos>'), ('Сделка', 'O'), ('состоится', 'O'), (',', 'O'), ('если', 'O'), ('будет', 'O'), ('одобрена', 'O'), ('регуляторами', 'O'), (',', 'O'), ('из-за', 'O'), ('которых', 'O'), ('в', 'O'), ('начале', 'O'), ('года', 'O'), ('сорвалось', 'O'), ('слияние', 'O'), ('NYSE Euronext', 'ORG'), ('с', 'O'), ('Deutsche Börse', 'ORG')]\n"
     ]
    }
   ],
   "source": [
    "print(sp[0])"
   ]
  },
  {
   "cell_type": "markdown",
   "metadata": {},
   "source": [
    "### 7. Evaluate"
   ]
  },
  {
   "cell_type": "markdown",
   "metadata": {},
   "source": [
    "IOB precision"
   ]
  },
  {
   "cell_type": "code",
   "execution_count": 30,
   "metadata": {},
   "outputs": [
    {
     "data": {
      "application/vnd.jupyter.widget-view+json": {
       "model_id": "",
       "version_major": 2,
       "version_minor": 0
      },
      "text/plain": [
       "HBox(children=(IntProgress(value=0, max=26), HTML(value='')))"
      ]
     },
     "metadata": {},
     "output_type": "display_data"
    },
    {
     "name": "stdout",
     "output_type": "stream",
     "text": [
      "              precision    recall  f1-score   support\n",
      "\n",
      "       B_ORG      0.821     0.862     0.841       260\n",
      "       I_ORG      0.917     0.784     0.846       283\n",
      "       B_LOC      0.877     0.877     0.877       195\n",
      "       B_PER      0.963     0.963     0.963       191\n",
      "       I_PER      0.977     0.962     0.969       130\n",
      "       I_LOC      0.639     0.657     0.648        35\n",
      "\n",
      "   micro avg      0.891     0.867     0.879      1094\n",
      "   macro avg      0.866     0.851     0.857      1094\n",
      "weighted avg      0.893     0.867     0.879      1094\n",
      "\n"
     ]
    }
   ],
   "source": [
    "from modules.train.train import validate_step\n",
    "print(validate_step(learner.data.valid_dl, learner.model, learner.data.id2label, learner.sup_labels))"
   ]
  },
  {
   "cell_type": "markdown",
   "metadata": {},
   "source": [
    "Span precision"
   ]
  },
  {
   "cell_type": "code",
   "execution_count": 31,
   "metadata": {},
   "outputs": [
    {
     "name": "stdout",
     "output_type": "stream",
     "text": [
      "              precision    recall  f1-score   support\n",
      "\n",
      "         PER      0.880     0.885     0.883       191\n",
      "         LOC      0.773     0.785     0.779       195\n",
      "         ORG      0.760     0.815     0.787       260\n",
      "\n",
      "   micro avg      0.798     0.827     0.812       646\n",
      "   macro avg      0.804     0.828     0.816       646\n",
      "weighted avg      0.799     0.827     0.813       646\n",
      "\n"
     ]
    }
   ],
   "source": [
    "from modules.utils.plot_metrics import get_elmo_span_report\n",
    "clf_report = get_elmo_span_report(dl, preds)\n",
    "print(clf_report)"
   ]
  }
 ],
 "metadata": {
  "kernelspec": {
   "display_name": "Python 3",
   "language": "python",
   "name": "python3"
  },
  "language_info": {
   "codemirror_mode": {
    "name": "ipython",
    "version": 3
   },
   "file_extension": ".py",
   "mimetype": "text/x-python",
   "name": "python",
   "nbconvert_exporter": "python",
   "pygments_lexer": "ipython3",
   "version": "3.6.5"
  }
 },
 "nbformat": 4,
 "nbformat_minor": 2
}
